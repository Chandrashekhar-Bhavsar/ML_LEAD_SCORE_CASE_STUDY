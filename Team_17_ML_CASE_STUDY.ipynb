{
  "nbformat": 4,
  "nbformat_minor": 0,
  "metadata": {
    "colab": {
      "provenance": []
    },
    "kernelspec": {
      "name": "python3",
      "display_name": "Python 3"
    },
    "language_info": {
      "name": "python"
    }
  },
  "cells": [
    {
      "cell_type": "code",
      "execution_count": 456,
      "metadata": {
        "id": "YeQdvN9yJv9p"
      },
      "outputs": [],
      "source": [
        "import pandas as pd\n",
        "import numpy as np\n",
        "import matplotlib.pyplot as plt"
      ]
    },
    {
      "cell_type": "code",
      "source": [
        "#MOUNTING G DRIVE AND GIVING FULL ACCESS TO GOOGLE COLLAB SO THAT IT CAN ACCESS ALL FILES IN GOOGLE DRIVE\n",
        "from google.colab import drive\n",
        "drive.mount('/gdrive')\n",
        "%cd /gdrive"
      ],
      "metadata": {
        "colab": {
          "base_uri": "https://localhost:8080/"
        },
        "id": "UnIcvSJwMOdH",
        "outputId": "f8f5ea5f-bbb5-4d83-9596-0d6eae09bdfe"
      },
      "execution_count": 457,
      "outputs": [
        {
          "output_type": "stream",
          "name": "stdout",
          "text": [
            "Drive already mounted at /gdrive; to attempt to forcibly remount, call drive.mount(\"/gdrive\", force_remount=True).\n",
            "/gdrive\n"
          ]
        }
      ]
    },
    {
      "cell_type": "code",
      "source": [
        "#GIVING FILE PATH SO THAT GOOGLE COLLAB CAN ACCESS THE FILE \n",
        "url ='/gdrive/MyDrive/ML CASE STUDY/Leads.csv'\n",
        "lead_df = pd.read_csv(url)"
      ],
      "metadata": {
        "id": "BMXzamw0MQg2"
      },
      "execution_count": 458,
      "outputs": []
    },
    {
      "cell_type": "code",
      "source": [
        "#checking no of columns and no. of records\n",
        "lead_df.shape"
      ],
      "metadata": {
        "colab": {
          "base_uri": "https://localhost:8080/"
        },
        "id": "gvSuUr2nMmZX",
        "outputId": "97a5f5ee-e240-43d5-b7ae-820b97b173cb"
      },
      "execution_count": 459,
      "outputs": [
        {
          "output_type": "execute_result",
          "data": {
            "text/plain": [
              "(9240, 37)"
            ]
          },
          "metadata": {},
          "execution_count": 459
        }
      ]
    },
    {
      "cell_type": "code",
      "source": [
        "lead_df.info()"
      ],
      "metadata": {
        "colab": {
          "base_uri": "https://localhost:8080/"
        },
        "id": "3JDAlyFbMpV3",
        "outputId": "b2ecaac3-70ad-4e39-dc28-e486f0f8c6ab"
      },
      "execution_count": 460,
      "outputs": [
        {
          "output_type": "stream",
          "name": "stdout",
          "text": [
            "<class 'pandas.core.frame.DataFrame'>\n",
            "RangeIndex: 9240 entries, 0 to 9239\n",
            "Data columns (total 37 columns):\n",
            " #   Column                                         Non-Null Count  Dtype  \n",
            "---  ------                                         --------------  -----  \n",
            " 0   Prospect ID                                    9240 non-null   object \n",
            " 1   Lead Number                                    9240 non-null   int64  \n",
            " 2   Lead Origin                                    9240 non-null   object \n",
            " 3   Lead Source                                    9204 non-null   object \n",
            " 4   Do Not Email                                   9240 non-null   object \n",
            " 5   Do Not Call                                    9240 non-null   object \n",
            " 6   Converted                                      9240 non-null   int64  \n",
            " 7   TotalVisits                                    9103 non-null   float64\n",
            " 8   Total Time Spent on Website                    9240 non-null   int64  \n",
            " 9   Page Views Per Visit                           9103 non-null   float64\n",
            " 10  Last Activity                                  9137 non-null   object \n",
            " 11  Country                                        6779 non-null   object \n",
            " 12  Specialization                                 7802 non-null   object \n",
            " 13  How did you hear about X Education             7033 non-null   object \n",
            " 14  What is your current occupation                6550 non-null   object \n",
            " 15  What matters most to you in choosing a course  6531 non-null   object \n",
            " 16  Search                                         9240 non-null   object \n",
            " 17  Magazine                                       9240 non-null   object \n",
            " 18  Newspaper Article                              9240 non-null   object \n",
            " 19  X Education Forums                             9240 non-null   object \n",
            " 20  Newspaper                                      9240 non-null   object \n",
            " 21  Digital Advertisement                          9240 non-null   object \n",
            " 22  Through Recommendations                        9240 non-null   object \n",
            " 23  Receive More Updates About Our Courses         9240 non-null   object \n",
            " 24  Tags                                           5887 non-null   object \n",
            " 25  Lead Quality                                   4473 non-null   object \n",
            " 26  Update me on Supply Chain Content              9240 non-null   object \n",
            " 27  Get updates on DM Content                      9240 non-null   object \n",
            " 28  Lead Profile                                   6531 non-null   object \n",
            " 29  City                                           7820 non-null   object \n",
            " 30  Asymmetrique Activity Index                    5022 non-null   object \n",
            " 31  Asymmetrique Profile Index                     5022 non-null   object \n",
            " 32  Asymmetrique Activity Score                    5022 non-null   float64\n",
            " 33  Asymmetrique Profile Score                     5022 non-null   float64\n",
            " 34  I agree to pay the amount through cheque       9240 non-null   object \n",
            " 35  A free copy of Mastering The Interview         9240 non-null   object \n",
            " 36  Last Notable Activity                          9240 non-null   object \n",
            "dtypes: float64(4), int64(3), object(30)\n",
            "memory usage: 2.6+ MB\n"
          ]
        }
      ]
    },
    {
      "cell_type": "code",
      "source": [
        "lead_df.head()"
      ],
      "metadata": {
        "colab": {
          "base_uri": "https://localhost:8080/",
          "height": 629
        },
        "id": "dCoICJ71T2lx",
        "outputId": "4640384f-fd7e-4328-e952-f6d05b781d86"
      },
      "execution_count": 461,
      "outputs": [
        {
          "output_type": "execute_result",
          "data": {
            "text/plain": [
              "                            Prospect ID  Lead Number              Lead Origin  \\\n",
              "0  7927b2df-8bba-4d29-b9a2-b6e0beafe620       660737                      API   \n",
              "1  2a272436-5132-4136-86fa-dcc88c88f482       660728                      API   \n",
              "2  8cc8c611-a219-4f35-ad23-fdfd2656bd8a       660727  Landing Page Submission   \n",
              "3  0cc2df48-7cf4-4e39-9de9-19797f9b38cc       660719  Landing Page Submission   \n",
              "4  3256f628-e534-4826-9d63-4a8b88782852       660681  Landing Page Submission   \n",
              "\n",
              "      Lead Source Do Not Email Do Not Call  Converted  TotalVisits  \\\n",
              "0      Olark Chat           No          No          0          0.0   \n",
              "1  Organic Search           No          No          0          5.0   \n",
              "2  Direct Traffic           No          No          1          2.0   \n",
              "3  Direct Traffic           No          No          0          1.0   \n",
              "4          Google           No          No          1          2.0   \n",
              "\n",
              "   Total Time Spent on Website  Page Views Per Visit  ...  \\\n",
              "0                            0                   0.0  ...   \n",
              "1                          674                   2.5  ...   \n",
              "2                         1532                   2.0  ...   \n",
              "3                          305                   1.0  ...   \n",
              "4                         1428                   1.0  ...   \n",
              "\n",
              "  Get updates on DM Content    Lead Profile    City  \\\n",
              "0                        No          Select  Select   \n",
              "1                        No          Select  Select   \n",
              "2                        No  Potential Lead  Mumbai   \n",
              "3                        No          Select  Mumbai   \n",
              "4                        No          Select  Mumbai   \n",
              "\n",
              "  Asymmetrique Activity Index Asymmetrique Profile Index  \\\n",
              "0                   02.Medium                  02.Medium   \n",
              "1                   02.Medium                  02.Medium   \n",
              "2                   02.Medium                    01.High   \n",
              "3                   02.Medium                    01.High   \n",
              "4                   02.Medium                    01.High   \n",
              "\n",
              "  Asymmetrique Activity Score Asymmetrique Profile Score  \\\n",
              "0                        15.0                       15.0   \n",
              "1                        15.0                       15.0   \n",
              "2                        14.0                       20.0   \n",
              "3                        13.0                       17.0   \n",
              "4                        15.0                       18.0   \n",
              "\n",
              "  I agree to pay the amount through cheque  \\\n",
              "0                                       No   \n",
              "1                                       No   \n",
              "2                                       No   \n",
              "3                                       No   \n",
              "4                                       No   \n",
              "\n",
              "  A free copy of Mastering The Interview Last Notable Activity  \n",
              "0                                     No              Modified  \n",
              "1                                     No          Email Opened  \n",
              "2                                    Yes          Email Opened  \n",
              "3                                     No              Modified  \n",
              "4                                     No              Modified  \n",
              "\n",
              "[5 rows x 37 columns]"
            ],
            "text/html": [
              "\n",
              "  <div id=\"df-4853c6ea-3727-4cd1-852c-b540b37d073a\">\n",
              "    <div class=\"colab-df-container\">\n",
              "      <div>\n",
              "<style scoped>\n",
              "    .dataframe tbody tr th:only-of-type {\n",
              "        vertical-align: middle;\n",
              "    }\n",
              "\n",
              "    .dataframe tbody tr th {\n",
              "        vertical-align: top;\n",
              "    }\n",
              "\n",
              "    .dataframe thead th {\n",
              "        text-align: right;\n",
              "    }\n",
              "</style>\n",
              "<table border=\"1\" class=\"dataframe\">\n",
              "  <thead>\n",
              "    <tr style=\"text-align: right;\">\n",
              "      <th></th>\n",
              "      <th>Prospect ID</th>\n",
              "      <th>Lead Number</th>\n",
              "      <th>Lead Origin</th>\n",
              "      <th>Lead Source</th>\n",
              "      <th>Do Not Email</th>\n",
              "      <th>Do Not Call</th>\n",
              "      <th>Converted</th>\n",
              "      <th>TotalVisits</th>\n",
              "      <th>Total Time Spent on Website</th>\n",
              "      <th>Page Views Per Visit</th>\n",
              "      <th>...</th>\n",
              "      <th>Get updates on DM Content</th>\n",
              "      <th>Lead Profile</th>\n",
              "      <th>City</th>\n",
              "      <th>Asymmetrique Activity Index</th>\n",
              "      <th>Asymmetrique Profile Index</th>\n",
              "      <th>Asymmetrique Activity Score</th>\n",
              "      <th>Asymmetrique Profile Score</th>\n",
              "      <th>I agree to pay the amount through cheque</th>\n",
              "      <th>A free copy of Mastering The Interview</th>\n",
              "      <th>Last Notable Activity</th>\n",
              "    </tr>\n",
              "  </thead>\n",
              "  <tbody>\n",
              "    <tr>\n",
              "      <th>0</th>\n",
              "      <td>7927b2df-8bba-4d29-b9a2-b6e0beafe620</td>\n",
              "      <td>660737</td>\n",
              "      <td>API</td>\n",
              "      <td>Olark Chat</td>\n",
              "      <td>No</td>\n",
              "      <td>No</td>\n",
              "      <td>0</td>\n",
              "      <td>0.0</td>\n",
              "      <td>0</td>\n",
              "      <td>0.0</td>\n",
              "      <td>...</td>\n",
              "      <td>No</td>\n",
              "      <td>Select</td>\n",
              "      <td>Select</td>\n",
              "      <td>02.Medium</td>\n",
              "      <td>02.Medium</td>\n",
              "      <td>15.0</td>\n",
              "      <td>15.0</td>\n",
              "      <td>No</td>\n",
              "      <td>No</td>\n",
              "      <td>Modified</td>\n",
              "    </tr>\n",
              "    <tr>\n",
              "      <th>1</th>\n",
              "      <td>2a272436-5132-4136-86fa-dcc88c88f482</td>\n",
              "      <td>660728</td>\n",
              "      <td>API</td>\n",
              "      <td>Organic Search</td>\n",
              "      <td>No</td>\n",
              "      <td>No</td>\n",
              "      <td>0</td>\n",
              "      <td>5.0</td>\n",
              "      <td>674</td>\n",
              "      <td>2.5</td>\n",
              "      <td>...</td>\n",
              "      <td>No</td>\n",
              "      <td>Select</td>\n",
              "      <td>Select</td>\n",
              "      <td>02.Medium</td>\n",
              "      <td>02.Medium</td>\n",
              "      <td>15.0</td>\n",
              "      <td>15.0</td>\n",
              "      <td>No</td>\n",
              "      <td>No</td>\n",
              "      <td>Email Opened</td>\n",
              "    </tr>\n",
              "    <tr>\n",
              "      <th>2</th>\n",
              "      <td>8cc8c611-a219-4f35-ad23-fdfd2656bd8a</td>\n",
              "      <td>660727</td>\n",
              "      <td>Landing Page Submission</td>\n",
              "      <td>Direct Traffic</td>\n",
              "      <td>No</td>\n",
              "      <td>No</td>\n",
              "      <td>1</td>\n",
              "      <td>2.0</td>\n",
              "      <td>1532</td>\n",
              "      <td>2.0</td>\n",
              "      <td>...</td>\n",
              "      <td>No</td>\n",
              "      <td>Potential Lead</td>\n",
              "      <td>Mumbai</td>\n",
              "      <td>02.Medium</td>\n",
              "      <td>01.High</td>\n",
              "      <td>14.0</td>\n",
              "      <td>20.0</td>\n",
              "      <td>No</td>\n",
              "      <td>Yes</td>\n",
              "      <td>Email Opened</td>\n",
              "    </tr>\n",
              "    <tr>\n",
              "      <th>3</th>\n",
              "      <td>0cc2df48-7cf4-4e39-9de9-19797f9b38cc</td>\n",
              "      <td>660719</td>\n",
              "      <td>Landing Page Submission</td>\n",
              "      <td>Direct Traffic</td>\n",
              "      <td>No</td>\n",
              "      <td>No</td>\n",
              "      <td>0</td>\n",
              "      <td>1.0</td>\n",
              "      <td>305</td>\n",
              "      <td>1.0</td>\n",
              "      <td>...</td>\n",
              "      <td>No</td>\n",
              "      <td>Select</td>\n",
              "      <td>Mumbai</td>\n",
              "      <td>02.Medium</td>\n",
              "      <td>01.High</td>\n",
              "      <td>13.0</td>\n",
              "      <td>17.0</td>\n",
              "      <td>No</td>\n",
              "      <td>No</td>\n",
              "      <td>Modified</td>\n",
              "    </tr>\n",
              "    <tr>\n",
              "      <th>4</th>\n",
              "      <td>3256f628-e534-4826-9d63-4a8b88782852</td>\n",
              "      <td>660681</td>\n",
              "      <td>Landing Page Submission</td>\n",
              "      <td>Google</td>\n",
              "      <td>No</td>\n",
              "      <td>No</td>\n",
              "      <td>1</td>\n",
              "      <td>2.0</td>\n",
              "      <td>1428</td>\n",
              "      <td>1.0</td>\n",
              "      <td>...</td>\n",
              "      <td>No</td>\n",
              "      <td>Select</td>\n",
              "      <td>Mumbai</td>\n",
              "      <td>02.Medium</td>\n",
              "      <td>01.High</td>\n",
              "      <td>15.0</td>\n",
              "      <td>18.0</td>\n",
              "      <td>No</td>\n",
              "      <td>No</td>\n",
              "      <td>Modified</td>\n",
              "    </tr>\n",
              "  </tbody>\n",
              "</table>\n",
              "<p>5 rows × 37 columns</p>\n",
              "</div>\n",
              "      <button class=\"colab-df-convert\" onclick=\"convertToInteractive('df-4853c6ea-3727-4cd1-852c-b540b37d073a')\"\n",
              "              title=\"Convert this dataframe to an interactive table.\"\n",
              "              style=\"display:none;\">\n",
              "        \n",
              "  <svg xmlns=\"http://www.w3.org/2000/svg\" height=\"24px\"viewBox=\"0 0 24 24\"\n",
              "       width=\"24px\">\n",
              "    <path d=\"M0 0h24v24H0V0z\" fill=\"none\"/>\n",
              "    <path d=\"M18.56 5.44l.94 2.06.94-2.06 2.06-.94-2.06-.94-.94-2.06-.94 2.06-2.06.94zm-11 1L8.5 8.5l.94-2.06 2.06-.94-2.06-.94L8.5 2.5l-.94 2.06-2.06.94zm10 10l.94 2.06.94-2.06 2.06-.94-2.06-.94-.94-2.06-.94 2.06-2.06.94z\"/><path d=\"M17.41 7.96l-1.37-1.37c-.4-.4-.92-.59-1.43-.59-.52 0-1.04.2-1.43.59L10.3 9.45l-7.72 7.72c-.78.78-.78 2.05 0 2.83L4 21.41c.39.39.9.59 1.41.59.51 0 1.02-.2 1.41-.59l7.78-7.78 2.81-2.81c.8-.78.8-2.07 0-2.86zM5.41 20L4 18.59l7.72-7.72 1.47 1.35L5.41 20z\"/>\n",
              "  </svg>\n",
              "      </button>\n",
              "      \n",
              "  <style>\n",
              "    .colab-df-container {\n",
              "      display:flex;\n",
              "      flex-wrap:wrap;\n",
              "      gap: 12px;\n",
              "    }\n",
              "\n",
              "    .colab-df-convert {\n",
              "      background-color: #E8F0FE;\n",
              "      border: none;\n",
              "      border-radius: 50%;\n",
              "      cursor: pointer;\n",
              "      display: none;\n",
              "      fill: #1967D2;\n",
              "      height: 32px;\n",
              "      padding: 0 0 0 0;\n",
              "      width: 32px;\n",
              "    }\n",
              "\n",
              "    .colab-df-convert:hover {\n",
              "      background-color: #E2EBFA;\n",
              "      box-shadow: 0px 1px 2px rgba(60, 64, 67, 0.3), 0px 1px 3px 1px rgba(60, 64, 67, 0.15);\n",
              "      fill: #174EA6;\n",
              "    }\n",
              "\n",
              "    [theme=dark] .colab-df-convert {\n",
              "      background-color: #3B4455;\n",
              "      fill: #D2E3FC;\n",
              "    }\n",
              "\n",
              "    [theme=dark] .colab-df-convert:hover {\n",
              "      background-color: #434B5C;\n",
              "      box-shadow: 0px 1px 3px 1px rgba(0, 0, 0, 0.15);\n",
              "      filter: drop-shadow(0px 1px 2px rgba(0, 0, 0, 0.3));\n",
              "      fill: #FFFFFF;\n",
              "    }\n",
              "  </style>\n",
              "\n",
              "      <script>\n",
              "        const buttonEl =\n",
              "          document.querySelector('#df-4853c6ea-3727-4cd1-852c-b540b37d073a button.colab-df-convert');\n",
              "        buttonEl.style.display =\n",
              "          google.colab.kernel.accessAllowed ? 'block' : 'none';\n",
              "\n",
              "        async function convertToInteractive(key) {\n",
              "          const element = document.querySelector('#df-4853c6ea-3727-4cd1-852c-b540b37d073a');\n",
              "          const dataTable =\n",
              "            await google.colab.kernel.invokeFunction('convertToInteractive',\n",
              "                                                     [key], {});\n",
              "          if (!dataTable) return;\n",
              "\n",
              "          const docLinkHtml = 'Like what you see? Visit the ' +\n",
              "            '<a target=\"_blank\" href=https://colab.research.google.com/notebooks/data_table.ipynb>data table notebook</a>'\n",
              "            + ' to learn more about interactive tables.';\n",
              "          element.innerHTML = '';\n",
              "          dataTable['output_type'] = 'display_data';\n",
              "          await google.colab.output.renderOutput(dataTable, element);\n",
              "          const docLink = document.createElement('div');\n",
              "          docLink.innerHTML = docLinkHtml;\n",
              "          element.appendChild(docLink);\n",
              "        }\n",
              "      </script>\n",
              "    </div>\n",
              "  </div>\n",
              "  "
            ]
          },
          "metadata": {},
          "execution_count": 461
        }
      ]
    },
    {
      "cell_type": "code",
      "source": [
        "lead_df2=lead_df"
      ],
      "metadata": {
        "id": "9_pOkrgnkp1F"
      },
      "execution_count": 462,
      "outputs": []
    },
    {
      "cell_type": "code",
      "source": [
        "#Dropping Prospect ID and Lead Number columns as they are just working as index\n",
        "#There will no be any significance in output of prediciton of this two columns\n",
        "lead_df=lead_df.drop(['Prospect ID','Lead Number'],axis=1)"
      ],
      "metadata": {
        "id": "UbMJ9f_hfHM8"
      },
      "execution_count": 463,
      "outputs": []
    },
    {
      "cell_type": "code",
      "source": [
        "lead_df.shape"
      ],
      "metadata": {
        "colab": {
          "base_uri": "https://localhost:8080/"
        },
        "id": "-9UbEa5ue9G-",
        "outputId": "6d9f9dae-ce95-4d2c-f001-202c4b864ab9"
      },
      "execution_count": 464,
      "outputs": [
        {
          "output_type": "execute_result",
          "data": {
            "text/plain": [
              "(9240, 35)"
            ]
          },
          "metadata": {},
          "execution_count": 464
        }
      ]
    },
    {
      "cell_type": "code",
      "source": [
        "lead_df.isna().sum()"
      ],
      "metadata": {
        "colab": {
          "base_uri": "https://localhost:8080/"
        },
        "id": "y9C3qkfjfryb",
        "outputId": "bc8b590a-d2e8-4287-81e8-11ebe5764cb9"
      },
      "execution_count": 465,
      "outputs": [
        {
          "output_type": "execute_result",
          "data": {
            "text/plain": [
              "Lead Origin                                         0\n",
              "Lead Source                                        36\n",
              "Do Not Email                                        0\n",
              "Do Not Call                                         0\n",
              "Converted                                           0\n",
              "TotalVisits                                       137\n",
              "Total Time Spent on Website                         0\n",
              "Page Views Per Visit                              137\n",
              "Last Activity                                     103\n",
              "Country                                          2461\n",
              "Specialization                                   1438\n",
              "How did you hear about X Education               2207\n",
              "What is your current occupation                  2690\n",
              "What matters most to you in choosing a course    2709\n",
              "Search                                              0\n",
              "Magazine                                            0\n",
              "Newspaper Article                                   0\n",
              "X Education Forums                                  0\n",
              "Newspaper                                           0\n",
              "Digital Advertisement                               0\n",
              "Through Recommendations                             0\n",
              "Receive More Updates About Our Courses              0\n",
              "Tags                                             3353\n",
              "Lead Quality                                     4767\n",
              "Update me on Supply Chain Content                   0\n",
              "Get updates on DM Content                           0\n",
              "Lead Profile                                     2709\n",
              "City                                             1420\n",
              "Asymmetrique Activity Index                      4218\n",
              "Asymmetrique Profile Index                       4218\n",
              "Asymmetrique Activity Score                      4218\n",
              "Asymmetrique Profile Score                       4218\n",
              "I agree to pay the amount through cheque            0\n",
              "A free copy of Mastering The Interview              0\n",
              "Last Notable Activity                               0\n",
              "dtype: int64"
            ]
          },
          "metadata": {},
          "execution_count": 465
        }
      ]
    },
    {
      "cell_type": "markdown",
      "source": [
        "1. From this description we can see there are lots of null values in feature\n",
        "2. by this we can calculate percentage of null values in each column and further can decide to handle null values"
      ],
      "metadata": {
        "id": "HA_H7-3KhOl9"
      }
    },
    {
      "cell_type": "code",
      "source": [
        "round(100*(lead_df.isnull().sum()/len(lead_df.index)),2)"
      ],
      "metadata": {
        "colab": {
          "base_uri": "https://localhost:8080/"
        },
        "id": "eFJ4hsfOg70U",
        "outputId": "65857099-d0b3-4dd7-8e74-d68e1e00cfa1"
      },
      "execution_count": 466,
      "outputs": [
        {
          "output_type": "execute_result",
          "data": {
            "text/plain": [
              "Lead Origin                                       0.00\n",
              "Lead Source                                       0.39\n",
              "Do Not Email                                      0.00\n",
              "Do Not Call                                       0.00\n",
              "Converted                                         0.00\n",
              "TotalVisits                                       1.48\n",
              "Total Time Spent on Website                       0.00\n",
              "Page Views Per Visit                              1.48\n",
              "Last Activity                                     1.11\n",
              "Country                                          26.63\n",
              "Specialization                                   15.56\n",
              "How did you hear about X Education               23.89\n",
              "What is your current occupation                  29.11\n",
              "What matters most to you in choosing a course    29.32\n",
              "Search                                            0.00\n",
              "Magazine                                          0.00\n",
              "Newspaper Article                                 0.00\n",
              "X Education Forums                                0.00\n",
              "Newspaper                                         0.00\n",
              "Digital Advertisement                             0.00\n",
              "Through Recommendations                           0.00\n",
              "Receive More Updates About Our Courses            0.00\n",
              "Tags                                             36.29\n",
              "Lead Quality                                     51.59\n",
              "Update me on Supply Chain Content                 0.00\n",
              "Get updates on DM Content                         0.00\n",
              "Lead Profile                                     29.32\n",
              "City                                             15.37\n",
              "Asymmetrique Activity Index                      45.65\n",
              "Asymmetrique Profile Index                       45.65\n",
              "Asymmetrique Activity Score                      45.65\n",
              "Asymmetrique Profile Score                       45.65\n",
              "I agree to pay the amount through cheque          0.00\n",
              "A free copy of Mastering The Interview            0.00\n",
              "Last Notable Activity                             0.00\n",
              "dtype: float64"
            ]
          },
          "metadata": {},
          "execution_count": 466
        }
      ]
    },
    {
      "cell_type": "markdown",
      "source": [
        "1. Here we can see there are some columns which are having more than 40% null values.\n",
        "2. Even though we replaced null values it will create a biased significant to output variable.\n",
        "3. Due to this inrealible significant is get created to output variable\n",
        "4. so that it is better to drop this columns"
      ],
      "metadata": {
        "id": "noTXXI7Yd2jF"
      }
    },
    {
      "cell_type": "code",
      "source": [
        "lead_df=lead_df.drop(['Lead Quality','Asymmetrique Activity Index','Asymmetrique Profile Index','Asymmetrique Activity Score','Asymmetrique Profile Score'],axis=1)"
      ],
      "metadata": {
        "id": "vr3xwgi8d1gl"
      },
      "execution_count": 467,
      "outputs": []
    },
    {
      "cell_type": "code",
      "source": [
        "lead_df.shape"
      ],
      "metadata": {
        "colab": {
          "base_uri": "https://localhost:8080/"
        },
        "id": "0sWDFEPyiXd_",
        "outputId": "12519e54-fd99-433a-c5f0-da452aad4705"
      },
      "execution_count": 468,
      "outputs": [
        {
          "output_type": "execute_result",
          "data": {
            "text/plain": [
              "(9240, 30)"
            ]
          },
          "metadata": {},
          "execution_count": 468
        }
      ]
    },
    {
      "cell_type": "markdown",
      "source": [
        "#Analysing each categorical Features"
      ],
      "metadata": {
        "id": "XnBdrJIFjplD"
      }
    },
    {
      "cell_type": "code",
      "source": [
        "lead_df['Lead Origin'].unique()"
      ],
      "metadata": {
        "colab": {
          "base_uri": "https://localhost:8080/"
        },
        "id": "f4oBpc4OWxVK",
        "outputId": "b75d4a3c-0e6d-41e8-9217-cce543534174"
      },
      "execution_count": 469,
      "outputs": [
        {
          "output_type": "execute_result",
          "data": {
            "text/plain": [
              "array(['API', 'Landing Page Submission', 'Lead Add Form', 'Lead Import',\n",
              "       'Quick Add Form'], dtype=object)"
            ]
          },
          "metadata": {},
          "execution_count": 469
        }
      ]
    },
    {
      "cell_type": "code",
      "source": [
        "import seaborn as sns \n",
        "ax=sns.countplot(x=lead_df['Lead Origin'].values,data=lead_df)\n",
        "ax.set_xticklabels(ax.get_xticklabels(),rotation=90)\n",
        "plt.figure(figsize=(20,10))"
      ],
      "metadata": {
        "colab": {
          "base_uri": "https://localhost:8080/",
          "height": 434
        },
        "id": "3RRx9LgZjumy",
        "outputId": "e7f1e634-a217-415f-afa8-c1e52073775b"
      },
      "execution_count": 470,
      "outputs": [
        {
          "output_type": "execute_result",
          "data": {
            "text/plain": [
              "<Figure size 1440x720 with 0 Axes>"
            ]
          },
          "metadata": {},
          "execution_count": 470
        },
        {
          "output_type": "display_data",
          "data": {
            "text/plain": [
              "<Figure size 432x288 with 1 Axes>"
            ],
            "image/png": "[encoded data removed]"
          },
          "metadata": {
            "needs_background": "light"
          }
        },
        {
          "output_type": "display_data",
          "data": {
            "text/plain": [
              "<Figure size 1440x720 with 0 Axes>"
            ]
          },
          "metadata": {}
        }
      ]
    },
    {
      "cell_type": "markdown",
      "source": [
        "From above graph we can see there is no missing value and null value in feature lead origin"
      ],
      "metadata": {
        "id": "HOoxA021bNsk"
      }
    },
    {
      "cell_type": "code",
      "source": [
        "lead_df['Lead Source'].unique()"
      ],
      "metadata": {
        "colab": {
          "base_uri": "https://localhost:8080/"
        },
        "id": "qAeyCu1vJyzO",
        "outputId": "1c1cba71-e035-4e79-d208-7da2a570a70c"
      },
      "execution_count": 471,
      "outputs": [
        {
          "output_type": "execute_result",
          "data": {
            "text/plain": [
              "array(['Olark Chat', 'Organic Search', 'Direct Traffic', 'Google',\n",
              "       'Referral Sites', 'Welingak Website', 'Reference', 'google',\n",
              "       'Facebook', nan, 'blog', 'Pay per Click Ads', 'bing',\n",
              "       'Social Media', 'WeLearn', 'Click2call', 'Live Chat',\n",
              "       'welearnblog_Home', 'youtubechannel', 'testone', 'Press_Release',\n",
              "       'NC_EDM'], dtype=object)"
            ]
          },
          "metadata": {},
          "execution_count": 471
        }
      ]
    },
    {
      "cell_type": "code",
      "source": [
        "ax=sns.countplot(x=lead_df['Lead Source'].values,data=lead_df)\n",
        "ax.set_xticklabels(ax.get_xticklabels(),rotation=90)\n",
        "plt.figure(figsize=(20,10))"
      ],
      "metadata": {
        "colab": {
          "base_uri": "https://localhost:8080/",
          "height": 402
        },
        "id": "QxX57tFwJ32W",
        "outputId": "fd6a85d0-6eec-4cf6-e013-25d87543c739"
      },
      "execution_count": 472,
      "outputs": [
        {
          "output_type": "execute_result",
          "data": {
            "text/plain": [
              "<Figure size 1440x720 with 0 Axes>"
            ]
          },
          "metadata": {},
          "execution_count": 472
        },
        {
          "output_type": "display_data",
          "data": {
            "text/plain": [
              "<Figure size 432x288 with 1 Axes>"
            ],
            "image/png": "[encoded data removed]"
          },
          "metadata": {
            "needs_background": "light"
          }
        },
        {
          "output_type": "display_data",
          "data": {
            "text/plain": [
              "<Figure size 1440x720 with 0 Axes>"
            ]
          },
          "metadata": {}
        }
      ]
    },
    {
      "cell_type": "markdown",
      "source": [
        "1. as per observation ther is null value present in feature\n",
        "2. By graph we can see majority is of google so that we can replace gnull value with google"
      ],
      "metadata": {
        "id": "4yjxjsU2J9lF"
      }
    },
    {
      "cell_type": "code",
      "source": [
        "lead_df['Lead Source']=lead_df['Lead Source'].fillna('Google')"
      ],
      "metadata": {
        "id": "JVbyyMasKKaF"
      },
      "execution_count": 473,
      "outputs": []
    },
    {
      "cell_type": "code",
      "source": [
        "lead_df['Country'].unique()"
      ],
      "metadata": {
        "colab": {
          "base_uri": "https://localhost:8080/"
        },
        "id": "W87WjFWzXysy",
        "outputId": "e0e8ec69-91f3-4315-c914-1a3d367eda10"
      },
      "execution_count": 474,
      "outputs": [
        {
          "output_type": "execute_result",
          "data": {
            "text/plain": [
              "array([nan, 'India', 'Russia', 'Kuwait', 'Oman', 'United Arab Emirates',\n",
              "       'United States', 'Australia', 'United Kingdom', 'Bahrain', 'Ghana',\n",
              "       'Singapore', 'Qatar', 'Saudi Arabia', 'Belgium', 'France',\n",
              "       'Sri Lanka', 'China', 'Canada', 'Netherlands', 'Sweden', 'Nigeria',\n",
              "       'Hong Kong', 'Germany', 'Asia/Pacific Region', 'Uganda', 'Kenya',\n",
              "       'Italy', 'South Africa', 'Tanzania', 'unknown', 'Malaysia',\n",
              "       'Liberia', 'Switzerland', 'Denmark', 'Philippines', 'Bangladesh',\n",
              "       'Vietnam', 'Indonesia'], dtype=object)"
            ]
          },
          "metadata": {},
          "execution_count": 474
        }
      ]
    },
    {
      "cell_type": "code",
      "source": [
        "ax=sns.countplot(x=lead_df['Country'].values,data=lead_df)\n",
        "ax.set_xticklabels(ax.get_xticklabels(),rotation=90)\n",
        "plt.figure(figsize=(20,10))\n"
      ],
      "metadata": {
        "colab": {
          "base_uri": "https://localhost:8080/",
          "height": 411
        },
        "id": "tzHPYUC1lEqo",
        "outputId": "c9c73d35-a05c-4436-f26c-0a341302b28f"
      },
      "execution_count": 475,
      "outputs": [
        {
          "output_type": "execute_result",
          "data": {
            "text/plain": [
              "<Figure size 1440x720 with 0 Axes>"
            ]
          },
          "metadata": {},
          "execution_count": 475
        },
        {
          "output_type": "display_data",
          "data": {
            "text/plain": [
              "<Figure size 432x288 with 1 Axes>"
            ],
            "image/png": "[encoded data removed]"
          },
          "metadata": {
            "needs_background": "light"
          }
        },
        {
          "output_type": "display_data",
          "data": {
            "text/plain": [
              "<Figure size 1440x720 with 0 Axes>"
            ]
          },
          "metadata": {}
        }
      ]
    },
    {
      "cell_type": "markdown",
      "source": [
        "1. From above graph we can conclude that there is null value in column country\n",
        "2. we can replace null values with india beacuse, india has more occurance in feaure"
      ],
      "metadata": {
        "id": "8N-hEIUhbkby"
      }
    },
    {
      "cell_type": "code",
      "source": [
        "lead_df['Country']=lead_df['Country'].fillna('India')"
      ],
      "metadata": {
        "id": "JLInG6199LI1"
      },
      "execution_count": 476,
      "outputs": []
    },
    {
      "cell_type": "code",
      "source": [
        "lead_df['Specialization'].unique()"
      ],
      "metadata": {
        "colab": {
          "base_uri": "https://localhost:8080/"
        },
        "id": "N-x7XHqiKotN",
        "outputId": "c8a10079-73ef-4ee8-87e5-a827237fcbe2"
      },
      "execution_count": 477,
      "outputs": [
        {
          "output_type": "execute_result",
          "data": {
            "text/plain": [
              "array(['Select', 'Business Administration', 'Media and Advertising', nan,\n",
              "       'Supply Chain Management', 'IT Projects Management',\n",
              "       'Finance Management', 'Travel and Tourism',\n",
              "       'Human Resource Management', 'Marketing Management',\n",
              "       'Banking, Investment And Insurance', 'International Business',\n",
              "       'E-COMMERCE', 'Operations Management', 'Retail Management',\n",
              "       'Services Excellence', 'Hospitality Management',\n",
              "       'Rural and Agribusiness', 'Healthcare Management', 'E-Business'],\n",
              "      dtype=object)"
            ]
          },
          "metadata": {},
          "execution_count": 477
        }
      ]
    },
    {
      "cell_type": "code",
      "source": [
        "ax=sns.countplot(x=lead_df['Specialization'].values,data=lead_df)\n",
        "ax.set_xticklabels(ax.get_xticklabels(),rotation=90)\n",
        "plt.figure(figsize=(20,10))"
      ],
      "metadata": {
        "colab": {
          "base_uri": "https://localhost:8080/",
          "height": 490
        },
        "id": "Ra4sNR85KtWE",
        "outputId": "18c6704a-ead7-4056-aeb7-d10ae48e64c1"
      },
      "execution_count": 478,
      "outputs": [
        {
          "output_type": "execute_result",
          "data": {
            "text/plain": [
              "<Figure size 1440x720 with 0 Axes>"
            ]
          },
          "metadata": {},
          "execution_count": 478
        },
        {
          "output_type": "display_data",
          "data": {
            "text/plain": [
              "<Figure size 432x288 with 1 Axes>"
            ],
            "image/png": "[encoded data removed]"
          },
          "metadata": {
            "needs_background": "light"
          }
        },
        {
          "output_type": "display_data",
          "data": {
            "text/plain": [
              "<Figure size 1440x720 with 0 Axes>"
            ]
          },
          "metadata": {}
        }
      ]
    },
    {
      "cell_type": "markdown",
      "source": [
        "1. As here it contais missing value first we converte the missing value to null value\n",
        "2. and then we will convete null value to others category"
      ],
      "metadata": {
        "id": "cUUH67UjLaGX"
      }
    },
    {
      "cell_type": "code",
      "source": [
        "lead_df['Specialization']=lead_df['Specialization'].replace('Select',np.nan)"
      ],
      "metadata": {
        "id": "-SO55rtBLWTw"
      },
      "execution_count": 479,
      "outputs": []
    },
    {
      "cell_type": "code",
      "source": [
        "lead_df['Specialization']=lead_df['Specialization'].fillna('Other')"
      ],
      "metadata": {
        "id": "hilT3QJYL8VV"
      },
      "execution_count": 480,
      "outputs": []
    },
    {
      "cell_type": "code",
      "source": [
        "ax=sns.countplot(x=lead_df['Specialization'].values,data=lead_df)\n",
        "ax.set_xticklabels(ax.get_xticklabels(),rotation=90)\n",
        "plt.figure(figsize=(20,10))"
      ],
      "metadata": {
        "colab": {
          "base_uri": "https://localhost:8080/",
          "height": 491
        },
        "id": "_6zMDd9yMDdl",
        "outputId": "8fc1a812-9988-4a22-d39f-b0e5497d76db"
      },
      "execution_count": 481,
      "outputs": [
        {
          "output_type": "execute_result",
          "data": {
            "text/plain": [
              "<Figure size 1440x720 with 0 Axes>"
            ]
          },
          "metadata": {},
          "execution_count": 481
        },
        {
          "output_type": "display_data",
          "data": {
            "text/plain": [
              "<Figure size 432x288 with 1 Axes>"
            ],
            "image/png": "[encoded data removed]"
          },
          "metadata": {
            "needs_background": "light"
          }
        },
        {
          "output_type": "display_data",
          "data": {
            "text/plain": [
              "<Figure size 1440x720 with 0 Axes>"
            ]
          },
          "metadata": {}
        }
      ]
    },
    {
      "cell_type": "code",
      "source": [
        "lead_df['What is your current occupation'].unique()"
      ],
      "metadata": {
        "colab": {
          "base_uri": "https://localhost:8080/"
        },
        "id": "H4q-bbOnMKsb",
        "outputId": "33d36feb-a7b6-4b3f-df42-32f52169e0d1"
      },
      "execution_count": 482,
      "outputs": [
        {
          "output_type": "execute_result",
          "data": {
            "text/plain": [
              "array(['Unemployed', 'Student', nan, 'Working Professional',\n",
              "       'Businessman', 'Other', 'Housewife'], dtype=object)"
            ]
          },
          "metadata": {},
          "execution_count": 482
        }
      ]
    },
    {
      "cell_type": "code",
      "source": [
        "ax=sns.countplot(x=lead_df['What is your current occupation'].values,data=lead_df)\n",
        "ax.set_xticklabels(ax.get_xticklabels(),rotation=90)\n",
        "plt.figure(figsize=(20,10))"
      ],
      "metadata": {
        "colab": {
          "base_uri": "https://localhost:8080/",
          "height": 408
        },
        "id": "E4twnmu4MSPU",
        "outputId": "dd363249-fdda-4948-d937-4b789e712d80"
      },
      "execution_count": 483,
      "outputs": [
        {
          "output_type": "execute_result",
          "data": {
            "text/plain": [
              "<Figure size 1440x720 with 0 Axes>"
            ]
          },
          "metadata": {},
          "execution_count": 483
        },
        {
          "output_type": "display_data",
          "data": {
            "text/plain": [
              "<Figure size 432x288 with 1 Axes>"
            ],
            "image/png": "[encoded data removed]"
          },
          "metadata": {
            "needs_background": "light"
          }
        },
        {
          "output_type": "display_data",
          "data": {
            "text/plain": [
              "<Figure size 1440x720 with 0 Axes>"
            ]
          },
          "metadata": {}
        }
      ]
    },
    {
      "cell_type": "markdown",
      "source": [
        "1. from graph it is clear that there is null value present in column\n",
        "2. me can replace null value by the mode of that column"
      ],
      "metadata": {
        "id": "ltPUA78KMXgt"
      }
    },
    {
      "cell_type": "code",
      "source": [
        "lead_df['What is your current occupation']=lead_df['What is your current occupation'].fillna(lead_df['What is your current occupation'].mode()[0])"
      ],
      "metadata": {
        "id": "Su8cYRfOMrc7"
      },
      "execution_count": 484,
      "outputs": []
    },
    {
      "cell_type": "code",
      "source": [
        "lead_df['Do Not Email'].unique()"
      ],
      "metadata": {
        "colab": {
          "base_uri": "https://localhost:8080/"
        },
        "id": "GvlVlKizcsTP",
        "outputId": "36198d2c-e27a-4608-9b4a-0b80cf9b38b0"
      },
      "execution_count": 485,
      "outputs": [
        {
          "output_type": "execute_result",
          "data": {
            "text/plain": [
              "array(['No', 'Yes'], dtype=object)"
            ]
          },
          "metadata": {},
          "execution_count": 485
        }
      ]
    },
    {
      "cell_type": "code",
      "source": [
        "ax=sns.countplot(x=lead_df['Do Not Email'].values,data=lead_df)\n",
        "ax.set_xticklabels(ax.get_xticklabels(),rotation=90)\n",
        "plt.figure(figsize=(20,10))\n"
      ],
      "metadata": {
        "colab": {
          "base_uri": "https://localhost:8080/",
          "height": 311
        },
        "id": "uDwq2cunlg8M",
        "outputId": "d57e5c8b-f5b0-460f-81e5-4d6091759b9c"
      },
      "execution_count": 486,
      "outputs": [
        {
          "output_type": "execute_result",
          "data": {
            "text/plain": [
              "<Figure size 1440x720 with 0 Axes>"
            ]
          },
          "metadata": {},
          "execution_count": 486
        },
        {
          "output_type": "display_data",
          "data": {
            "text/plain": [
              "<Figure size 432x288 with 1 Axes>"
            ],
            "image/png": "[encoded data removed]"
          },
          "metadata": {
            "needs_background": "light"
          }
        },
        {
          "output_type": "display_data",
          "data": {
            "text/plain": [
              "<Figure size 1440x720 with 0 Axes>"
            ]
          },
          "metadata": {}
        }
      ]
    },
    {
      "cell_type": "markdown",
      "source": [
        "1. There is no need for any replacement of values in Do not email feature"
      ],
      "metadata": {
        "id": "bXLCiR2Wc1Yb"
      }
    },
    {
      "cell_type": "code",
      "source": [
        "lead_df['Do Not Call'].unique()"
      ],
      "metadata": {
        "colab": {
          "base_uri": "https://localhost:8080/"
        },
        "id": "tTgn8ZEfc9i6",
        "outputId": "d32300e7-bb8d-46ba-d213-b1872653585d"
      },
      "execution_count": 487,
      "outputs": [
        {
          "output_type": "execute_result",
          "data": {
            "text/plain": [
              "array(['No', 'Yes'], dtype=object)"
            ]
          },
          "metadata": {},
          "execution_count": 487
        }
      ]
    },
    {
      "cell_type": "code",
      "source": [
        "ax=sns.countplot(x=lead_df['Do Not Call'].values,data=lead_df)\n",
        "ax.set_xticklabels(ax.get_xticklabels(),rotation=90)\n",
        "plt.figure(figsize=(20,10))"
      ],
      "metadata": {
        "colab": {
          "base_uri": "https://localhost:8080/",
          "height": 311
        },
        "id": "jjL_LuKIlRNY",
        "outputId": "22328597-9566-4177-bd36-8b7a37496eb6"
      },
      "execution_count": 488,
      "outputs": [
        {
          "output_type": "execute_result",
          "data": {
            "text/plain": [
              "<Figure size 1440x720 with 0 Axes>"
            ]
          },
          "metadata": {},
          "execution_count": 488
        },
        {
          "output_type": "display_data",
          "data": {
            "text/plain": [
              "<Figure size 432x288 with 1 Axes>"
            ],
            "image/png": "[encoded data removed]"
          },
          "metadata": {
            "needs_background": "light"
          }
        },
        {
          "output_type": "display_data",
          "data": {
            "text/plain": [
              "<Figure size 1440x720 with 0 Axes>"
            ]
          },
          "metadata": {}
        }
      ]
    },
    {
      "cell_type": "markdown",
      "source": [
        "1. There is no need for any replacement of values in Do not call feature"
      ],
      "metadata": {
        "id": "5kwj2WJzdEpL"
      }
    },
    {
      "cell_type": "code",
      "source": [
        "lead_df['Last Activity'].unique()"
      ],
      "metadata": {
        "colab": {
          "base_uri": "https://localhost:8080/"
        },
        "id": "RAgRTd1JdHwH",
        "outputId": "c177fd55-1697-437d-e727-ae86f6d120e7"
      },
      "execution_count": 489,
      "outputs": [
        {
          "output_type": "execute_result",
          "data": {
            "text/plain": [
              "array(['Page Visited on Website', 'Email Opened', 'Unreachable',\n",
              "       'Converted to Lead', 'Olark Chat Conversation', 'Email Bounced',\n",
              "       'Email Link Clicked', 'Form Submitted on Website', 'Unsubscribed',\n",
              "       'Had a Phone Conversation', 'View in browser link Clicked', nan,\n",
              "       'Approached upfront', 'SMS Sent', 'Visited Booth in Tradeshow',\n",
              "       'Resubscribed to emails', 'Email Received', 'Email Marked Spam'],\n",
              "      dtype=object)"
            ]
          },
          "metadata": {},
          "execution_count": 489
        }
      ]
    },
    {
      "cell_type": "code",
      "source": [
        "ax=sns.countplot(x=lead_df['Last Activity'].values,data=lead_df)\n",
        "ax.set_xticklabels(ax.get_xticklabels(),rotation=90)\n",
        "plt.figure(figsize=(20,10))"
      ],
      "metadata": {
        "colab": {
          "base_uri": "https://localhost:8080/",
          "height": 447
        },
        "id": "f_z10S5Mmhl0",
        "outputId": "c886254c-dca5-417b-de0a-ba5bcc78c447"
      },
      "execution_count": 490,
      "outputs": [
        {
          "output_type": "execute_result",
          "data": {
            "text/plain": [
              "<Figure size 1440x720 with 0 Axes>"
            ]
          },
          "metadata": {},
          "execution_count": 490
        },
        {
          "output_type": "display_data",
          "data": {
            "text/plain": [
              "<Figure size 432x288 with 1 Axes>"
            ],
            "image/png": "[encoded data removed]"
          },
          "metadata": {
            "needs_background": "light"
          }
        },
        {
          "output_type": "display_data",
          "data": {
            "text/plain": [
              "<Figure size 1440x720 with 0 Axes>"
            ]
          },
          "metadata": {}
        }
      ]
    },
    {
      "cell_type": "markdown",
      "source": [
        "1. Here we can see there is null value we have to decide what should we use to replace null value\n",
        "2. so that we have to calculate percentage and have to replaces it "
      ],
      "metadata": {
        "id": "jp0x2ZLklWWA"
      }
    },
    {
      "cell_type": "code",
      "source": [
        "lead_df['Last Activity'].value_counts()"
      ],
      "metadata": {
        "colab": {
          "base_uri": "https://localhost:8080/"
        },
        "id": "kiPyPv4vlubp",
        "outputId": "e1961f6b-3176-4051-ec78-d1d06f66a09a"
      },
      "execution_count": 491,
      "outputs": [
        {
          "output_type": "execute_result",
          "data": {
            "text/plain": [
              "Email Opened                    3437\n",
              "SMS Sent                        2745\n",
              "Olark Chat Conversation          973\n",
              "Page Visited on Website          640\n",
              "Converted to Lead                428\n",
              "Email Bounced                    326\n",
              "Email Link Clicked               267\n",
              "Form Submitted on Website        116\n",
              "Unreachable                       93\n",
              "Unsubscribed                      61\n",
              "Had a Phone Conversation          30\n",
              "Approached upfront                 9\n",
              "View in browser link Clicked       6\n",
              "Email Received                     2\n",
              "Email Marked Spam                  2\n",
              "Visited Booth in Tradeshow         1\n",
              "Resubscribed to emails             1\n",
              "Name: Last Activity, dtype: int64"
            ]
          },
          "metadata": {},
          "execution_count": 491
        }
      ]
    },
    {
      "cell_type": "markdown",
      "source": [
        "1. From this it is clear that we can replaced nan values with mode of the  last activity"
      ],
      "metadata": {
        "id": "G5YTDPoemxhY"
      }
    },
    {
      "cell_type": "code",
      "source": [
        "lead_df['Last Activity']=lead_df['Last Activity'].fillna(lead_df['Last Activity'].mode()[0])"
      ],
      "metadata": {
        "id": "CX67J_i_m5uA"
      },
      "execution_count": 492,
      "outputs": []
    },
    {
      "cell_type": "code",
      "source": [
        "lead_df['How did you hear about X Education'].unique()"
      ],
      "metadata": {
        "colab": {
          "base_uri": "https://localhost:8080/"
        },
        "id": "w2JjIgpZnHPv",
        "outputId": "5473152b-75a0-42f2-9a39-9a9761c0409f"
      },
      "execution_count": 493,
      "outputs": [
        {
          "output_type": "execute_result",
          "data": {
            "text/plain": [
              "array(['Select', 'Word Of Mouth', 'Other', nan, 'Online Search',\n",
              "       'Multiple Sources', 'Advertisements', 'Student of SomeSchool',\n",
              "       'Email', 'Social Media', 'SMS'], dtype=object)"
            ]
          },
          "metadata": {},
          "execution_count": 493
        }
      ]
    },
    {
      "cell_type": "markdown",
      "source": [
        "1. Here we can see there is null value we need to replace it \n",
        "2. as well there is missing value called as Select, we have to replace it also"
      ],
      "metadata": {
        "id": "SGrfZz4qnl8f"
      }
    },
    {
      "cell_type": "code",
      "source": [
        "ax=sns.countplot(x=lead_df['How did you hear about X Education'].values,data=lead_df)\n",
        "ax.set_xticklabels(ax.get_xticklabels(),rotation=90)\n",
        "plt.figure(figsize=(20,10))"
      ],
      "metadata": {
        "colab": {
          "base_uri": "https://localhost:8080/",
          "height": 422
        },
        "id": "C-3DYj2qm3QH",
        "outputId": "6a00f545-fa0f-46d0-af40-e9fbc11045db"
      },
      "execution_count": 494,
      "outputs": [
        {
          "output_type": "execute_result",
          "data": {
            "text/plain": [
              "<Figure size 1440x720 with 0 Axes>"
            ]
          },
          "metadata": {},
          "execution_count": 494
        },
        {
          "output_type": "display_data",
          "data": {
            "text/plain": [
              "<Figure size 432x288 with 1 Axes>"
            ],
            "image/png": "[encoded data removed]"
          },
          "metadata": {
            "needs_background": "light"
          }
        },
        {
          "output_type": "display_data",
          "data": {
            "text/plain": [
              "<Figure size 1440x720 with 0 Axes>"
            ]
          },
          "metadata": {}
        }
      ]
    },
    {
      "cell_type": "markdown",
      "source": [
        "1. Here we can see there is category called as select which has higher counts\n",
        "2. so we have to replaced select catogeory with null values"
      ],
      "metadata": {
        "id": "MJEUZ4MU0mg8"
      }
    },
    {
      "cell_type": "code",
      "source": [
        "lead_df['How did you hear about X Education']=lead_df['How did you hear about X Education'].replace('Select',np.nan)"
      ],
      "metadata": {
        "id": "t41rX_k7nrqH"
      },
      "execution_count": 495,
      "outputs": []
    },
    {
      "cell_type": "code",
      "source": [
        "ax=sns.countplot(x=lead_df['How did you hear about X Education'].values,data=lead_df)\n",
        "ax.set_xticklabels(ax.get_xticklabels(),rotation=90)\n",
        "plt.figure(figsize=(20,10))"
      ],
      "metadata": {
        "colab": {
          "base_uri": "https://localhost:8080/",
          "height": 422
        },
        "id": "DObAtAvyF0eP",
        "outputId": "8d172995-d18a-4587-eafa-9d9ed1886682"
      },
      "execution_count": 496,
      "outputs": [
        {
          "output_type": "execute_result",
          "data": {
            "text/plain": [
              "<Figure size 1440x720 with 0 Axes>"
            ]
          },
          "metadata": {},
          "execution_count": 496
        },
        {
          "output_type": "display_data",
          "data": {
            "text/plain": [
              "<Figure size 432x288 with 1 Axes>"
            ],
            "image/png": "[encoded data removed]"
          },
          "metadata": {
            "needs_background": "light"
          }
        },
        {
          "output_type": "display_data",
          "data": {
            "text/plain": [
              "<Figure size 1440x720 with 0 Axes>"
            ]
          },
          "metadata": {}
        }
      ]
    },
    {
      "cell_type": "code",
      "source": [
        "lead_df['What matters most to you in choosing a course'].unique()"
      ],
      "metadata": {
        "colab": {
          "base_uri": "https://localhost:8080/"
        },
        "id": "NOI6rNP1HPH2",
        "outputId": "ee2f8cb0-37c9-4e2e-be9c-6e9cac32aa0a"
      },
      "execution_count": 497,
      "outputs": [
        {
          "output_type": "execute_result",
          "data": {
            "text/plain": [
              "array(['Better Career Prospects', nan, 'Flexibility & Convenience',\n",
              "       'Other'], dtype=object)"
            ]
          },
          "metadata": {},
          "execution_count": 497
        }
      ]
    },
    {
      "cell_type": "code",
      "source": [
        "ax=sns.countplot(x=lead_df['What matters most to you in choosing a course'].values,data=lead_df)\n",
        "ax.set_xticklabels(ax.get_xticklabels(),rotation=90)\n",
        "plt.figure(figsize=(20,10))"
      ],
      "metadata": {
        "colab": {
          "base_uri": "https://localhost:8080/",
          "height": 433
        },
        "id": "wbGvCJ14ndJk",
        "outputId": "e6a50741-6a2b-4a8b-bb3f-b13664c2d089"
      },
      "execution_count": 498,
      "outputs": [
        {
          "output_type": "execute_result",
          "data": {
            "text/plain": [
              "<Figure size 1440x720 with 0 Axes>"
            ]
          },
          "metadata": {},
          "execution_count": 498
        },
        {
          "output_type": "display_data",
          "data": {
            "text/plain": [
              "<Figure size 432x288 with 1 Axes>"
            ],
            "image/png": "[encoded data removed]"
          },
          "metadata": {
            "needs_background": "light"
          }
        },
        {
          "output_type": "display_data",
          "data": {
            "text/plain": [
              "<Figure size 1440x720 with 0 Axes>"
            ]
          },
          "metadata": {}
        }
      ]
    },
    {
      "cell_type": "markdown",
      "source": [
        "1. From above figure and observation we can say that there is null value presetn in feature\n",
        "2. as graph shpows there is majority of better career propectes\n",
        "3. sso that we can replace null value with better career propectes"
      ],
      "metadata": {
        "id": "rsGrH6jNHcEP"
      }
    },
    {
      "cell_type": "code",
      "source": [
        "lead_df['What matters most to you in choosing a course']=lead_df['What matters most to you in choosing a course'].fillna('Better Career Prospects')"
      ],
      "metadata": {
        "id": "qbJGkFZ2H2j_"
      },
      "execution_count": 499,
      "outputs": []
    },
    {
      "cell_type": "code",
      "source": [
        "lead_df['Search'].unique()"
      ],
      "metadata": {
        "colab": {
          "base_uri": "https://localhost:8080/"
        },
        "id": "dgyohyhaIClV",
        "outputId": "592daf17-245f-47c2-90fc-77ae7fc6c8ed"
      },
      "execution_count": 500,
      "outputs": [
        {
          "output_type": "execute_result",
          "data": {
            "text/plain": [
              "array(['No', 'Yes'], dtype=object)"
            ]
          },
          "metadata": {},
          "execution_count": 500
        }
      ]
    },
    {
      "cell_type": "code",
      "source": [
        "ax=sns.countplot(x=lead_df['Search'].values,data=lead_df)\n",
        "ax.set_xticklabels(ax.get_xticklabels(),rotation=90)\n",
        "plt.figure(figsize=(20,10))\n"
      ],
      "metadata": {
        "colab": {
          "base_uri": "https://localhost:8080/",
          "height": 311
        },
        "id": "aGMkd0jKpnX2",
        "outputId": "ec87225a-b472-4f9e-b89d-8409917329f1"
      },
      "execution_count": 501,
      "outputs": [
        {
          "output_type": "execute_result",
          "data": {
            "text/plain": [
              "<Figure size 1440x720 with 0 Axes>"
            ]
          },
          "metadata": {},
          "execution_count": 501
        },
        {
          "output_type": "display_data",
          "data": {
            "text/plain": [
              "<Figure size 432x288 with 1 Axes>"
            ],
            "image/png": "[encoded data removed]"
          },
          "metadata": {
            "needs_background": "light"
          }
        },
        {
          "output_type": "display_data",
          "data": {
            "text/plain": [
              "<Figure size 1440x720 with 0 Axes>"
            ]
          },
          "metadata": {}
        }
      ]
    },
    {
      "cell_type": "markdown",
      "source": [
        "1. There is not any missing value and null value in this feature"
      ],
      "metadata": {
        "id": "TeoQfh8RIKJw"
      }
    },
    {
      "cell_type": "code",
      "source": [
        "lead_df['Magazine'].unique()"
      ],
      "metadata": {
        "colab": {
          "base_uri": "https://localhost:8080/"
        },
        "id": "zjNv6upKIbE_",
        "outputId": "479695e1-f705-4219-91a9-10c6e0d8e767"
      },
      "execution_count": 502,
      "outputs": [
        {
          "output_type": "execute_result",
          "data": {
            "text/plain": [
              "array(['No'], dtype=object)"
            ]
          },
          "metadata": {},
          "execution_count": 502
        }
      ]
    },
    {
      "cell_type": "code",
      "source": [
        "ax=sns.countplot(x=lead_df['Magazine'].values,data=lead_df)\n",
        "ax.set_xticklabels(ax.get_xticklabels(),rotation=90)\n",
        "plt.figure(figsize=(20,10))"
      ],
      "metadata": {
        "colab": {
          "base_uri": "https://localhost:8080/",
          "height": 308
        },
        "id": "TKwWc07pqIAE",
        "outputId": "bf4dba46-cc6b-48d0-df33-31d48eef1f52"
      },
      "execution_count": 503,
      "outputs": [
        {
          "output_type": "execute_result",
          "data": {
            "text/plain": [
              "<Figure size 1440x720 with 0 Axes>"
            ]
          },
          "metadata": {},
          "execution_count": 503
        },
        {
          "output_type": "display_data",
          "data": {
            "text/plain": [
              "<Figure size 432x288 with 1 Axes>"
            ],
            "image/png": "[encoded data removed]"
          },
          "metadata": {
            "needs_background": "light"
          }
        },
        {
          "output_type": "display_data",
          "data": {
            "text/plain": [
              "<Figure size 1440x720 with 0 Axes>"
            ]
          },
          "metadata": {}
        }
      ]
    },
    {
      "cell_type": "markdown",
      "source": [
        "1. There is not any missing value and null value in this feature"
      ],
      "metadata": {
        "id": "MskXJYXGIiB9"
      }
    },
    {
      "cell_type": "code",
      "source": [
        "lead_df['Newspaper'].unique()"
      ],
      "metadata": {
        "colab": {
          "base_uri": "https://localhost:8080/"
        },
        "id": "pnh_lcqtIjMv",
        "outputId": "d604ed20-a021-4713-8af2-ace440d63693"
      },
      "execution_count": 504,
      "outputs": [
        {
          "output_type": "execute_result",
          "data": {
            "text/plain": [
              "array(['No', 'Yes'], dtype=object)"
            ]
          },
          "metadata": {},
          "execution_count": 504
        }
      ]
    },
    {
      "cell_type": "code",
      "source": [
        "ax=sns.countplot(x=lead_df['Newspaper'].values,data=lead_df)\n",
        "ax.set_xticklabels(ax.get_xticklabels(),rotation=90)\n",
        "plt.figure(figsize=(20,10))\n"
      ],
      "metadata": {
        "colab": {
          "base_uri": "https://localhost:8080/",
          "height": 311
        },
        "id": "b8oxJ_fFrHjd",
        "outputId": "4fb8a5eb-a3a2-4322-9c8e-c1c39e7b05e8"
      },
      "execution_count": 505,
      "outputs": [
        {
          "output_type": "execute_result",
          "data": {
            "text/plain": [
              "<Figure size 1440x720 with 0 Axes>"
            ]
          },
          "metadata": {},
          "execution_count": 505
        },
        {
          "output_type": "display_data",
          "data": {
            "text/plain": [
              "<Figure size 432x288 with 1 Axes>"
            ],
            "image/png": "[encoded data removed]"
          },
          "metadata": {
            "needs_background": "light"
          }
        },
        {
          "output_type": "display_data",
          "data": {
            "text/plain": [
              "<Figure size 1440x720 with 0 Axes>"
            ]
          },
          "metadata": {}
        }
      ]
    },
    {
      "cell_type": "markdown",
      "source": [
        "1. There is not any missing value and null value in this feature|"
      ],
      "metadata": {
        "id": "MGSfY_nfIpON"
      }
    },
    {
      "cell_type": "code",
      "source": [
        "lead_df['Tags'].unique()"
      ],
      "metadata": {
        "colab": {
          "base_uri": "https://localhost:8080/"
        },
        "id": "3i_pnbNfJS7d",
        "outputId": "efb90515-4ee0-4074-f290-cf7ad58495a5"
      },
      "execution_count": 506,
      "outputs": [
        {
          "output_type": "execute_result",
          "data": {
            "text/plain": [
              "array(['Interested in other courses', 'Ringing',\n",
              "       'Will revert after reading the email', nan, 'Lost to EINS',\n",
              "       'In confusion whether part time or DLP', 'Busy', 'switched off',\n",
              "       'in touch with EINS', 'Already a student',\n",
              "       'Diploma holder (Not Eligible)', 'Graduation in progress',\n",
              "       'Closed by Horizzon', 'number not provided', 'opp hangup',\n",
              "       'Not doing further education', 'invalid number',\n",
              "       'wrong number given', 'Interested  in full time MBA',\n",
              "       'Still Thinking', 'Lost to Others',\n",
              "       'Shall take in the next coming month', 'Lateral student',\n",
              "       'Interested in Next batch', 'Recognition issue (DEC approval)',\n",
              "       'Want to take admission but has financial problems',\n",
              "       'University not recognized'], dtype=object)"
            ]
          },
          "metadata": {},
          "execution_count": 506
        }
      ]
    },
    {
      "cell_type": "code",
      "source": [
        "ax=sns.countplot(x=lead_df['Tags'].values,data=lead_df)\n",
        "ax.set_xticklabels(ax.get_xticklabels(),rotation=90)\n",
        "plt.figure(figsize=(20,10))"
      ],
      "metadata": {
        "colab": {
          "base_uri": "https://localhost:8080/",
          "height": 573
        },
        "id": "JjcjBCS_NDrC",
        "outputId": "5035401c-5634-4eb5-8edb-1b18d5dcc5dc"
      },
      "execution_count": 507,
      "outputs": [
        {
          "output_type": "execute_result",
          "data": {
            "text/plain": [
              "<Figure size 1440x720 with 0 Axes>"
            ]
          },
          "metadata": {},
          "execution_count": 507
        },
        {
          "output_type": "display_data",
          "data": {
            "text/plain": [
              "<Figure size 432x288 with 1 Axes>"
            ],
            "image/png": "[encoded data removed]"
          },
          "metadata": {
            "needs_background": "light"
          }
        },
        {
          "output_type": "display_data",
          "data": {
            "text/plain": [
              "<Figure size 1440x720 with 0 Axes>"
            ]
          },
          "metadata": {}
        }
      ]
    },
    {
      "cell_type": "markdown",
      "source": [
        "1. with the help of graph we have replace the null value in tag with mode of that column"
      ],
      "metadata": {
        "id": "zve7TtxXNTe7"
      }
    },
    {
      "cell_type": "code",
      "source": [
        "lead_df['Tags']=lead_df['Tags'].fillna(lead_df['Tags'].mode()[0])"
      ],
      "metadata": {
        "id": "aVaDGzwxNL0i"
      },
      "execution_count": 508,
      "outputs": []
    },
    {
      "cell_type": "code",
      "source": [
        "lead_df['Lead Profile'].unique()"
      ],
      "metadata": {
        "colab": {
          "base_uri": "https://localhost:8080/"
        },
        "id": "J-s-noMHNaWD",
        "outputId": "b9a5b2e5-dc9a-488c-f1fe-1f515b921e5e"
      },
      "execution_count": 509,
      "outputs": [
        {
          "output_type": "execute_result",
          "data": {
            "text/plain": [
              "array(['Select', 'Potential Lead', nan, 'Other Leads', 'Lateral Student',\n",
              "       'Dual Specialization Student', 'Student of SomeSchool'],\n",
              "      dtype=object)"
            ]
          },
          "metadata": {},
          "execution_count": 509
        }
      ]
    },
    {
      "cell_type": "code",
      "source": [
        "ax=sns.countplot(x=lead_df['Lead Profile'].values,data=lead_df)\n",
        "ax.set_xticklabels(ax.get_xticklabels(),rotation=90)\n",
        "plt.figure(figsize=(20,10))"
      ],
      "metadata": {
        "colab": {
          "base_uri": "https://localhost:8080/",
          "height": 445
        },
        "id": "pefvads9Nh_D",
        "outputId": "2b972f97-a326-4afa-8ed5-996190eb44da"
      },
      "execution_count": 510,
      "outputs": [
        {
          "output_type": "execute_result",
          "data": {
            "text/plain": [
              "<Figure size 1440x720 with 0 Axes>"
            ]
          },
          "metadata": {},
          "execution_count": 510
        },
        {
          "output_type": "display_data",
          "data": {
            "text/plain": [
              "<Figure size 432x288 with 1 Axes>"
            ],
            "image/png": "[encoded data removed]"
          },
          "metadata": {
            "needs_background": "light"
          }
        },
        {
          "output_type": "display_data",
          "data": {
            "text/plain": [
              "<Figure size 1440x720 with 0 Axes>"
            ]
          },
          "metadata": {}
        }
      ]
    },
    {
      "cell_type": "markdown",
      "source": [
        "1. we are replacing select with null beacuse we dont know the profile of them and canot placed any other category"
      ],
      "metadata": {
        "id": "2c8jw684O-_6"
      }
    },
    {
      "cell_type": "code",
      "source": [
        "lead_df['Lead Profile']=lead_df['Lead Profile'].replace('Select',np.nan)"
      ],
      "metadata": {
        "id": "l9PmNs4qONUK"
      },
      "execution_count": 511,
      "outputs": []
    },
    {
      "cell_type": "code",
      "source": [
        "lead_df['City'].unique()"
      ],
      "metadata": {
        "colab": {
          "base_uri": "https://localhost:8080/"
        },
        "id": "1IFbOxz1PKIJ",
        "outputId": "f8b5be28-1e8e-4a43-fe1b-984d5b1e8dc1"
      },
      "execution_count": 512,
      "outputs": [
        {
          "output_type": "execute_result",
          "data": {
            "text/plain": [
              "array(['Select', 'Mumbai', nan, 'Thane & Outskirts', 'Other Metro Cities',\n",
              "       'Other Cities', 'Other Cities of Maharashtra', 'Tier II Cities'],\n",
              "      dtype=object)"
            ]
          },
          "metadata": {},
          "execution_count": 512
        }
      ]
    },
    {
      "cell_type": "code",
      "source": [
        "ax=sns.countplot(x=lead_df['City'].values,data=lead_df)\n",
        "ax.set_xticklabels(ax.get_xticklabels(),rotation=90)\n",
        "plt.figure(figsize=(20,10))"
      ],
      "metadata": {
        "colab": {
          "base_uri": "https://localhost:8080/",
          "height": 446
        },
        "id": "s9nMnOs6PRth",
        "outputId": "77084e8e-5b90-4c20-f8b4-d8a81c9f48d0"
      },
      "execution_count": 513,
      "outputs": [
        {
          "output_type": "execute_result",
          "data": {
            "text/plain": [
              "<Figure size 1440x720 with 0 Axes>"
            ]
          },
          "metadata": {},
          "execution_count": 513
        },
        {
          "output_type": "display_data",
          "data": {
            "text/plain": [
              "<Figure size 432x288 with 1 Axes>"
            ],
            "image/png": "[encoded data removed]"
          },
          "metadata": {
            "needs_background": "light"
          }
        },
        {
          "output_type": "display_data",
          "data": {
            "text/plain": [
              "<Figure size 1440x720 with 0 Axes>"
            ]
          },
          "metadata": {}
        }
      ]
    },
    {
      "cell_type": "markdown",
      "source": [
        "1. here we will replace missing value with null first\n",
        "2. then will replace null value with mode of column"
      ],
      "metadata": {
        "id": "SlDpKWWXPvNa"
      }
    },
    {
      "cell_type": "code",
      "source": [
        "lead_df['City']=lead_df['City'].replace('Select',np.nan)"
      ],
      "metadata": {
        "id": "bQ1gDXwyPXMs"
      },
      "execution_count": 514,
      "outputs": []
    },
    {
      "cell_type": "code",
      "source": [
        "lead_df['City']=lead_df['City'].fillna(lead_df['City'].mode()[0])"
      ],
      "metadata": {
        "id": "GW72hbp0PfER"
      },
      "execution_count": 515,
      "outputs": []
    },
    {
      "cell_type": "code",
      "source": [
        "lead_df.isna().sum()"
      ],
      "metadata": {
        "colab": {
          "base_uri": "https://localhost:8080/"
        },
        "id": "9Bnjg91fI268",
        "outputId": "f8a16069-9745-4e27-df33-4767696fdf87"
      },
      "execution_count": 516,
      "outputs": [
        {
          "output_type": "execute_result",
          "data": {
            "text/plain": [
              "Lead Origin                                         0\n",
              "Lead Source                                         0\n",
              "Do Not Email                                        0\n",
              "Do Not Call                                         0\n",
              "Converted                                           0\n",
              "TotalVisits                                       137\n",
              "Total Time Spent on Website                         0\n",
              "Page Views Per Visit                              137\n",
              "Last Activity                                       0\n",
              "Country                                             0\n",
              "Specialization                                      0\n",
              "How did you hear about X Education               7250\n",
              "What is your current occupation                     0\n",
              "What matters most to you in choosing a course       0\n",
              "Search                                              0\n",
              "Magazine                                            0\n",
              "Newspaper Article                                   0\n",
              "X Education Forums                                  0\n",
              "Newspaper                                           0\n",
              "Digital Advertisement                               0\n",
              "Through Recommendations                             0\n",
              "Receive More Updates About Our Courses              0\n",
              "Tags                                                0\n",
              "Update me on Supply Chain Content                   0\n",
              "Get updates on DM Content                           0\n",
              "Lead Profile                                     6855\n",
              "City                                                0\n",
              "I agree to pay the amount through cheque            0\n",
              "A free copy of Mastering The Interview              0\n",
              "Last Notable Activity                               0\n",
              "dtype: int64"
            ]
          },
          "metadata": {},
          "execution_count": 516
        }
      ]
    },
    {
      "cell_type": "code",
      "source": [
        "#From above we can dropp column which are having mpore than 50% null values\n",
        "lead_df=lead_df.drop(['How did you hear about X Education','Lead Profile'],axis=1)"
      ],
      "metadata": {
        "id": "tJPrKP2xI_Ms"
      },
      "execution_count": 517,
      "outputs": []
    },
    {
      "cell_type": "markdown",
      "source": [
        "#Cheking biased categorical Data\n",
        "1. till now we have replaced missing values and null values\n",
        "2. but as observation we have found that we have inbalnaced data in our data set\n",
        "3. we will need to clear that implacned feature data\n",
        "4. we are taking call that if data is biased by 70% then we are going to drop that column"
      ],
      "metadata": {
        "id": "VJl7MMtjQOoJ"
      }
    },
    {
      "cell_type": "code",
      "source": [
        "lead_df.info()"
      ],
      "metadata": {
        "colab": {
          "base_uri": "https://localhost:8080/"
        },
        "id": "fyBV4hErQ2PT",
        "outputId": "55ba7cba-9fbe-467f-934c-70d97879f347"
      },
      "execution_count": 518,
      "outputs": [
        {
          "output_type": "stream",
          "name": "stdout",
          "text": [
            "<class 'pandas.core.frame.DataFrame'>\n",
            "RangeIndex: 9240 entries, 0 to 9239\n",
            "Data columns (total 28 columns):\n",
            " #   Column                                         Non-Null Count  Dtype  \n",
            "---  ------                                         --------------  -----  \n",
            " 0   Lead Origin                                    9240 non-null   object \n",
            " 1   Lead Source                                    9240 non-null   object \n",
            " 2   Do Not Email                                   9240 non-null   object \n",
            " 3   Do Not Call                                    9240 non-null   object \n",
            " 4   Converted                                      9240 non-null   int64  \n",
            " 5   TotalVisits                                    9103 non-null   float64\n",
            " 6   Total Time Spent on Website                    9240 non-null   int64  \n",
            " 7   Page Views Per Visit                           9103 non-null   float64\n",
            " 8   Last Activity                                  9240 non-null   object \n",
            " 9   Country                                        9240 non-null   object \n",
            " 10  Specialization                                 9240 non-null   object \n",
            " 11  What is your current occupation                9240 non-null   object \n",
            " 12  What matters most to you in choosing a course  9240 non-null   object \n",
            " 13  Search                                         9240 non-null   object \n",
            " 14  Magazine                                       9240 non-null   object \n",
            " 15  Newspaper Article                              9240 non-null   object \n",
            " 16  X Education Forums                             9240 non-null   object \n",
            " 17  Newspaper                                      9240 non-null   object \n",
            " 18  Digital Advertisement                          9240 non-null   object \n",
            " 19  Through Recommendations                        9240 non-null   object \n",
            " 20  Receive More Updates About Our Courses         9240 non-null   object \n",
            " 21  Tags                                           9240 non-null   object \n",
            " 22  Update me on Supply Chain Content              9240 non-null   object \n",
            " 23  Get updates on DM Content                      9240 non-null   object \n",
            " 24  City                                           9240 non-null   object \n",
            " 25  I agree to pay the amount through cheque       9240 non-null   object \n",
            " 26  A free copy of Mastering The Interview         9240 non-null   object \n",
            " 27  Last Notable Activity                          9240 non-null   object \n",
            "dtypes: float64(2), int64(2), object(24)\n",
            "memory usage: 2.0+ MB\n"
          ]
        }
      ]
    },
    {
      "cell_type": "code",
      "source": [
        "(lead_df['Lead Origin'].value_counts()/len(lead_df))*100"
      ],
      "metadata": {
        "colab": {
          "base_uri": "https://localhost:8080/"
        },
        "id": "f3O7zzCmQ-rT",
        "outputId": "532c4a07-1d44-44d0-b273-10ef93f7d1a1"
      },
      "execution_count": 519,
      "outputs": [
        {
          "output_type": "execute_result",
          "data": {
            "text/plain": [
              "Landing Page Submission    52.878788\n",
              "API                        38.744589\n",
              "Lead Add Form               7.770563\n",
              "Lead Import                 0.595238\n",
              "Quick Add Form              0.010823\n",
              "Name: Lead Origin, dtype: float64"
            ]
          },
          "metadata": {},
          "execution_count": 519
        }
      ]
    },
    {
      "cell_type": "code",
      "source": [
        "(lead_df['Lead Source'].value_counts()/len(lead_df))*100"
      ],
      "metadata": {
        "colab": {
          "base_uri": "https://localhost:8080/"
        },
        "id": "APBBo1DcigaZ",
        "outputId": "bb10e122-e3dd-40e6-d9c8-4ea07dc52f0e"
      },
      "execution_count": 520,
      "outputs": [
        {
          "output_type": "execute_result",
          "data": {
            "text/plain": [
              "Google               31.428571\n",
              "Direct Traffic       27.521645\n",
              "Olark Chat           18.993506\n",
              "Organic Search       12.489177\n",
              "Reference             5.779221\n",
              "Welingak Website      1.536797\n",
              "Referral Sites        1.352814\n",
              "Facebook              0.595238\n",
              "bing                  0.064935\n",
              "google                0.054113\n",
              "Click2call            0.043290\n",
              "Press_Release         0.021645\n",
              "Social Media          0.021645\n",
              "Live Chat             0.021645\n",
              "youtubechannel        0.010823\n",
              "testone               0.010823\n",
              "Pay per Click Ads     0.010823\n",
              "welearnblog_Home      0.010823\n",
              "WeLearn               0.010823\n",
              "blog                  0.010823\n",
              "NC_EDM                0.010823\n",
              "Name: Lead Source, dtype: float64"
            ]
          },
          "metadata": {},
          "execution_count": 520
        }
      ]
    },
    {
      "cell_type": "code",
      "source": [
        "(lead_df['Do Not Email'].value_counts()/len(lead_df))*100 #need to drop"
      ],
      "metadata": {
        "colab": {
          "base_uri": "https://localhost:8080/"
        },
        "id": "EJnCx-31RXvb",
        "outputId": "e8d12758-6572-4f96-a028-35702ebb526f"
      },
      "execution_count": 521,
      "outputs": [
        {
          "output_type": "execute_result",
          "data": {
            "text/plain": [
              "No     92.056277\n",
              "Yes     7.943723\n",
              "Name: Do Not Email, dtype: float64"
            ]
          },
          "metadata": {},
          "execution_count": 521
        }
      ]
    },
    {
      "cell_type": "code",
      "source": [
        "(lead_df['Do Not Call'].value_counts()/len(lead_df))*100 #need to drop"
      ],
      "metadata": {
        "id": "Y42KImB6zzHi",
        "colab": {
          "base_uri": "https://localhost:8080/"
        },
        "outputId": "6dd81cb2-4142-4eb9-aa1e-8efe748b7340"
      },
      "execution_count": 522,
      "outputs": [
        {
          "output_type": "execute_result",
          "data": {
            "text/plain": [
              "No     99.978355\n",
              "Yes     0.021645\n",
              "Name: Do Not Call, dtype: float64"
            ]
          },
          "metadata": {},
          "execution_count": 522
        }
      ]
    },
    {
      "cell_type": "code",
      "source": [
        "(lead_df['Last Activity'].value_counts()/len(lead_df))*100"
      ],
      "metadata": {
        "colab": {
          "base_uri": "https://localhost:8080/"
        },
        "id": "zUyn0XRiRena",
        "outputId": "caa055ed-6520-43b0-deb3-4ddfcbe8a15e"
      },
      "execution_count": 523,
      "outputs": [
        {
          "output_type": "execute_result",
          "data": {
            "text/plain": [
              "Email Opened                    38.311688\n",
              "SMS Sent                        29.707792\n",
              "Olark Chat Conversation         10.530303\n",
              "Page Visited on Website          6.926407\n",
              "Converted to Lead                4.632035\n",
              "Email Bounced                    3.528139\n",
              "Email Link Clicked               2.889610\n",
              "Form Submitted on Website        1.255411\n",
              "Unreachable                      1.006494\n",
              "Unsubscribed                     0.660173\n",
              "Had a Phone Conversation         0.324675\n",
              "Approached upfront               0.097403\n",
              "View in browser link Clicked     0.064935\n",
              "Email Received                   0.021645\n",
              "Email Marked Spam                0.021645\n",
              "Visited Booth in Tradeshow       0.010823\n",
              "Resubscribed to emails           0.010823\n",
              "Name: Last Activity, dtype: float64"
            ]
          },
          "metadata": {},
          "execution_count": 523
        }
      ]
    },
    {
      "cell_type": "code",
      "source": [
        "(lead_df['Country'].value_counts()/len(lead_df))*100 # need to drop"
      ],
      "metadata": {
        "colab": {
          "base_uri": "https://localhost:8080/"
        },
        "id": "_srHX8v7RvQa",
        "outputId": "6c9db97a-d481-4e12-9e91-e04147620854"
      },
      "execution_count": 524,
      "outputs": [
        {
          "output_type": "execute_result",
          "data": {
            "text/plain": [
              "India                   96.893939\n",
              "United States            0.746753\n",
              "United Arab Emirates     0.573593\n",
              "Singapore                0.259740\n",
              "Saudi Arabia             0.227273\n",
              "United Kingdom           0.162338\n",
              "Australia                0.140693\n",
              "Qatar                    0.108225\n",
              "Hong Kong                0.075758\n",
              "Bahrain                  0.075758\n",
              "Oman                     0.064935\n",
              "France                   0.064935\n",
              "unknown                  0.054113\n",
              "South Africa             0.043290\n",
              "Nigeria                  0.043290\n",
              "Germany                  0.043290\n",
              "Kuwait                   0.043290\n",
              "Canada                   0.043290\n",
              "Sweden                   0.032468\n",
              "China                    0.021645\n",
              "Asia/Pacific Region      0.021645\n",
              "Uganda                   0.021645\n",
              "Bangladesh               0.021645\n",
              "Italy                    0.021645\n",
              "Belgium                  0.021645\n",
              "Netherlands              0.021645\n",
              "Ghana                    0.021645\n",
              "Philippines              0.021645\n",
              "Russia                   0.010823\n",
              "Switzerland              0.010823\n",
              "Vietnam                  0.010823\n",
              "Denmark                  0.010823\n",
              "Tanzania                 0.010823\n",
              "Liberia                  0.010823\n",
              "Malaysia                 0.010823\n",
              "Kenya                    0.010823\n",
              "Sri Lanka                0.010823\n",
              "Indonesia                0.010823\n",
              "Name: Country, dtype: float64"
            ]
          },
          "metadata": {},
          "execution_count": 524
        }
      ]
    },
    {
      "cell_type": "code",
      "source": [
        "(lead_df['Specialization'].value_counts()/len(lead_df))*100"
      ],
      "metadata": {
        "colab": {
          "base_uri": "https://localhost:8080/"
        },
        "id": "UJlRKT9GR2_S",
        "outputId": "77e5db20-f551-4c76-a5a0-539ea0ffd5cd"
      },
      "execution_count": 525,
      "outputs": [
        {
          "output_type": "execute_result",
          "data": {
            "text/plain": [
              "Other                                36.580087\n",
              "Finance Management                   10.562771\n",
              "Human Resource Management             9.177489\n",
              "Marketing Management                  9.069264\n",
              "Operations Management                 5.443723\n",
              "Business Administration               4.361472\n",
              "IT Projects Management                3.961039\n",
              "Supply Chain Management               3.777056\n",
              "Banking, Investment And Insurance     3.658009\n",
              "Travel and Tourism                    2.196970\n",
              "Media and Advertising                 2.196970\n",
              "International Business                1.926407\n",
              "Healthcare Management                 1.720779\n",
              "Hospitality Management                1.233766\n",
              "E-COMMERCE                            1.212121\n",
              "Retail Management                     1.082251\n",
              "Rural and Agribusiness                0.790043\n",
              "E-Business                            0.616883\n",
              "Services Excellence                   0.432900\n",
              "Name: Specialization, dtype: float64"
            ]
          },
          "metadata": {},
          "execution_count": 525
        }
      ]
    },
    {
      "cell_type": "code",
      "source": [
        "(lead_df['What is your current occupation'].value_counts()/len(lead_df))*100 #need to drop"
      ],
      "metadata": {
        "colab": {
          "base_uri": "https://localhost:8080/"
        },
        "id": "BxvLlcPjR_hZ",
        "outputId": "a5931637-15c3-4ac9-9994-5cc7ac36e720"
      },
      "execution_count": 526,
      "outputs": [
        {
          "output_type": "execute_result",
          "data": {
            "text/plain": [
              "Unemployed              89.718615\n",
              "Working Professional     7.640693\n",
              "Student                  2.272727\n",
              "Other                    0.173160\n",
              "Housewife                0.108225\n",
              "Businessman              0.086580\n",
              "Name: What is your current occupation, dtype: float64"
            ]
          },
          "metadata": {},
          "execution_count": 526
        }
      ]
    },
    {
      "cell_type": "code",
      "source": [
        "(lead_df['What matters most to you in choosing a course'].value_counts()/len(lead_df))*100 #need to drop"
      ],
      "metadata": {
        "colab": {
          "base_uri": "https://localhost:8080/"
        },
        "id": "-M65nEvLSFCQ",
        "outputId": "8f12f447-c7fc-4624-9997-20e800250ee8"
      },
      "execution_count": 527,
      "outputs": [
        {
          "output_type": "execute_result",
          "data": {
            "text/plain": [
              "Better Career Prospects      99.967532\n",
              "Flexibility & Convenience     0.021645\n",
              "Other                         0.010823\n",
              "Name: What matters most to you in choosing a course, dtype: float64"
            ]
          },
          "metadata": {},
          "execution_count": 527
        }
      ]
    },
    {
      "cell_type": "code",
      "source": [
        "(lead_df['Search'].value_counts()/len(lead_df))*100 #need to drop"
      ],
      "metadata": {
        "colab": {
          "base_uri": "https://localhost:8080/"
        },
        "id": "tSM8qmEkSLMR",
        "outputId": "0b7f2309-59a4-4dbd-9da2-d65fcd5a8dcb"
      },
      "execution_count": 528,
      "outputs": [
        {
          "output_type": "execute_result",
          "data": {
            "text/plain": [
              "No     99.848485\n",
              "Yes     0.151515\n",
              "Name: Search, dtype: float64"
            ]
          },
          "metadata": {},
          "execution_count": 528
        }
      ]
    },
    {
      "cell_type": "code",
      "source": [
        "(lead_df['Magazine'].value_counts()/len(lead_df))*100 #need to drop"
      ],
      "metadata": {
        "colab": {
          "base_uri": "https://localhost:8080/"
        },
        "id": "_5I1msggSSt5",
        "outputId": "c6916e8c-7d12-486c-eabe-44239f6014f4"
      },
      "execution_count": 529,
      "outputs": [
        {
          "output_type": "execute_result",
          "data": {
            "text/plain": [
              "No    100.0\n",
              "Name: Magazine, dtype: float64"
            ]
          },
          "metadata": {},
          "execution_count": 529
        }
      ]
    },
    {
      "cell_type": "code",
      "source": [
        "(lead_df['Newspaper Article'].value_counts()/len(lead_df))*100 #need to drop"
      ],
      "metadata": {
        "colab": {
          "base_uri": "https://localhost:8080/"
        },
        "id": "Rf2d6ljHSQGU",
        "outputId": "fd3d5014-2b6d-40ee-f865-fe5d92e59250"
      },
      "execution_count": 530,
      "outputs": [
        {
          "output_type": "execute_result",
          "data": {
            "text/plain": [
              "No     99.978355\n",
              "Yes     0.021645\n",
              "Name: Newspaper Article, dtype: float64"
            ]
          },
          "metadata": {},
          "execution_count": 530
        }
      ]
    },
    {
      "cell_type": "code",
      "source": [
        "(lead_df['X Education Forums'].value_counts()/len(lead_df))*100 #need to drop"
      ],
      "metadata": {
        "colab": {
          "base_uri": "https://localhost:8080/"
        },
        "id": "uezDGeP6Sh4i",
        "outputId": "2c1ddac9-6545-4136-f073-71859fd0bc67"
      },
      "execution_count": 531,
      "outputs": [
        {
          "output_type": "execute_result",
          "data": {
            "text/plain": [
              "No     99.989177\n",
              "Yes     0.010823\n",
              "Name: X Education Forums, dtype: float64"
            ]
          },
          "metadata": {},
          "execution_count": 531
        }
      ]
    },
    {
      "cell_type": "code",
      "source": [
        "(lead_df['Newspaper'].value_counts()/len(lead_df))*100 #need to drop"
      ],
      "metadata": {
        "colab": {
          "base_uri": "https://localhost:8080/"
        },
        "id": "Pq_ohHdYSqba",
        "outputId": "367d8090-9f0a-4325-d806-89873d196c85"
      },
      "execution_count": 532,
      "outputs": [
        {
          "output_type": "execute_result",
          "data": {
            "text/plain": [
              "No     99.989177\n",
              "Yes     0.010823\n",
              "Name: Newspaper, dtype: float64"
            ]
          },
          "metadata": {},
          "execution_count": 532
        }
      ]
    },
    {
      "cell_type": "code",
      "source": [
        "(lead_df['Digital Advertisement'].value_counts()/len(lead_df))*100 #need to drop"
      ],
      "metadata": {
        "colab": {
          "base_uri": "https://localhost:8080/"
        },
        "id": "mjjlO_jsSyAH",
        "outputId": "b0791e2b-e8ca-4058-c16b-0903c3538926"
      },
      "execution_count": 533,
      "outputs": [
        {
          "output_type": "execute_result",
          "data": {
            "text/plain": [
              "No     99.95671\n",
              "Yes     0.04329\n",
              "Name: Digital Advertisement, dtype: float64"
            ]
          },
          "metadata": {},
          "execution_count": 533
        }
      ]
    },
    {
      "cell_type": "code",
      "source": [
        "(lead_df['Through Recommendations'].value_counts()/len(lead_df))*100 #need to drop"
      ],
      "metadata": {
        "colab": {
          "base_uri": "https://localhost:8080/"
        },
        "id": "YHHee3MFS4JE",
        "outputId": "bc8e7361-5b5e-4631-b48e-e6796ada98a4"
      },
      "execution_count": 534,
      "outputs": [
        {
          "output_type": "execute_result",
          "data": {
            "text/plain": [
              "No     99.924242\n",
              "Yes     0.075758\n",
              "Name: Through Recommendations, dtype: float64"
            ]
          },
          "metadata": {},
          "execution_count": 534
        }
      ]
    },
    {
      "cell_type": "code",
      "source": [
        "(lead_df['Receive More Updates About Our Courses'].value_counts()/len(lead_df))*100 #should drop"
      ],
      "metadata": {
        "colab": {
          "base_uri": "https://localhost:8080/"
        },
        "id": "Ul8BrEarS_4z",
        "outputId": "33e12dd1-e3fb-4998-d673-124944264ac7"
      },
      "execution_count": 535,
      "outputs": [
        {
          "output_type": "execute_result",
          "data": {
            "text/plain": [
              "No    100.0\n",
              "Name: Receive More Updates About Our Courses, dtype: float64"
            ]
          },
          "metadata": {},
          "execution_count": 535
        }
      ]
    },
    {
      "cell_type": "code",
      "source": [
        "(lead_df['Tags'].value_counts()/len(lead_df))*100"
      ],
      "metadata": {
        "colab": {
          "base_uri": "https://localhost:8080/"
        },
        "id": "y9XSZb0mTI6I",
        "outputId": "417e1b50-c556-4042-9686-246c5e8086ca"
      },
      "execution_count": 536,
      "outputs": [
        {
          "output_type": "execute_result",
          "data": {
            "text/plain": [
              "Will revert after reading the email                  58.712121\n",
              "Ringing                                              13.019481\n",
              "Interested in other courses                           5.551948\n",
              "Already a student                                     5.032468\n",
              "Closed by Horizzon                                    3.874459\n",
              "switched off                                          2.597403\n",
              "Busy                                                  2.012987\n",
              "Lost to EINS                                          1.893939\n",
              "Not doing further education                           1.569264\n",
              "Interested  in full time MBA                          1.266234\n",
              "Graduation in progress                                1.201299\n",
              "invalid number                                        0.898268\n",
              "Diploma holder (Not Eligible)                         0.681818\n",
              "wrong number given                                    0.508658\n",
              "opp hangup                                            0.357143\n",
              "number not provided                                   0.292208\n",
              "in touch with EINS                                    0.129870\n",
              "Lost to Others                                        0.075758\n",
              "Still Thinking                                        0.064935\n",
              "Want to take admission but has financial problems     0.064935\n",
              "In confusion whether part time or DLP                 0.054113\n",
              "Interested in Next batch                              0.054113\n",
              "Lateral student                                       0.032468\n",
              "Shall take in the next coming month                   0.021645\n",
              "University not recognized                             0.021645\n",
              "Recognition issue (DEC approval)                      0.010823\n",
              "Name: Tags, dtype: float64"
            ]
          },
          "metadata": {},
          "execution_count": 536
        }
      ]
    },
    {
      "cell_type": "code",
      "source": [
        "(lead_df['Update me on Supply Chain Content'].value_counts()/len(lead_df))*100 #need to drop"
      ],
      "metadata": {
        "colab": {
          "base_uri": "https://localhost:8080/"
        },
        "id": "-pv9mnDYTP33",
        "outputId": "d0d4c989-e106-4865-cc36-59c8cd2f67c1"
      },
      "execution_count": 537,
      "outputs": [
        {
          "output_type": "execute_result",
          "data": {
            "text/plain": [
              "No    100.0\n",
              "Name: Update me on Supply Chain Content, dtype: float64"
            ]
          },
          "metadata": {},
          "execution_count": 537
        }
      ]
    },
    {
      "cell_type": "code",
      "source": [
        "(lead_df['Get updates on DM Content'].value_counts()/len(lead_df))*100 #need to drp"
      ],
      "metadata": {
        "colab": {
          "base_uri": "https://localhost:8080/"
        },
        "id": "dYvxZHQ0TWjY",
        "outputId": "3f609ce7-b792-4472-c8cf-8236760d3aec"
      },
      "execution_count": 538,
      "outputs": [
        {
          "output_type": "execute_result",
          "data": {
            "text/plain": [
              "No    100.0\n",
              "Name: Get updates on DM Content, dtype: float64"
            ]
          },
          "metadata": {},
          "execution_count": 538
        }
      ]
    },
    {
      "cell_type": "code",
      "source": [
        "(lead_df['City'].value_counts()/len(lead_df))*100"
      ],
      "metadata": {
        "colab": {
          "base_uri": "https://localhost:8080/"
        },
        "id": "wsvZnwsOTdnP",
        "outputId": "41cb6160-4194-42cb-cb46-34243cf40233"
      },
      "execution_count": 539,
      "outputs": [
        {
          "output_type": "execute_result",
          "data": {
            "text/plain": [
              "Mumbai                         74.577922\n",
              "Thane & Outskirts               8.138528\n",
              "Other Cities                    7.424242\n",
              "Other Cities of Maharashtra     4.945887\n",
              "Other Metro Cities              4.112554\n",
              "Tier II Cities                  0.800866\n",
              "Name: City, dtype: float64"
            ]
          },
          "metadata": {},
          "execution_count": 539
        }
      ]
    },
    {
      "cell_type": "code",
      "source": [
        "(lead_df['I agree to pay the amount through cheque'].value_counts()/len(lead_df))*100 #dropped"
      ],
      "metadata": {
        "colab": {
          "base_uri": "https://localhost:8080/"
        },
        "id": "c4GL61JPTmF-",
        "outputId": "bb07101c-1d22-4836-da13-cb037c3930ff"
      },
      "execution_count": 540,
      "outputs": [
        {
          "output_type": "execute_result",
          "data": {
            "text/plain": [
              "No    100.0\n",
              "Name: I agree to pay the amount through cheque, dtype: float64"
            ]
          },
          "metadata": {},
          "execution_count": 540
        }
      ]
    },
    {
      "cell_type": "code",
      "source": [
        "(lead_df['A free copy of Mastering The Interview'].value_counts()/len(lead_df))*100"
      ],
      "metadata": {
        "colab": {
          "base_uri": "https://localhost:8080/"
        },
        "id": "_W1J_Fk3Tsgm",
        "outputId": "206e2cb0-10b1-440b-8eda-c4af68c54008"
      },
      "execution_count": 541,
      "outputs": [
        {
          "output_type": "execute_result",
          "data": {
            "text/plain": [
              "No     68.744589\n",
              "Yes    31.255411\n",
              "Name: A free copy of Mastering The Interview, dtype: float64"
            ]
          },
          "metadata": {},
          "execution_count": 541
        }
      ]
    },
    {
      "cell_type": "code",
      "source": [
        "(lead_df['Last Notable Activity'].value_counts()/len(lead_df))*100"
      ],
      "metadata": {
        "colab": {
          "base_uri": "https://localhost:8080/"
        },
        "id": "4sSbbFtATz3m",
        "outputId": "580ff022-58b7-45f6-a09b-7e56dc5c16b1"
      },
      "execution_count": 542,
      "outputs": [
        {
          "output_type": "execute_result",
          "data": {
            "text/plain": [
              "Modified                        36.872294\n",
              "Email Opened                    30.595238\n",
              "SMS Sent                        23.506494\n",
              "Page Visited on Website          3.441558\n",
              "Olark Chat Conversation          1.980519\n",
              "Email Link Clicked               1.872294\n",
              "Email Bounced                    0.649351\n",
              "Unsubscribed                     0.508658\n",
              "Unreachable                      0.346320\n",
              "Had a Phone Conversation         0.151515\n",
              "Email Marked Spam                0.021645\n",
              "Approached upfront               0.010823\n",
              "Resubscribed to emails           0.010823\n",
              "View in browser link Clicked     0.010823\n",
              "Form Submitted on Website        0.010823\n",
              "Email Received                   0.010823\n",
              "Name: Last Notable Activity, dtype: float64"
            ]
          },
          "metadata": {},
          "execution_count": 542
        }
      ]
    },
    {
      "cell_type": "code",
      "source": [
        "#Here we are droppig features which has inbalance data which is of above 75%\n",
        "lead_df=lead_df.drop(['I agree to pay the amount through cheque','Get updates on DM Content','Update me on Supply Chain Content',\n",
        "                      'Receive More Updates About Our Courses','Through Recommendations','Digital Advertisement','Newspaper',\n",
        "                      'X Education Forums','Newspaper Article','Magazine','Search','What matters most to you in choosing a course',\n",
        "                      'What is your current occupation','Country','Do Not Call','Do Not Email'],axis=1)"
      ],
      "metadata": {
        "id": "yh9ORfnLT5Vg"
      },
      "execution_count": 543,
      "outputs": []
    },
    {
      "cell_type": "code",
      "source": [
        "lead_df.head()"
      ],
      "metadata": {
        "colab": {
          "base_uri": "https://localhost:8080/",
          "height": 372
        },
        "id": "M_gjhaYcU9Zw",
        "outputId": "a5ef1e0d-ce80-459b-aae2-7ac904a61eaa"
      },
      "execution_count": 544,
      "outputs": [
        {
          "output_type": "execute_result",
          "data": {
            "text/plain": [
              "               Lead Origin     Lead Source  Converted  TotalVisits  \\\n",
              "0                      API      Olark Chat          0          0.0   \n",
              "1                      API  Organic Search          0          5.0   \n",
              "2  Landing Page Submission  Direct Traffic          1          2.0   \n",
              "3  Landing Page Submission  Direct Traffic          0          1.0   \n",
              "4  Landing Page Submission          Google          1          2.0   \n",
              "\n",
              "   Total Time Spent on Website  Page Views Per Visit            Last Activity  \\\n",
              "0                            0                   0.0  Page Visited on Website   \n",
              "1                          674                   2.5             Email Opened   \n",
              "2                         1532                   2.0             Email Opened   \n",
              "3                          305                   1.0              Unreachable   \n",
              "4                         1428                   1.0        Converted to Lead   \n",
              "\n",
              "            Specialization                                 Tags    City  \\\n",
              "0                    Other          Interested in other courses  Mumbai   \n",
              "1                    Other                              Ringing  Mumbai   \n",
              "2  Business Administration  Will revert after reading the email  Mumbai   \n",
              "3    Media and Advertising                              Ringing  Mumbai   \n",
              "4                    Other  Will revert after reading the email  Mumbai   \n",
              "\n",
              "  A free copy of Mastering The Interview Last Notable Activity  \n",
              "0                                     No              Modified  \n",
              "1                                     No          Email Opened  \n",
              "2                                    Yes          Email Opened  \n",
              "3                                     No              Modified  \n",
              "4                                     No              Modified  "
            ],
            "text/html": [
              "\n",
              "  <div id=\"df-07a2bfb6-f0eb-4dfc-8c7d-3af0c2a4c105\">\n",
              "    <div class=\"colab-df-container\">\n",
              "      <div>\n",
              "<style scoped>\n",
              "    .dataframe tbody tr th:only-of-type {\n",
              "        vertical-align: middle;\n",
              "    }\n",
              "\n",
              "    .dataframe tbody tr th {\n",
              "        vertical-align: top;\n",
              "    }\n",
              "\n",
              "    .dataframe thead th {\n",
              "        text-align: right;\n",
              "    }\n",
              "</style>\n",
              "<table border=\"1\" class=\"dataframe\">\n",
              "  <thead>\n",
              "    <tr style=\"text-align: right;\">\n",
              "      <th></th>\n",
              "      <th>Lead Origin</th>\n",
              "      <th>Lead Source</th>\n",
              "      <th>Converted</th>\n",
              "      <th>TotalVisits</th>\n",
              "      <th>Total Time Spent on Website</th>\n",
              "      <th>Page Views Per Visit</th>\n",
              "      <th>Last Activity</th>\n",
              "      <th>Specialization</th>\n",
              "      <th>Tags</th>\n",
              "      <th>City</th>\n",
              "      <th>A free copy of Mastering The Interview</th>\n",
              "      <th>Last Notable Activity</th>\n",
              "    </tr>\n",
              "  </thead>\n",
              "  <tbody>\n",
              "    <tr>\n",
              "      <th>0</th>\n",
              "      <td>API</td>\n",
              "      <td>Olark Chat</td>\n",
              "      <td>0</td>\n",
              "      <td>0.0</td>\n",
              "      <td>0</td>\n",
              "      <td>0.0</td>\n",
              "      <td>Page Visited on Website</td>\n",
              "      <td>Other</td>\n",
              "      <td>Interested in other courses</td>\n",
              "      <td>Mumbai</td>\n",
              "      <td>No</td>\n",
              "      <td>Modified</td>\n",
              "    </tr>\n",
              "    <tr>\n",
              "      <th>1</th>\n",
              "      <td>API</td>\n",
              "      <td>Organic Search</td>\n",
              "      <td>0</td>\n",
              "      <td>5.0</td>\n",
              "      <td>674</td>\n",
              "      <td>2.5</td>\n",
              "      <td>Email Opened</td>\n",
              "      <td>Other</td>\n",
              "      <td>Ringing</td>\n",
              "      <td>Mumbai</td>\n",
              "      <td>No</td>\n",
              "      <td>Email Opened</td>\n",
              "    </tr>\n",
              "    <tr>\n",
              "      <th>2</th>\n",
              "      <td>Landing Page Submission</td>\n",
              "      <td>Direct Traffic</td>\n",
              "      <td>1</td>\n",
              "      <td>2.0</td>\n",
              "      <td>1532</td>\n",
              "      <td>2.0</td>\n",
              "      <td>Email Opened</td>\n",
              "      <td>Business Administration</td>\n",
              "      <td>Will revert after reading the email</td>\n",
              "      <td>Mumbai</td>\n",
              "      <td>Yes</td>\n",
              "      <td>Email Opened</td>\n",
              "    </tr>\n",
              "    <tr>\n",
              "      <th>3</th>\n",
              "      <td>Landing Page Submission</td>\n",
              "      <td>Direct Traffic</td>\n",
              "      <td>0</td>\n",
              "      <td>1.0</td>\n",
              "      <td>305</td>\n",
              "      <td>1.0</td>\n",
              "      <td>Unreachable</td>\n",
              "      <td>Media and Advertising</td>\n",
              "      <td>Ringing</td>\n",
              "      <td>Mumbai</td>\n",
              "      <td>No</td>\n",
              "      <td>Modified</td>\n",
              "    </tr>\n",
              "    <tr>\n",
              "      <th>4</th>\n",
              "      <td>Landing Page Submission</td>\n",
              "      <td>Google</td>\n",
              "      <td>1</td>\n",
              "      <td>2.0</td>\n",
              "      <td>1428</td>\n",
              "      <td>1.0</td>\n",
              "      <td>Converted to Lead</td>\n",
              "      <td>Other</td>\n",
              "      <td>Will revert after reading the email</td>\n",
              "      <td>Mumbai</td>\n",
              "      <td>No</td>\n",
              "      <td>Modified</td>\n",
              "    </tr>\n",
              "  </tbody>\n",
              "</table>\n",
              "</div>\n",
              "      <button class=\"colab-df-convert\" onclick=\"convertToInteractive('df-07a2bfb6-f0eb-4dfc-8c7d-3af0c2a4c105')\"\n",
              "              title=\"Convert this dataframe to an interactive table.\"\n",
              "              style=\"display:none;\">\n",
              "        \n",
              "  <svg xmlns=\"http://www.w3.org/2000/svg\" height=\"24px\"viewBox=\"0 0 24 24\"\n",
              "       width=\"24px\">\n",
              "    <path d=\"M0 0h24v24H0V0z\" fill=\"none\"/>\n",
              "    <path d=\"M18.56 5.44l.94 2.06.94-2.06 2.06-.94-2.06-.94-.94-2.06-.94 2.06-2.06.94zm-11 1L8.5 8.5l.94-2.06 2.06-.94-2.06-.94L8.5 2.5l-.94 2.06-2.06.94zm10 10l.94 2.06.94-2.06 2.06-.94-2.06-.94-.94-2.06-.94 2.06-2.06.94z\"/><path d=\"M17.41 7.96l-1.37-1.37c-.4-.4-.92-.59-1.43-.59-.52 0-1.04.2-1.43.59L10.3 9.45l-7.72 7.72c-.78.78-.78 2.05 0 2.83L4 21.41c.39.39.9.59 1.41.59.51 0 1.02-.2 1.41-.59l7.78-7.78 2.81-2.81c.8-.78.8-2.07 0-2.86zM5.41 20L4 18.59l7.72-7.72 1.47 1.35L5.41 20z\"/>\n",
              "  </svg>\n",
              "      </button>\n",
              "      \n",
              "  <style>\n",
              "    .colab-df-container {\n",
              "      display:flex;\n",
              "      flex-wrap:wrap;\n",
              "      gap: 12px;\n",
              "    }\n",
              "\n",
              "    .colab-df-convert {\n",
              "      background-color: #E8F0FE;\n",
              "      border: none;\n",
              "      border-radius: 50%;\n",
              "      cursor: pointer;\n",
              "      display: none;\n",
              "      fill: #1967D2;\n",
              "      height: 32px;\n",
              "      padding: 0 0 0 0;\n",
              "      width: 32px;\n",
              "    }\n",
              "\n",
              "    .colab-df-convert:hover {\n",
              "      background-color: #E2EBFA;\n",
              "      box-shadow: 0px 1px 2px rgba(60, 64, 67, 0.3), 0px 1px 3px 1px rgba(60, 64, 67, 0.15);\n",
              "      fill: #174EA6;\n",
              "    }\n",
              "\n",
              "    [theme=dark] .colab-df-convert {\n",
              "      background-color: #3B4455;\n",
              "      fill: #D2E3FC;\n",
              "    }\n",
              "\n",
              "    [theme=dark] .colab-df-convert:hover {\n",
              "      background-color: #434B5C;\n",
              "      box-shadow: 0px 1px 3px 1px rgba(0, 0, 0, 0.15);\n",
              "      filter: drop-shadow(0px 1px 2px rgba(0, 0, 0, 0.3));\n",
              "      fill: #FFFFFF;\n",
              "    }\n",
              "  </style>\n",
              "\n",
              "      <script>\n",
              "        const buttonEl =\n",
              "          document.querySelector('#df-07a2bfb6-f0eb-4dfc-8c7d-3af0c2a4c105 button.colab-df-convert');\n",
              "        buttonEl.style.display =\n",
              "          google.colab.kernel.accessAllowed ? 'block' : 'none';\n",
              "\n",
              "        async function convertToInteractive(key) {\n",
              "          const element = document.querySelector('#df-07a2bfb6-f0eb-4dfc-8c7d-3af0c2a4c105');\n",
              "          const dataTable =\n",
              "            await google.colab.kernel.invokeFunction('convertToInteractive',\n",
              "                                                     [key], {});\n",
              "          if (!dataTable) return;\n",
              "\n",
              "          const docLinkHtml = 'Like what you see? Visit the ' +\n",
              "            '<a target=\"_blank\" href=https://colab.research.google.com/notebooks/data_table.ipynb>data table notebook</a>'\n",
              "            + ' to learn more about interactive tables.';\n",
              "          element.innerHTML = '';\n",
              "          dataTable['output_type'] = 'display_data';\n",
              "          await google.colab.output.renderOutput(dataTable, element);\n",
              "          const docLink = document.createElement('div');\n",
              "          docLink.innerHTML = docLinkHtml;\n",
              "          element.appendChild(docLink);\n",
              "        }\n",
              "      </script>\n",
              "    </div>\n",
              "  </div>\n",
              "  "
            ]
          },
          "metadata": {},
          "execution_count": 544
        }
      ]
    },
    {
      "cell_type": "code",
      "source": [
        "lead_df.shape"
      ],
      "metadata": {
        "colab": {
          "base_uri": "https://localhost:8080/"
        },
        "id": "B7mw7lKGU_pz",
        "outputId": "f952b93d-3da3-41ab-e645-6a3cee99361b"
      },
      "execution_count": 545,
      "outputs": [
        {
          "output_type": "execute_result",
          "data": {
            "text/plain": [
              "(9240, 12)"
            ]
          },
          "metadata": {},
          "execution_count": 545
        }
      ]
    },
    {
      "cell_type": "code",
      "source": [
        "lead_df.isna().sum()"
      ],
      "metadata": {
        "colab": {
          "base_uri": "https://localhost:8080/"
        },
        "id": "p58lvz2GVC_y",
        "outputId": "9c44c2c2-0c4a-4dc7-891a-e135eee007d9"
      },
      "execution_count": 546,
      "outputs": [
        {
          "output_type": "execute_result",
          "data": {
            "text/plain": [
              "Lead Origin                                 0\n",
              "Lead Source                                 0\n",
              "Converted                                   0\n",
              "TotalVisits                               137\n",
              "Total Time Spent on Website                 0\n",
              "Page Views Per Visit                      137\n",
              "Last Activity                               0\n",
              "Specialization                              0\n",
              "Tags                                        0\n",
              "City                                        0\n",
              "A free copy of Mastering The Interview      0\n",
              "Last Notable Activity                       0\n",
              "dtype: int64"
            ]
          },
          "metadata": {},
          "execution_count": 546
        }
      ]
    },
    {
      "cell_type": "code",
      "source": [
        "lead_df.info()"
      ],
      "metadata": {
        "colab": {
          "base_uri": "https://localhost:8080/"
        },
        "id": "5kxr_mtQVNsy",
        "outputId": "07b3ceb0-3ffc-4289-9cc4-fcf1f3b4dccc"
      },
      "execution_count": 547,
      "outputs": [
        {
          "output_type": "stream",
          "name": "stdout",
          "text": [
            "<class 'pandas.core.frame.DataFrame'>\n",
            "RangeIndex: 9240 entries, 0 to 9239\n",
            "Data columns (total 12 columns):\n",
            " #   Column                                  Non-Null Count  Dtype  \n",
            "---  ------                                  --------------  -----  \n",
            " 0   Lead Origin                             9240 non-null   object \n",
            " 1   Lead Source                             9240 non-null   object \n",
            " 2   Converted                               9240 non-null   int64  \n",
            " 3   TotalVisits                             9103 non-null   float64\n",
            " 4   Total Time Spent on Website             9240 non-null   int64  \n",
            " 5   Page Views Per Visit                    9103 non-null   float64\n",
            " 6   Last Activity                           9240 non-null   object \n",
            " 7   Specialization                          9240 non-null   object \n",
            " 8   Tags                                    9240 non-null   object \n",
            " 9   City                                    9240 non-null   object \n",
            " 10  A free copy of Mastering The Interview  9240 non-null   object \n",
            " 11  Last Notable Activity                   9240 non-null   object \n",
            "dtypes: float64(2), int64(2), object(8)\n",
            "memory usage: 866.4+ KB\n"
          ]
        }
      ]
    },
    {
      "cell_type": "code",
      "source": [
        "lead_df.describe()"
      ],
      "metadata": {
        "colab": {
          "base_uri": "https://localhost:8080/",
          "height": 300
        },
        "id": "lpfoJDKkVRuT",
        "outputId": "44408ad3-dd24-4cd6-be80-2998e4aad180"
      },
      "execution_count": 548,
      "outputs": [
        {
          "output_type": "execute_result",
          "data": {
            "text/plain": [
              "         Converted  TotalVisits  Total Time Spent on Website  \\\n",
              "count  9240.000000  9103.000000                  9240.000000   \n",
              "mean      0.385390     3.445238                   487.698268   \n",
              "std       0.486714     4.854853                   548.021466   \n",
              "min       0.000000     0.000000                     0.000000   \n",
              "25%       0.000000     1.000000                    12.000000   \n",
              "50%       0.000000     3.000000                   248.000000   \n",
              "75%       1.000000     5.000000                   936.000000   \n",
              "max       1.000000   251.000000                  2272.000000   \n",
              "\n",
              "       Page Views Per Visit  \n",
              "count           9103.000000  \n",
              "mean               2.362820  \n",
              "std                2.161418  \n",
              "min                0.000000  \n",
              "25%                1.000000  \n",
              "50%                2.000000  \n",
              "75%                3.000000  \n",
              "max               55.000000  "
            ],
            "text/html": [
              "\n",
              "  <div id=\"df-ff38a52f-cbde-4e1a-a0a5-c93efbaea50a\">\n",
              "    <div class=\"colab-df-container\">\n",
              "      <div>\n",
              "<style scoped>\n",
              "    .dataframe tbody tr th:only-of-type {\n",
              "        vertical-align: middle;\n",
              "    }\n",
              "\n",
              "    .dataframe tbody tr th {\n",
              "        vertical-align: top;\n",
              "    }\n",
              "\n",
              "    .dataframe thead th {\n",
              "        text-align: right;\n",
              "    }\n",
              "</style>\n",
              "<table border=\"1\" class=\"dataframe\">\n",
              "  <thead>\n",
              "    <tr style=\"text-align: right;\">\n",
              "      <th></th>\n",
              "      <th>Converted</th>\n",
              "      <th>TotalVisits</th>\n",
              "      <th>Total Time Spent on Website</th>\n",
              "      <th>Page Views Per Visit</th>\n",
              "    </tr>\n",
              "  </thead>\n",
              "  <tbody>\n",
              "    <tr>\n",
              "      <th>count</th>\n",
              "      <td>9240.000000</td>\n",
              "      <td>9103.000000</td>\n",
              "      <td>9240.000000</td>\n",
              "      <td>9103.000000</td>\n",
              "    </tr>\n",
              "    <tr>\n",
              "      <th>mean</th>\n",
              "      <td>0.385390</td>\n",
              "      <td>3.445238</td>\n",
              "      <td>487.698268</td>\n",
              "      <td>2.362820</td>\n",
              "    </tr>\n",
              "    <tr>\n",
              "      <th>std</th>\n",
              "      <td>0.486714</td>\n",
              "      <td>4.854853</td>\n",
              "      <td>548.021466</td>\n",
              "      <td>2.161418</td>\n",
              "    </tr>\n",
              "    <tr>\n",
              "      <th>min</th>\n",
              "      <td>0.000000</td>\n",
              "      <td>0.000000</td>\n",
              "      <td>0.000000</td>\n",
              "      <td>0.000000</td>\n",
              "    </tr>\n",
              "    <tr>\n",
              "      <th>25%</th>\n",
              "      <td>0.000000</td>\n",
              "      <td>1.000000</td>\n",
              "      <td>12.000000</td>\n",
              "      <td>1.000000</td>\n",
              "    </tr>\n",
              "    <tr>\n",
              "      <th>50%</th>\n",
              "      <td>0.000000</td>\n",
              "      <td>3.000000</td>\n",
              "      <td>248.000000</td>\n",
              "      <td>2.000000</td>\n",
              "    </tr>\n",
              "    <tr>\n",
              "      <th>75%</th>\n",
              "      <td>1.000000</td>\n",
              "      <td>5.000000</td>\n",
              "      <td>936.000000</td>\n",
              "      <td>3.000000</td>\n",
              "    </tr>\n",
              "    <tr>\n",
              "      <th>max</th>\n",
              "      <td>1.000000</td>\n",
              "      <td>251.000000</td>\n",
              "      <td>2272.000000</td>\n",
              "      <td>55.000000</td>\n",
              "    </tr>\n",
              "  </tbody>\n",
              "</table>\n",
              "</div>\n",
              "      <button class=\"colab-df-convert\" onclick=\"convertToInteractive('df-ff38a52f-cbde-4e1a-a0a5-c93efbaea50a')\"\n",
              "              title=\"Convert this dataframe to an interactive table.\"\n",
              "              style=\"display:none;\">\n",
              "        \n",
              "  <svg xmlns=\"http://www.w3.org/2000/svg\" height=\"24px\"viewBox=\"0 0 24 24\"\n",
              "       width=\"24px\">\n",
              "    <path d=\"M0 0h24v24H0V0z\" fill=\"none\"/>\n",
              "    <path d=\"M18.56 5.44l.94 2.06.94-2.06 2.06-.94-2.06-.94-.94-2.06-.94 2.06-2.06.94zm-11 1L8.5 8.5l.94-2.06 2.06-.94-2.06-.94L8.5 2.5l-.94 2.06-2.06.94zm10 10l.94 2.06.94-2.06 2.06-.94-2.06-.94-.94-2.06-.94 2.06-2.06.94z\"/><path d=\"M17.41 7.96l-1.37-1.37c-.4-.4-.92-.59-1.43-.59-.52 0-1.04.2-1.43.59L10.3 9.45l-7.72 7.72c-.78.78-.78 2.05 0 2.83L4 21.41c.39.39.9.59 1.41.59.51 0 1.02-.2 1.41-.59l7.78-7.78 2.81-2.81c.8-.78.8-2.07 0-2.86zM5.41 20L4 18.59l7.72-7.72 1.47 1.35L5.41 20z\"/>\n",
              "  </svg>\n",
              "      </button>\n",
              "      \n",
              "  <style>\n",
              "    .colab-df-container {\n",
              "      display:flex;\n",
              "      flex-wrap:wrap;\n",
              "      gap: 12px;\n",
              "    }\n",
              "\n",
              "    .colab-df-convert {\n",
              "      background-color: #E8F0FE;\n",
              "      border: none;\n",
              "      border-radius: 50%;\n",
              "      cursor: pointer;\n",
              "      display: none;\n",
              "      fill: #1967D2;\n",
              "      height: 32px;\n",
              "      padding: 0 0 0 0;\n",
              "      width: 32px;\n",
              "    }\n",
              "\n",
              "    .colab-df-convert:hover {\n",
              "      background-color: #E2EBFA;\n",
              "      box-shadow: 0px 1px 2px rgba(60, 64, 67, 0.3), 0px 1px 3px 1px rgba(60, 64, 67, 0.15);\n",
              "      fill: #174EA6;\n",
              "    }\n",
              "\n",
              "    [theme=dark] .colab-df-convert {\n",
              "      background-color: #3B4455;\n",
              "      fill: #D2E3FC;\n",
              "    }\n",
              "\n",
              "    [theme=dark] .colab-df-convert:hover {\n",
              "      background-color: #434B5C;\n",
              "      box-shadow: 0px 1px 3px 1px rgba(0, 0, 0, 0.15);\n",
              "      filter: drop-shadow(0px 1px 2px rgba(0, 0, 0, 0.3));\n",
              "      fill: #FFFFFF;\n",
              "    }\n",
              "  </style>\n",
              "\n",
              "      <script>\n",
              "        const buttonEl =\n",
              "          document.querySelector('#df-ff38a52f-cbde-4e1a-a0a5-c93efbaea50a button.colab-df-convert');\n",
              "        buttonEl.style.display =\n",
              "          google.colab.kernel.accessAllowed ? 'block' : 'none';\n",
              "\n",
              "        async function convertToInteractive(key) {\n",
              "          const element = document.querySelector('#df-ff38a52f-cbde-4e1a-a0a5-c93efbaea50a');\n",
              "          const dataTable =\n",
              "            await google.colab.kernel.invokeFunction('convertToInteractive',\n",
              "                                                     [key], {});\n",
              "          if (!dataTable) return;\n",
              "\n",
              "          const docLinkHtml = 'Like what you see? Visit the ' +\n",
              "            '<a target=\"_blank\" href=https://colab.research.google.com/notebooks/data_table.ipynb>data table notebook</a>'\n",
              "            + ' to learn more about interactive tables.';\n",
              "          element.innerHTML = '';\n",
              "          dataTable['output_type'] = 'display_data';\n",
              "          await google.colab.output.renderOutput(dataTable, element);\n",
              "          const docLink = document.createElement('div');\n",
              "          docLink.innerHTML = docLinkHtml;\n",
              "          element.appendChild(docLink);\n",
              "        }\n",
              "      </script>\n",
              "    </div>\n",
              "  </div>\n",
              "  "
            ]
          },
          "metadata": {},
          "execution_count": 548
        }
      ]
    },
    {
      "cell_type": "markdown",
      "source": [
        "#Analysing Numerical Values"
      ],
      "metadata": {
        "id": "K9VSSW1opDQr"
      }
    },
    {
      "cell_type": "code",
      "source": [
        "lead_df[\"TotalVisits\"].isna().sum()"
      ],
      "metadata": {
        "colab": {
          "base_uri": "https://localhost:8080/"
        },
        "id": "5Dhg5UZTpCHB",
        "outputId": "1c3e5a16-7994-40ef-fb54-7fee39aef390"
      },
      "execution_count": 549,
      "outputs": [
        {
          "output_type": "execute_result",
          "data": {
            "text/plain": [
              "137"
            ]
          },
          "metadata": {},
          "execution_count": 549
        }
      ]
    },
    {
      "cell_type": "code",
      "source": [
        "sns.distplot(lead_df[\"TotalVisits\"])\n",
        "print(lead_df[\"TotalVisits\"].skew())\n",
        "print(lead_df[\"TotalVisits\"].kurt())"
      ],
      "metadata": {
        "colab": {
          "base_uri": "https://localhost:8080/",
          "height": 374
        },
        "id": "BYxwa1GoVU3z",
        "outputId": "9ca5f27f-9a83-4b64-8d07-12a21d532b5b"
      },
      "execution_count": 550,
      "outputs": [
        {
          "output_type": "stream",
          "name": "stdout",
          "text": [
            "19.911657340056212\n",
            "853.4787059736808\n"
          ]
        },
        {
          "output_type": "stream",
          "name": "stderr",
          "text": [
            "/usr/local/lib/python3.8/dist-packages/seaborn/distributions.py:2619: FutureWarning: `distplot` is a deprecated function and will be removed in a future version. Please adapt your code to use either `displot` (a figure-level function with similar flexibility) or `histplot` (an axes-level function for histograms).\n",
            "  warnings.warn(msg, FutureWarning)\n"
          ]
        },
        {
          "output_type": "display_data",
          "data": {
            "text/plain": [
              "<Figure size 432x288 with 1 Axes>"
            ],
            "image/png": "[encoded data removed]"
          },
          "metadata": {
            "needs_background": "light"
          }
        }
      ]
    },
    {
      "cell_type": "markdown",
      "source": [
        "1. Mean imputation works better if the distribution is normally-distributed or has a Gaussian distribution \n",
        "2. while median imputation is preferable for skewed distribution(be it right or left)\n",
        "3. thats why we are going to replaced null values with mode\n",
        "4. as values are lies betwen 0-less than 50 so that we will replace it with mode"
      ],
      "metadata": {
        "id": "sViHEqtFrozH"
      }
    },
    {
      "cell_type": "code",
      "source": [
        "lead_df[\"TotalVisits\"]=lead_df[\"TotalVisits\"].fillna(lead_df[\"TotalVisits\"].mode()[0])"
      ],
      "metadata": {
        "id": "GTgRcY1Gr38-"
      },
      "execution_count": 551,
      "outputs": []
    },
    {
      "cell_type": "code",
      "source": [
        "sns.distplot(lead_df[\"Total Time Spent on Website\"])\n",
        "print(lead_df[\"Total Time Spent on Website\"].skew())\n",
        "print(lead_df[\"Total Time Spent on Website\"].kurt())"
      ],
      "metadata": {
        "colab": {
          "base_uri": "https://localhost:8080/",
          "height": 375
        },
        "id": "mIFxcUjgj83e",
        "outputId": "8c8b21c9-3139-4f9f-9244-69db83980632"
      },
      "execution_count": 552,
      "outputs": [
        {
          "output_type": "stream",
          "name": "stderr",
          "text": [
            "/usr/local/lib/python3.8/dist-packages/seaborn/distributions.py:2619: FutureWarning: `distplot` is a deprecated function and will be removed in a future version. Please adapt your code to use either `displot` (a figure-level function with similar flexibility) or `histplot` (an axes-level function for histograms).\n",
            "  warnings.warn(msg, FutureWarning)\n"
          ]
        },
        {
          "output_type": "stream",
          "name": "stdout",
          "text": [
            "0.9564501929530472\n",
            "-0.4037697307931065\n"
          ]
        },
        {
          "output_type": "display_data",
          "data": {
            "text/plain": [
              "<Figure size 432x288 with 1 Axes>"
            ],
            "image/png": "[encoded data removed]"
          },
          "metadata": {
            "needs_background": "light"
          }
        }
      ]
    },
    {
      "cell_type": "markdown",
      "source": [
        "1. here skewness is near to 0 that means it is normally distributed\n",
        "2. however there are some outlier are present in it\n",
        "3. but we can replace null value with mean"
      ],
      "metadata": {
        "id": "KOh_K7CpvIQB"
      }
    },
    {
      "cell_type": "code",
      "source": [
        "lead_df[\"Total Time Spent on Website\"]=lead_df[\"Total Time Spent on Website\"].fillna(lead_df[\"Total Time Spent on Website\"].mean())"
      ],
      "metadata": {
        "id": "kdKmpIpFuFpG"
      },
      "execution_count": 553,
      "outputs": []
    },
    {
      "cell_type": "code",
      "source": [
        "sns.distplot(lead_df[\"Page Views Per Visit\"])\n",
        "print(lead_df[\"Page Views Per Visit\"].skew())\n",
        "print(lead_df[\"Page Views Per Visit\"].kurt())"
      ],
      "metadata": {
        "colab": {
          "base_uri": "https://localhost:8080/",
          "height": 374
        },
        "id": "nSMztlR8kQ6E",
        "outputId": "411964ba-4e36-46f8-e992-12e927f2f700"
      },
      "execution_count": 554,
      "outputs": [
        {
          "output_type": "stream",
          "name": "stderr",
          "text": [
            "/usr/local/lib/python3.8/dist-packages/seaborn/distributions.py:2619: FutureWarning: `distplot` is a deprecated function and will be removed in a future version. Please adapt your code to use either `displot` (a figure-level function with similar flexibility) or `histplot` (an axes-level function for histograms).\n",
            "  warnings.warn(msg, FutureWarning)\n"
          ]
        },
        {
          "output_type": "stream",
          "name": "stdout",
          "text": [
            "2.871792896566408\n",
            "42.36234824093768\n"
          ]
        },
        {
          "output_type": "display_data",
          "data": {
            "text/plain": [
              "<Figure size 432x288 with 1 Axes>"
            ],
            "image/png": "[encoded data removed]"
          },
          "metadata": {
            "needs_background": "light"
          }
        }
      ]
    },
    {
      "cell_type": "markdown",
      "source": [
        "1. here also it is positively skewed\n",
        "2. we can replace this null value with median"
      ],
      "metadata": {
        "id": "kE6SHZg3v3xv"
      }
    },
    {
      "cell_type": "code",
      "source": [
        "lead_df[\"Page Views Per Visit\"]=lead_df[\"Page Views Per Visit\"].fillna(lead_df[\"Page Views Per Visit\"].median())"
      ],
      "metadata": {
        "id": "a_HN4NDwvuP8"
      },
      "execution_count": 555,
      "outputs": []
    },
    {
      "cell_type": "code",
      "source": [
        "lead_df.isna().sum()"
      ],
      "metadata": {
        "colab": {
          "base_uri": "https://localhost:8080/"
        },
        "id": "uXqPIisEv2n2",
        "outputId": "244699d7-3bbc-4f41-c563-c8964baf4c5e"
      },
      "execution_count": 556,
      "outputs": [
        {
          "output_type": "execute_result",
          "data": {
            "text/plain": [
              "Lead Origin                               0\n",
              "Lead Source                               0\n",
              "Converted                                 0\n",
              "TotalVisits                               0\n",
              "Total Time Spent on Website               0\n",
              "Page Views Per Visit                      0\n",
              "Last Activity                             0\n",
              "Specialization                            0\n",
              "Tags                                      0\n",
              "City                                      0\n",
              "A free copy of Mastering The Interview    0\n",
              "Last Notable Activity                     0\n",
              "dtype: int64"
            ]
          },
          "metadata": {},
          "execution_count": 556
        }
      ]
    },
    {
      "cell_type": "markdown",
      "source": [
        "#Finding Outlier"
      ],
      "metadata": {
        "id": "WCQcMnjHymyQ"
      }
    },
    {
      "cell_type": "code",
      "source": [
        "fig, ax = plt.subplots()\n",
        "ax.scatter(lead_df['TotalVisits'], lead_df['TotalVisits'])"
      ],
      "metadata": {
        "colab": {
          "base_uri": "https://localhost:8080/",
          "height": 285
        },
        "id": "rUOPecgW2Ann",
        "outputId": "15362a18-319d-4571-9250-f55f777032ce"
      },
      "execution_count": 557,
      "outputs": [
        {
          "output_type": "execute_result",
          "data": {
            "text/plain": [
              "<matplotlib.collections.PathCollection at 0x7fccc22eda90>"
            ]
          },
          "metadata": {},
          "execution_count": 557
        },
        {
          "output_type": "display_data",
          "data": {
            "text/plain": [
              "<Figure size 432x288 with 1 Axes>"
            ],
            "image/png": "[encoded data removed]"
          },
          "metadata": {
            "needs_background": "light"
          }
        }
      ]
    },
    {
      "cell_type": "code",
      "source": [
        "plt.boxplot(x=lead_df['TotalVisits'])"
      ],
      "metadata": {
        "colab": {
          "base_uri": "https://localhost:8080/",
          "height": 407
        },
        "id": "ZM-TvZfzwsv-",
        "outputId": "7c0b72e7-5a33-4afd-b222-fec45ad6114a"
      },
      "execution_count": 558,
      "outputs": [
        {
          "output_type": "execute_result",
          "data": {
            "text/plain": [
              "{'whiskers': [<matplotlib.lines.Line2D at 0x7fccc224d040>,\n",
              "  <matplotlib.lines.Line2D at 0x7fccc224d3a0>],\n",
              " 'caps': [<matplotlib.lines.Line2D at 0x7fccc224d700>,\n",
              "  <matplotlib.lines.Line2D at 0x7fccc224da60>],\n",
              " 'boxes': [<matplotlib.lines.Line2D at 0x7fccc22bdca0>],\n",
              " 'medians': [<matplotlib.lines.Line2D at 0x7fccc224ddc0>],\n",
              " 'fliers': [<matplotlib.lines.Line2D at 0x7fccc2257100>],\n",
              " 'means': []}"
            ]
          },
          "metadata": {},
          "execution_count": 558
        },
        {
          "output_type": "display_data",
          "data": {
            "text/plain": [
              "<Figure size 432x288 with 1 Axes>"
            ],
            "image/png": "[encoded data removed]"
          },
          "metadata": {
            "needs_background": "light"
          }
        }
      ]
    },
    {
      "cell_type": "code",
      "source": [
        "IQR1 = np.percentile(lead_df['TotalVisits'],75)-np.percentile(lead_df['TotalVisits'],25) #upper and lower limit (Q3=Q1)\n",
        "\n",
        "upper_threshold=np.percentile(lead_df['TotalVisits'],75)+1.5*IQR1\n",
        "lower_threshold=np.percentile(lead_df['TotalVisits'],25)-1.5*IQR1\n",
        "\n",
        "print(\"upper_threshold :\",upper_threshold)\n",
        "print(\"lower_threshold :\",lower_threshold)\n",
        "\n",
        "\n",
        "upper1=np.where([lead_df['TotalVisits']>upper_threshold])\n",
        "\n",
        "lower1=np.where([lead_df['TotalVisits']<lower_threshold])"
      ],
      "metadata": {
        "colab": {
          "base_uri": "https://localhost:8080/"
        },
        "id": "VDxIMx2Szsam",
        "outputId": "4a44fda9-1a16-487e-9826-75dee0ba03c9"
      },
      "execution_count": 559,
      "outputs": [
        {
          "output_type": "stream",
          "name": "stdout",
          "text": [
            "upper_threshold : 12.5\n",
            "lower_threshold : -7.5\n"
          ]
        }
      ]
    },
    {
      "cell_type": "code",
      "source": [
        "lead_df=lead_df.drop(lead_df[(lead_df['TotalVisits']>upper_threshold)].index)"
      ],
      "metadata": {
        "id": "Usjhknng8xS8"
      },
      "execution_count": 560,
      "outputs": []
    },
    {
      "cell_type": "code",
      "source": [
        "fig, ax = plt.subplots()\n",
        "ax.scatter(lead_df['Total Time Spent on Website'], lead_df['Total Time Spent on Website'])"
      ],
      "metadata": {
        "colab": {
          "base_uri": "https://localhost:8080/",
          "height": 285
        },
        "id": "l6n6tLDF2Iqi",
        "outputId": "9247f71a-2ce5-45a6-ae07-27b0c666168f"
      },
      "execution_count": 561,
      "outputs": [
        {
          "output_type": "execute_result",
          "data": {
            "text/plain": [
              "<matplotlib.collections.PathCollection at 0x7fccc22242b0>"
            ]
          },
          "metadata": {},
          "execution_count": 561
        },
        {
          "output_type": "display_data",
          "data": {
            "text/plain": [
              "<Figure size 432x288 with 1 Axes>"
            ],
            "image/png": "[encoded data removed]"
          },
          "metadata": {
            "needs_background": "light"
          }
        }
      ]
    },
    {
      "cell_type": "code",
      "source": [
        "plt.boxplot(x=lead_df['Total Time Spent on Website'])"
      ],
      "metadata": {
        "colab": {
          "base_uri": "https://localhost:8080/",
          "height": 407
        },
        "id": "QT6IYpCUyxx1",
        "outputId": "2c29d281-3ad6-4755-8fa8-11afad167dc7"
      },
      "execution_count": 562,
      "outputs": [
        {
          "output_type": "execute_result",
          "data": {
            "text/plain": [
              "{'whiskers': [<matplotlib.lines.Line2D at 0x7fccc21eeb20>,\n",
              "  <matplotlib.lines.Line2D at 0x7fccc21eee80>],\n",
              " 'caps': [<matplotlib.lines.Line2D at 0x7fccc21fb220>,\n",
              "  <matplotlib.lines.Line2D at 0x7fccc21fb580>],\n",
              " 'boxes': [<matplotlib.lines.Line2D at 0x7fccc21ee7c0>],\n",
              " 'medians': [<matplotlib.lines.Line2D at 0x7fccc21fb910>],\n",
              " 'fliers': [<matplotlib.lines.Line2D at 0x7fccc21fbc10>],\n",
              " 'means': []}"
            ]
          },
          "metadata": {},
          "execution_count": 562
        },
        {
          "output_type": "display_data",
          "data": {
            "text/plain": [
              "<Figure size 432x288 with 1 Axes>"
            ],
            "image/png": "[encoded data removed]"
          },
          "metadata": {
            "needs_background": "light"
          }
        }
      ]
    },
    {
      "cell_type": "code",
      "source": [
        "IQR2 = np.percentile(lead_df['Total Time Spent on Website'],75)-np.percentile(lead_df['Total Time Spent on Website'],25) #upper and lower limit (Q3=Q1)\n",
        "\n",
        "upper_threshold=np.percentile(lead_df['Total Time Spent on Website'],75)+1.5*IQR2\n",
        "lower_threshold=np.percentile(lead_df['Total Time Spent on Website'],25)-1.5*IQR2\n",
        "\n",
        "print(\"upper_threshold :\",upper_threshold)\n",
        "print(\"lower_threshold :\",lower_threshold)\n",
        "\n",
        "\n",
        "upper2=np.where([lead_df['Total Time Spent on Website']>upper_threshold])\n",
        "\n",
        "lower2=np.where([lead_df['Total Time Spent on Website']<lower_threshold])"
      ],
      "metadata": {
        "colab": {
          "base_uri": "https://localhost:8080/"
        },
        "id": "EjOKbXPI0J3O",
        "outputId": "e91da479-b7c4-4612-ab00-bee07eaa39d5"
      },
      "execution_count": 563,
      "outputs": [
        {
          "output_type": "stream",
          "name": "stdout",
          "text": [
            "upper_threshold : 2298.875\n",
            "lower_threshold : -1368.125\n"
          ]
        }
      ]
    },
    {
      "cell_type": "code",
      "source": [
        "fig, ax = plt.subplots()\n",
        "ax.scatter(lead_df['Page Views Per Visit'], lead_df['Page Views Per Visit'])"
      ],
      "metadata": {
        "colab": {
          "base_uri": "https://localhost:8080/",
          "height": 285
        },
        "id": "OoQ5s9kT2RJp",
        "outputId": "8c7a5342-b6c0-46fb-865d-beb21dbd111a"
      },
      "execution_count": 564,
      "outputs": [
        {
          "output_type": "execute_result",
          "data": {
            "text/plain": [
              "<matplotlib.collections.PathCollection at 0x7fccc21c6490>"
            ]
          },
          "metadata": {},
          "execution_count": 564
        },
        {
          "output_type": "display_data",
          "data": {
            "text/plain": [
              "<Figure size 432x288 with 1 Axes>"
            ],
            "image/png": "[encoded data removed]"
          },
          "metadata": {
            "needs_background": "light"
          }
        }
      ]
    },
    {
      "cell_type": "code",
      "source": [
        "plt.boxplot(x=lead_df['Page Views Per Visit'])"
      ],
      "metadata": {
        "colab": {
          "base_uri": "https://localhost:8080/",
          "height": 407
        },
        "id": "t-qsXo8qy6Xl",
        "outputId": "6e80831f-9cf1-4a8f-f248-82d1a8e95c91"
      },
      "execution_count": 565,
      "outputs": [
        {
          "output_type": "execute_result",
          "data": {
            "text/plain": [
              "{'whiskers': [<matplotlib.lines.Line2D at 0x7fccc21242b0>,\n",
              "  <matplotlib.lines.Line2D at 0x7fccc2124610>],\n",
              " 'caps': [<matplotlib.lines.Line2D at 0x7fccc2124970>,\n",
              "  <matplotlib.lines.Line2D at 0x7fccc2124cd0>],\n",
              " 'boxes': [<matplotlib.lines.Line2D at 0x7fccc2118f10>],\n",
              " 'medians': [<matplotlib.lines.Line2D at 0x7fccc212f070>],\n",
              " 'fliers': [<matplotlib.lines.Line2D at 0x7fccc212f370>],\n",
              " 'means': []}"
            ]
          },
          "metadata": {},
          "execution_count": 565
        },
        {
          "output_type": "display_data",
          "data": {
            "text/plain": [
              "<Figure size 432x288 with 1 Axes>"
            ],
            "image/png": "[encoded data removed]"
          },
          "metadata": {
            "needs_background": "light"
          }
        }
      ]
    },
    {
      "cell_type": "code",
      "source": [
        "IQR3 = np.percentile(lead_df['Page Views Per Visit'],75)-np.percentile(lead_df['Page Views Per Visit'],25) #upper and lower limit (Q3=Q1)\n",
        "\n",
        "upper_threshold=np.percentile(lead_df['Page Views Per Visit'],75)+1.5*IQR3\n",
        "lower_threshold=np.percentile(lead_df['Page Views Per Visit'],25)-1.5*IQR3\n",
        "\n",
        "print(\"upper_threshold :\",upper_threshold)\n",
        "print(\"lower_threshold :\",lower_threshold)\n",
        "\n",
        "\n",
        "upper3=np.where([lead_df['Page Views Per Visit']>upper_threshold])\n",
        "\n",
        "lower3=np.where([lead_df['Page Views Per Visit']<lower_threshold])\n"
      ],
      "metadata": {
        "colab": {
          "base_uri": "https://localhost:8080/"
        },
        "id": "xSEcOaEg0aR5",
        "outputId": "534b46ec-afc2-4a77-813b-eddccbc0af70"
      },
      "execution_count": 566,
      "outputs": [
        {
          "output_type": "stream",
          "name": "stdout",
          "text": [
            "upper_threshold : 6.0\n",
            "lower_threshold : -2.0\n"
          ]
        }
      ]
    },
    {
      "cell_type": "code",
      "source": [
        "lead_df=lead_df.drop(lead_df[(lead_df['Page Views Per Visit']>upper_threshold)].index)"
      ],
      "metadata": {
        "id": "uM5j4Q-c8aEw"
      },
      "execution_count": 567,
      "outputs": []
    },
    {
      "cell_type": "code",
      "source": [
        "#lead_df['TotalVisits'].drop(upper1[0], inplace = True)\n",
        "#lead_df['TotalVisits'].drop(lower1[0], inplace = True)"
      ],
      "metadata": {
        "id": "0JBRTR-b6Q6P"
      },
      "execution_count": 568,
      "outputs": []
    },
    {
      "cell_type": "code",
      "source": [
        "#lead_df['Total Time Spent on Website'].drop(upper2[0], inplace = True)\n",
        "#lead_df['Total Time Spent on Website'].drop(lower2[0], inplace = True)"
      ],
      "metadata": {
        "id": "CxTeAxbo6QrX"
      },
      "execution_count": 569,
      "outputs": []
    },
    {
      "cell_type": "code",
      "source": [
        "#lead_df['Page Views Per Visit'].drop(upper3[0], inplace = True)\n",
        "#lead_df['Page Views Per Visit'].drop(lower3[0], inplace = True)"
      ],
      "metadata": {
        "id": "71Zg5GBG1yu1"
      },
      "execution_count": 570,
      "outputs": []
    },
    {
      "cell_type": "markdown",
      "source": [
        "1. Here all outlier are deleted and also null values are replaced no our data is cleared"
      ],
      "metadata": {
        "id": "a-Oafy7i66SH"
      }
    },
    {
      "cell_type": "code",
      "source": [
        "lead_df.shape"
      ],
      "metadata": {
        "colab": {
          "base_uri": "https://localhost:8080/"
        },
        "id": "xU4iUN_j4mEB",
        "outputId": "1f757335-37ec-4b73-9bb3-f522fbacefdc"
      },
      "execution_count": 571,
      "outputs": [
        {
          "output_type": "execute_result",
          "data": {
            "text/plain": [
              "(8719, 12)"
            ]
          },
          "metadata": {},
          "execution_count": 571
        }
      ]
    },
    {
      "cell_type": "code",
      "source": [
        "lead_df.isna().sum()"
      ],
      "metadata": {
        "colab": {
          "base_uri": "https://localhost:8080/"
        },
        "id": "D9nhpit_6qPC",
        "outputId": "dd1885a7-7c98-43fb-a97a-2f4d9e4dc12e"
      },
      "execution_count": 572,
      "outputs": [
        {
          "output_type": "execute_result",
          "data": {
            "text/plain": [
              "Lead Origin                               0\n",
              "Lead Source                               0\n",
              "Converted                                 0\n",
              "TotalVisits                               0\n",
              "Total Time Spent on Website               0\n",
              "Page Views Per Visit                      0\n",
              "Last Activity                             0\n",
              "Specialization                            0\n",
              "Tags                                      0\n",
              "City                                      0\n",
              "A free copy of Mastering The Interview    0\n",
              "Last Notable Activity                     0\n",
              "dtype: int64"
            ]
          },
          "metadata": {},
          "execution_count": 572
        }
      ]
    },
    {
      "cell_type": "code",
      "source": [
        "lead_df.info(())"
      ],
      "metadata": {
        "colab": {
          "base_uri": "https://localhost:8080/"
        },
        "id": "H2P5mWhhP0rk",
        "outputId": "37c65f7d-7567-4041-c5a5-c12fe908c198"
      },
      "execution_count": 573,
      "outputs": [
        {
          "output_type": "stream",
          "name": "stdout",
          "text": [
            "<class 'pandas.core.frame.DataFrame'>\n",
            "Int64Index: 8719 entries, 0 to 9239\n",
            "Data columns (total 12 columns):\n",
            " #   Column                                  Non-Null Count  Dtype  \n",
            "---  ------                                  --------------  -----  \n",
            " 0   Lead Origin                             8719 non-null   object \n",
            " 1   Lead Source                             8719 non-null   object \n",
            " 2   Converted                               8719 non-null   int64  \n",
            " 3   TotalVisits                             8719 non-null   float64\n",
            " 4   Total Time Spent on Website             8719 non-null   int64  \n",
            " 5   Page Views Per Visit                    8719 non-null   float64\n",
            " 6   Last Activity                           8719 non-null   object \n",
            " 7   Specialization                          8719 non-null   object \n",
            " 8   Tags                                    8719 non-null   object \n",
            " 9   City                                    8719 non-null   object \n",
            " 10  A free copy of Mastering The Interview  8719 non-null   object \n",
            " 11  Last Notable Activity                   8719 non-null   object \n",
            "dtypes: float64(2), int64(2), object(8)\n",
            "memory usage: 885.5+ KB\n"
          ]
        }
      ]
    },
    {
      "cell_type": "code",
      "source": [
        "import seaborn as sns\n",
        "corr = lead_df.corr()\n",
        "sns.set_context(\"notebook\", font_scale=1.0, rc={\"lines.linewidth\": 2.5})\n",
        "plt.figure(figsize=(13,7))\n",
        "a = sns.heatmap(corr, annot=True, fmt='.2f')\n",
        "rotx = a.set_xticklabels(a.get_xticklabels(), rotation=90)\n",
        "roty = a.set_yticklabels(a.get_yticklabels(), rotation=0)"
      ],
      "metadata": {
        "colab": {
          "base_uri": "https://localhost:8080/",
          "height": 582
        },
        "id": "o47VSFEX7NBk",
        "outputId": "1bf6f793-cddb-4bbe-b56f-f694729d1018"
      },
      "execution_count": 574,
      "outputs": [
        {
          "output_type": "display_data",
          "data": {
            "text/plain": [
              "<Figure size 936x504 with 2 Axes>"
            ],
            "image/png": "[encoded data removed]"
          },
          "metadata": {
            "needs_background": "light"
          }
        }
      ]
    },
    {
      "cell_type": "code",
      "source": [
        "lead_df.info()"
      ],
      "metadata": {
        "colab": {
          "base_uri": "https://localhost:8080/"
        },
        "id": "KnTg45oF8kVN",
        "outputId": "eb5d9fd3-6eab-41f7-e4ce-e1b3ddcc1cd0"
      },
      "execution_count": 575,
      "outputs": [
        {
          "output_type": "stream",
          "name": "stdout",
          "text": [
            "<class 'pandas.core.frame.DataFrame'>\n",
            "Int64Index: 8719 entries, 0 to 9239\n",
            "Data columns (total 12 columns):\n",
            " #   Column                                  Non-Null Count  Dtype  \n",
            "---  ------                                  --------------  -----  \n",
            " 0   Lead Origin                             8719 non-null   object \n",
            " 1   Lead Source                             8719 non-null   object \n",
            " 2   Converted                               8719 non-null   int64  \n",
            " 3   TotalVisits                             8719 non-null   float64\n",
            " 4   Total Time Spent on Website             8719 non-null   int64  \n",
            " 5   Page Views Per Visit                    8719 non-null   float64\n",
            " 6   Last Activity                           8719 non-null   object \n",
            " 7   Specialization                          8719 non-null   object \n",
            " 8   Tags                                    8719 non-null   object \n",
            " 9   City                                    8719 non-null   object \n",
            " 10  A free copy of Mastering The Interview  8719 non-null   object \n",
            " 11  Last Notable Activity                   8719 non-null   object \n",
            "dtypes: float64(2), int64(2), object(8)\n",
            "memory usage: 885.5+ KB\n"
          ]
        }
      ]
    },
    {
      "cell_type": "markdown",
      "source": [
        "#Univarient Analysis"
      ],
      "metadata": {
        "id": "yhV1_Maf7cdD"
      }
    },
    {
      "cell_type": "code",
      "source": [
        "plt.figure(figsize=(10,5))\n",
        "s1=sns.countplot(lead_df[\"Lead Origin\"], hue=lead_df.Converted)\n",
        "s1.set_xticklabels(s1.get_xticklabels(),rotation=90)\n",
        "plt.show()"
      ],
      "metadata": {
        "colab": {
          "base_uri": "https://localhost:8080/",
          "height": 527
        },
        "id": "glhf7Bzi6YYq",
        "outputId": "14d15831-3949-485e-991f-5a3c8fc79e44"
      },
      "execution_count": 576,
      "outputs": [
        {
          "output_type": "stream",
          "name": "stderr",
          "text": [
            "/usr/local/lib/python3.8/dist-packages/seaborn/_decorators.py:36: FutureWarning: Pass the following variable as a keyword arg: x. From version 0.12, the only valid positional argument will be `data`, and passing other arguments without an explicit keyword will result in an error or misinterpretation.\n",
            "  warnings.warn(\n"
          ]
        },
        {
          "output_type": "display_data",
          "data": {
            "text/plain": [
              "<Figure size 720x360 with 1 Axes>"
            ],
            "image/png": "[encoded data removed]"
          },
          "metadata": {
            "needs_background": "light"
          }
        }
      ]
    },
    {
      "cell_type": "code",
      "source": [
        "plt.figure(figsize=(10,5))\n",
        "s1=sns.countplot(lead_df[\"Lead Source\"], hue=lead_df.Converted)\n",
        "s1.set_xticklabels(s1.get_xticklabels(),rotation=90)\n",
        "plt.show()"
      ],
      "metadata": {
        "colab": {
          "base_uri": "https://localhost:8080/",
          "height": 490
        },
        "id": "vANSVAIN60Ik",
        "outputId": "deeb97f2-b323-4999-b9b5-9e9f20330c65"
      },
      "execution_count": 577,
      "outputs": [
        {
          "output_type": "stream",
          "name": "stderr",
          "text": [
            "/usr/local/lib/python3.8/dist-packages/seaborn/_decorators.py:36: FutureWarning: Pass the following variable as a keyword arg: x. From version 0.12, the only valid positional argument will be `data`, and passing other arguments without an explicit keyword will result in an error or misinterpretation.\n",
            "  warnings.warn(\n"
          ]
        },
        {
          "output_type": "display_data",
          "data": {
            "text/plain": [
              "<Figure size 720x360 with 1 Axes>"
            ],
            "image/png": "[encoded data removed]"
          },
          "metadata": {
            "needs_background": "light"
          }
        }
      ]
    },
    {
      "cell_type": "code",
      "source": [
        "plt.figure(figsize=(10,5))\n",
        "s1=sns.countplot(lead_df[\"Tags\"], hue=lead_df.Converted)\n",
        "s1.set_xticklabels(s1.get_xticklabels(),rotation=90)\n",
        "plt.show()"
      ],
      "metadata": {
        "colab": {
          "base_uri": "https://localhost:8080/",
          "height": 664
        },
        "id": "GwWhL3mI7z4w",
        "outputId": "2091c0ad-09e6-4375-ab9e-6f027ea17914"
      },
      "execution_count": 578,
      "outputs": [
        {
          "output_type": "stream",
          "name": "stderr",
          "text": [
            "/usr/local/lib/python3.8/dist-packages/seaborn/_decorators.py:36: FutureWarning: Pass the following variable as a keyword arg: x. From version 0.12, the only valid positional argument will be `data`, and passing other arguments without an explicit keyword will result in an error or misinterpretation.\n",
            "  warnings.warn(\n"
          ]
        },
        {
          "output_type": "display_data",
          "data": {
            "text/plain": [
              "<Figure size 720x360 with 1 Axes>"
            ],
            "image/png": "[encoded data removed]"
          },
          "metadata": {
            "needs_background": "light"
          }
        }
      ]
    },
    {
      "cell_type": "code",
      "source": [
        "#cat_features=lead_df[['Lead Origin','Lead Source','Last Activity','Specialization','Tags','City','A free copy of Mastering The Interview','Last Notable Activity']]"
      ],
      "metadata": {
        "id": "thIxGxSfQJbD"
      },
      "execution_count": 579,
      "outputs": []
    },
    {
      "cell_type": "code",
      "source": [
        "lead_df=pd.get_dummies(lead_df)"
      ],
      "metadata": {
        "id": "WFNjCA518mEB"
      },
      "execution_count": 580,
      "outputs": []
    },
    {
      "cell_type": "code",
      "source": [
        "lead_df.head()"
      ],
      "metadata": {
        "colab": {
          "base_uri": "https://localhost:8080/",
          "height": 369
        },
        "id": "cLEYyvky83ij",
        "outputId": "d9355de0-85d5-49c3-9657-67c1a56789c6"
      },
      "execution_count": 581,
      "outputs": [
        {
          "output_type": "execute_result",
          "data": {
            "text/plain": [
              "   Converted  TotalVisits  Total Time Spent on Website  Page Views Per Visit  \\\n",
              "0          0          0.0                            0                   0.0   \n",
              "1          0          5.0                          674                   2.5   \n",
              "2          1          2.0                         1532                   2.0   \n",
              "3          0          1.0                          305                   1.0   \n",
              "4          1          2.0                         1428                   1.0   \n",
              "\n",
              "   Lead Origin_API  Lead Origin_Landing Page Submission  \\\n",
              "0                1                                    0   \n",
              "1                1                                    0   \n",
              "2                0                                    1   \n",
              "3                0                                    1   \n",
              "4                0                                    1   \n",
              "\n",
              "   Lead Origin_Lead Add Form  Lead Origin_Lead Import  \\\n",
              "0                          0                        0   \n",
              "1                          0                        0   \n",
              "2                          0                        0   \n",
              "3                          0                        0   \n",
              "4                          0                        0   \n",
              "\n",
              "   Lead Origin_Quick Add Form  Lead Source_Click2call  ...  \\\n",
              "0                           0                       0  ...   \n",
              "1                           0                       0  ...   \n",
              "2                           0                       0  ...   \n",
              "3                           0                       0  ...   \n",
              "4                           0                       0  ...   \n",
              "\n",
              "   Last Notable Activity_Form Submitted on Website  \\\n",
              "0                                                0   \n",
              "1                                                0   \n",
              "2                                                0   \n",
              "3                                                0   \n",
              "4                                                0   \n",
              "\n",
              "   Last Notable Activity_Had a Phone Conversation  \\\n",
              "0                                               0   \n",
              "1                                               0   \n",
              "2                                               0   \n",
              "3                                               0   \n",
              "4                                               0   \n",
              "\n",
              "   Last Notable Activity_Modified  \\\n",
              "0                               1   \n",
              "1                               0   \n",
              "2                               0   \n",
              "3                               1   \n",
              "4                               1   \n",
              "\n",
              "   Last Notable Activity_Olark Chat Conversation  \\\n",
              "0                                              0   \n",
              "1                                              0   \n",
              "2                                              0   \n",
              "3                                              0   \n",
              "4                                              0   \n",
              "\n",
              "   Last Notable Activity_Page Visited on Website  \\\n",
              "0                                              0   \n",
              "1                                              0   \n",
              "2                                              0   \n",
              "3                                              0   \n",
              "4                                              0   \n",
              "\n",
              "   Last Notable Activity_Resubscribed to emails  \\\n",
              "0                                             0   \n",
              "1                                             0   \n",
              "2                                             0   \n",
              "3                                             0   \n",
              "4                                             0   \n",
              "\n",
              "   Last Notable Activity_SMS Sent  Last Notable Activity_Unreachable  \\\n",
              "0                               0                                  0   \n",
              "1                               0                                  0   \n",
              "2                               0                                  0   \n",
              "3                               0                                  0   \n",
              "4                               0                                  0   \n",
              "\n",
              "   Last Notable Activity_Unsubscribed  \\\n",
              "0                                   0   \n",
              "1                                   0   \n",
              "2                                   0   \n",
              "3                                   0   \n",
              "4                                   0   \n",
              "\n",
              "   Last Notable Activity_View in browser link Clicked  \n",
              "0                                                  0   \n",
              "1                                                  0   \n",
              "2                                                  0   \n",
              "3                                                  0   \n",
              "4                                                  0   \n",
              "\n",
              "[5 rows x 116 columns]"
            ],
            "text/html": [
              "\n",
              "  <div id=\"df-d195f051-e92a-4f0b-9977-fc0e89d6a430\">\n",
              "    <div class=\"colab-df-container\">\n",
              "      <div>\n",
              "<style scoped>\n",
              "    .dataframe tbody tr th:only-of-type {\n",
              "        vertical-align: middle;\n",
              "    }\n",
              "\n",
              "    .dataframe tbody tr th {\n",
              "        vertical-align: top;\n",
              "    }\n",
              "\n",
              "    .dataframe thead th {\n",
              "        text-align: right;\n",
              "    }\n",
              "</style>\n",
              "<table border=\"1\" class=\"dataframe\">\n",
              "  <thead>\n",
              "    <tr style=\"text-align: right;\">\n",
              "      <th></th>\n",
              "      <th>Converted</th>\n",
              "      <th>TotalVisits</th>\n",
              "      <th>Total Time Spent on Website</th>\n",
              "      <th>Page Views Per Visit</th>\n",
              "      <th>Lead Origin_API</th>\n",
              "      <th>Lead Origin_Landing Page Submission</th>\n",
              "      <th>Lead Origin_Lead Add Form</th>\n",
              "      <th>Lead Origin_Lead Import</th>\n",
              "      <th>Lead Origin_Quick Add Form</th>\n",
              "      <th>Lead Source_Click2call</th>\n",
              "      <th>...</th>\n",
              "      <th>Last Notable Activity_Form Submitted on Website</th>\n",
              "      <th>Last Notable Activity_Had a Phone Conversation</th>\n",
              "      <th>Last Notable Activity_Modified</th>\n",
              "      <th>Last Notable Activity_Olark Chat Conversation</th>\n",
              "      <th>Last Notable Activity_Page Visited on Website</th>\n",
              "      <th>Last Notable Activity_Resubscribed to emails</th>\n",
              "      <th>Last Notable Activity_SMS Sent</th>\n",
              "      <th>Last Notable Activity_Unreachable</th>\n",
              "      <th>Last Notable Activity_Unsubscribed</th>\n",
              "      <th>Last Notable Activity_View in browser link Clicked</th>\n",
              "    </tr>\n",
              "  </thead>\n",
              "  <tbody>\n",
              "    <tr>\n",
              "      <th>0</th>\n",
              "      <td>0</td>\n",
              "      <td>0.0</td>\n",
              "      <td>0</td>\n",
              "      <td>0.0</td>\n",
              "      <td>1</td>\n",
              "      <td>0</td>\n",
              "      <td>0</td>\n",
              "      <td>0</td>\n",
              "      <td>0</td>\n",
              "      <td>0</td>\n",
              "      <td>...</td>\n",
              "      <td>0</td>\n",
              "      <td>0</td>\n",
              "      <td>1</td>\n",
              "      <td>0</td>\n",
              "      <td>0</td>\n",
              "      <td>0</td>\n",
              "      <td>0</td>\n",
              "      <td>0</td>\n",
              "      <td>0</td>\n",
              "      <td>0</td>\n",
              "    </tr>\n",
              "    <tr>\n",
              "      <th>1</th>\n",
              "      <td>0</td>\n",
              "      <td>5.0</td>\n",
              "      <td>674</td>\n",
              "      <td>2.5</td>\n",
              "      <td>1</td>\n",
              "      <td>0</td>\n",
              "      <td>0</td>\n",
              "      <td>0</td>\n",
              "      <td>0</td>\n",
              "      <td>0</td>\n",
              "      <td>...</td>\n",
              "      <td>0</td>\n",
              "      <td>0</td>\n",
              "      <td>0</td>\n",
              "      <td>0</td>\n",
              "      <td>0</td>\n",
              "      <td>0</td>\n",
              "      <td>0</td>\n",
              "      <td>0</td>\n",
              "      <td>0</td>\n",
              "      <td>0</td>\n",
              "    </tr>\n",
              "    <tr>\n",
              "      <th>2</th>\n",
              "      <td>1</td>\n",
              "      <td>2.0</td>\n",
              "      <td>1532</td>\n",
              "      <td>2.0</td>\n",
              "      <td>0</td>\n",
              "      <td>1</td>\n",
              "      <td>0</td>\n",
              "      <td>0</td>\n",
              "      <td>0</td>\n",
              "      <td>0</td>\n",
              "      <td>...</td>\n",
              "      <td>0</td>\n",
              "      <td>0</td>\n",
              "      <td>0</td>\n",
              "      <td>0</td>\n",
              "      <td>0</td>\n",
              "      <td>0</td>\n",
              "      <td>0</td>\n",
              "      <td>0</td>\n",
              "      <td>0</td>\n",
              "      <td>0</td>\n",
              "    </tr>\n",
              "    <tr>\n",
              "      <th>3</th>\n",
              "      <td>0</td>\n",
              "      <td>1.0</td>\n",
              "      <td>305</td>\n",
              "      <td>1.0</td>\n",
              "      <td>0</td>\n",
              "      <td>1</td>\n",
              "      <td>0</td>\n",
              "      <td>0</td>\n",
              "      <td>0</td>\n",
              "      <td>0</td>\n",
              "      <td>...</td>\n",
              "      <td>0</td>\n",
              "      <td>0</td>\n",
              "      <td>1</td>\n",
              "      <td>0</td>\n",
              "      <td>0</td>\n",
              "      <td>0</td>\n",
              "      <td>0</td>\n",
              "      <td>0</td>\n",
              "      <td>0</td>\n",
              "      <td>0</td>\n",
              "    </tr>\n",
              "    <tr>\n",
              "      <th>4</th>\n",
              "      <td>1</td>\n",
              "      <td>2.0</td>\n",
              "      <td>1428</td>\n",
              "      <td>1.0</td>\n",
              "      <td>0</td>\n",
              "      <td>1</td>\n",
              "      <td>0</td>\n",
              "      <td>0</td>\n",
              "      <td>0</td>\n",
              "      <td>0</td>\n",
              "      <td>...</td>\n",
              "      <td>0</td>\n",
              "      <td>0</td>\n",
              "      <td>1</td>\n",
              "      <td>0</td>\n",
              "      <td>0</td>\n",
              "      <td>0</td>\n",
              "      <td>0</td>\n",
              "      <td>0</td>\n",
              "      <td>0</td>\n",
              "      <td>0</td>\n",
              "    </tr>\n",
              "  </tbody>\n",
              "</table>\n",
              "<p>5 rows × 116 columns</p>\n",
              "</div>\n",
              "      <button class=\"colab-df-convert\" onclick=\"convertToInteractive('df-d195f051-e92a-4f0b-9977-fc0e89d6a430')\"\n",
              "              title=\"Convert this dataframe to an interactive table.\"\n",
              "              style=\"display:none;\">\n",
              "        \n",
              "  <svg xmlns=\"http://www.w3.org/2000/svg\" height=\"24px\"viewBox=\"0 0 24 24\"\n",
              "       width=\"24px\">\n",
              "    <path d=\"M0 0h24v24H0V0z\" fill=\"none\"/>\n",
              "    <path d=\"M18.56 5.44l.94 2.06.94-2.06 2.06-.94-2.06-.94-.94-2.06-.94 2.06-2.06.94zm-11 1L8.5 8.5l.94-2.06 2.06-.94-2.06-.94L8.5 2.5l-.94 2.06-2.06.94zm10 10l.94 2.06.94-2.06 2.06-.94-2.06-.94-.94-2.06-.94 2.06-2.06.94z\"/><path d=\"M17.41 7.96l-1.37-1.37c-.4-.4-.92-.59-1.43-.59-.52 0-1.04.2-1.43.59L10.3 9.45l-7.72 7.72c-.78.78-.78 2.05 0 2.83L4 21.41c.39.39.9.59 1.41.59.51 0 1.02-.2 1.41-.59l7.78-7.78 2.81-2.81c.8-.78.8-2.07 0-2.86zM5.41 20L4 18.59l7.72-7.72 1.47 1.35L5.41 20z\"/>\n",
              "  </svg>\n",
              "      </button>\n",
              "      \n",
              "  <style>\n",
              "    .colab-df-container {\n",
              "      display:flex;\n",
              "      flex-wrap:wrap;\n",
              "      gap: 12px;\n",
              "    }\n",
              "\n",
              "    .colab-df-convert {\n",
              "      background-color: #E8F0FE;\n",
              "      border: none;\n",
              "      border-radius: 50%;\n",
              "      cursor: pointer;\n",
              "      display: none;\n",
              "      fill: #1967D2;\n",
              "      height: 32px;\n",
              "      padding: 0 0 0 0;\n",
              "      width: 32px;\n",
              "    }\n",
              "\n",
              "    .colab-df-convert:hover {\n",
              "      background-color: #E2EBFA;\n",
              "      box-shadow: 0px 1px 2px rgba(60, 64, 67, 0.3), 0px 1px 3px 1px rgba(60, 64, 67, 0.15);\n",
              "      fill: #174EA6;\n",
              "    }\n",
              "\n",
              "    [theme=dark] .colab-df-convert {\n",
              "      background-color: #3B4455;\n",
              "      fill: #D2E3FC;\n",
              "    }\n",
              "\n",
              "    [theme=dark] .colab-df-convert:hover {\n",
              "      background-color: #434B5C;\n",
              "      box-shadow: 0px 1px 3px 1px rgba(0, 0, 0, 0.15);\n",
              "      filter: drop-shadow(0px 1px 2px rgba(0, 0, 0, 0.3));\n",
              "      fill: #FFFFFF;\n",
              "    }\n",
              "  </style>\n",
              "\n",
              "      <script>\n",
              "        const buttonEl =\n",
              "          document.querySelector('#df-d195f051-e92a-4f0b-9977-fc0e89d6a430 button.colab-df-convert');\n",
              "        buttonEl.style.display =\n",
              "          google.colab.kernel.accessAllowed ? 'block' : 'none';\n",
              "\n",
              "        async function convertToInteractive(key) {\n",
              "          const element = document.querySelector('#df-d195f051-e92a-4f0b-9977-fc0e89d6a430');\n",
              "          const dataTable =\n",
              "            await google.colab.kernel.invokeFunction('convertToInteractive',\n",
              "                                                     [key], {});\n",
              "          if (!dataTable) return;\n",
              "\n",
              "          const docLinkHtml = 'Like what you see? Visit the ' +\n",
              "            '<a target=\"_blank\" href=https://colab.research.google.com/notebooks/data_table.ipynb>data table notebook</a>'\n",
              "            + ' to learn more about interactive tables.';\n",
              "          element.innerHTML = '';\n",
              "          dataTable['output_type'] = 'display_data';\n",
              "          await google.colab.output.renderOutput(dataTable, element);\n",
              "          const docLink = document.createElement('div');\n",
              "          docLink.innerHTML = docLinkHtml;\n",
              "          element.appendChild(docLink);\n",
              "        }\n",
              "      </script>\n",
              "    </div>\n",
              "  </div>\n",
              "  "
            ]
          },
          "metadata": {},
          "execution_count": 581
        }
      ]
    },
    {
      "cell_type": "code",
      "source": [
        "x=lead_df.drop('Converted',axis=1)"
      ],
      "metadata": {
        "id": "TpynMyRj85l_"
      },
      "execution_count": 582,
      "outputs": []
    },
    {
      "cell_type": "code",
      "source": [
        "y=lead_df['Converted']"
      ],
      "metadata": {
        "id": "rxO7BVJC88eE"
      },
      "execution_count": 583,
      "outputs": []
    },
    {
      "cell_type": "code",
      "source": [
        "from sklearn.model_selection import train_test_split\n",
        "X_train, X_test, y_train, y_test = train_test_split(x, y, test_size=0.25)"
      ],
      "metadata": {
        "id": "jDeL9rs_91g_"
      },
      "execution_count": 584,
      "outputs": []
    },
    {
      "cell_type": "code",
      "source": [
        "X_train.head()"
      ],
      "metadata": {
        "colab": {
          "base_uri": "https://localhost:8080/",
          "height": 369
        },
        "id": "VNW1RqUmsASi",
        "outputId": "ac38eb59-47bf-48c1-ccff-daa867a7600f"
      },
      "execution_count": 585,
      "outputs": [
        {
          "output_type": "execute_result",
          "data": {
            "text/plain": [
              "      TotalVisits  Total Time Spent on Website  Page Views Per Visit  \\\n",
              "2998          3.0                          361                   1.5   \n",
              "4013          0.0                            0                   0.0   \n",
              "7615          2.0                          148                   2.0   \n",
              "5199          4.0                          824                   4.0   \n",
              "3936          3.0                         1218                   1.5   \n",
              "\n",
              "      Lead Origin_API  Lead Origin_Landing Page Submission  \\\n",
              "2998                1                                    0   \n",
              "4013                0                                    0   \n",
              "7615                0                                    1   \n",
              "5199                0                                    1   \n",
              "3936                0                                    1   \n",
              "\n",
              "      Lead Origin_Lead Add Form  Lead Origin_Lead Import  \\\n",
              "2998                          0                        0   \n",
              "4013                          1                        0   \n",
              "7615                          0                        0   \n",
              "5199                          0                        0   \n",
              "3936                          0                        0   \n",
              "\n",
              "      Lead Origin_Quick Add Form  Lead Source_Click2call  \\\n",
              "2998                           0                       0   \n",
              "4013                           0                       0   \n",
              "7615                           0                       0   \n",
              "5199                           0                       0   \n",
              "3936                           0                       0   \n",
              "\n",
              "      Lead Source_Direct Traffic  ...  \\\n",
              "2998                           0  ...   \n",
              "4013                           0  ...   \n",
              "7615                           1  ...   \n",
              "5199                           0  ...   \n",
              "3936                           1  ...   \n",
              "\n",
              "      Last Notable Activity_Form Submitted on Website  \\\n",
              "2998                                                0   \n",
              "4013                                                0   \n",
              "7615                                                0   \n",
              "5199                                                0   \n",
              "3936                                                0   \n",
              "\n",
              "      Last Notable Activity_Had a Phone Conversation  \\\n",
              "2998                                               0   \n",
              "4013                                               0   \n",
              "7615                                               0   \n",
              "5199                                               0   \n",
              "3936                                               0   \n",
              "\n",
              "      Last Notable Activity_Modified  \\\n",
              "2998                               0   \n",
              "4013                               0   \n",
              "7615                               0   \n",
              "5199                               0   \n",
              "3936                               0   \n",
              "\n",
              "      Last Notable Activity_Olark Chat Conversation  \\\n",
              "2998                                              0   \n",
              "4013                                              0   \n",
              "7615                                              0   \n",
              "5199                                              0   \n",
              "3936                                              0   \n",
              "\n",
              "      Last Notable Activity_Page Visited on Website  \\\n",
              "2998                                              0   \n",
              "4013                                              0   \n",
              "7615                                              0   \n",
              "5199                                              0   \n",
              "3936                                              0   \n",
              "\n",
              "      Last Notable Activity_Resubscribed to emails  \\\n",
              "2998                                             0   \n",
              "4013                                             0   \n",
              "7615                                             0   \n",
              "5199                                             0   \n",
              "3936                                             0   \n",
              "\n",
              "      Last Notable Activity_SMS Sent  Last Notable Activity_Unreachable  \\\n",
              "2998                               0                                  0   \n",
              "4013                               1                                  0   \n",
              "7615                               0                                  0   \n",
              "5199                               1                                  0   \n",
              "3936                               0                                  0   \n",
              "\n",
              "      Last Notable Activity_Unsubscribed  \\\n",
              "2998                                   0   \n",
              "4013                                   0   \n",
              "7615                                   0   \n",
              "5199                                   0   \n",
              "3936                                   0   \n",
              "\n",
              "      Last Notable Activity_View in browser link Clicked  \n",
              "2998                                                  0   \n",
              "4013                                                  0   \n",
              "7615                                                  0   \n",
              "5199                                                  0   \n",
              "3936                                                  0   \n",
              "\n",
              "[5 rows x 115 columns]"
            ],
            "text/html": [
              "\n",
              "  <div id=\"df-ae80824c-d5ef-4e87-b562-73fc8300ed72\">\n",
              "    <div class=\"colab-df-container\">\n",
              "      <div>\n",
              "<style scoped>\n",
              "    .dataframe tbody tr th:only-of-type {\n",
              "        vertical-align: middle;\n",
              "    }\n",
              "\n",
              "    .dataframe tbody tr th {\n",
              "        vertical-align: top;\n",
              "    }\n",
              "\n",
              "    .dataframe thead th {\n",
              "        text-align: right;\n",
              "    }\n",
              "</style>\n",
              "<table border=\"1\" class=\"dataframe\">\n",
              "  <thead>\n",
              "    <tr style=\"text-align: right;\">\n",
              "      <th></th>\n",
              "      <th>TotalVisits</th>\n",
              "      <th>Total Time Spent on Website</th>\n",
              "      <th>Page Views Per Visit</th>\n",
              "      <th>Lead Origin_API</th>\n",
              "      <th>Lead Origin_Landing Page Submission</th>\n",
              "      <th>Lead Origin_Lead Add Form</th>\n",
              "      <th>Lead Origin_Lead Import</th>\n",
              "      <th>Lead Origin_Quick Add Form</th>\n",
              "      <th>Lead Source_Click2call</th>\n",
              "      <th>Lead Source_Direct Traffic</th>\n",
              "      <th>...</th>\n",
              "      <th>Last Notable Activity_Form Submitted on Website</th>\n",
              "      <th>Last Notable Activity_Had a Phone Conversation</th>\n",
              "      <th>Last Notable Activity_Modified</th>\n",
              "      <th>Last Notable Activity_Olark Chat Conversation</th>\n",
              "      <th>Last Notable Activity_Page Visited on Website</th>\n",
              "      <th>Last Notable Activity_Resubscribed to emails</th>\n",
              "      <th>Last Notable Activity_SMS Sent</th>\n",
              "      <th>Last Notable Activity_Unreachable</th>\n",
              "      <th>Last Notable Activity_Unsubscribed</th>\n",
              "      <th>Last Notable Activity_View in browser link Clicked</th>\n",
              "    </tr>\n",
              "  </thead>\n",
              "  <tbody>\n",
              "    <tr>\n",
              "      <th>2998</th>\n",
              "      <td>3.0</td>\n",
              "      <td>361</td>\n",
              "      <td>1.5</td>\n",
              "      <td>1</td>\n",
              "      <td>0</td>\n",
              "      <td>0</td>\n",
              "      <td>0</td>\n",
              "      <td>0</td>\n",
              "      <td>0</td>\n",
              "      <td>0</td>\n",
              "      <td>...</td>\n",
              "      <td>0</td>\n",
              "      <td>0</td>\n",
              "      <td>0</td>\n",
              "      <td>0</td>\n",
              "      <td>0</td>\n",
              "      <td>0</td>\n",
              "      <td>0</td>\n",
              "      <td>0</td>\n",
              "      <td>0</td>\n",
              "      <td>0</td>\n",
              "    </tr>\n",
              "    <tr>\n",
              "      <th>4013</th>\n",
              "      <td>0.0</td>\n",
              "      <td>0</td>\n",
              "      <td>0.0</td>\n",
              "      <td>0</td>\n",
              "      <td>0</td>\n",
              "      <td>1</td>\n",
              "      <td>0</td>\n",
              "      <td>0</td>\n",
              "      <td>0</td>\n",
              "      <td>0</td>\n",
              "      <td>...</td>\n",
              "      <td>0</td>\n",
              "      <td>0</td>\n",
              "      <td>0</td>\n",
              "      <td>0</td>\n",
              "      <td>0</td>\n",
              "      <td>0</td>\n",
              "      <td>1</td>\n",
              "      <td>0</td>\n",
              "      <td>0</td>\n",
              "      <td>0</td>\n",
              "    </tr>\n",
              "    <tr>\n",
              "      <th>7615</th>\n",
              "      <td>2.0</td>\n",
              "      <td>148</td>\n",
              "      <td>2.0</td>\n",
              "      <td>0</td>\n",
              "      <td>1</td>\n",
              "      <td>0</td>\n",
              "      <td>0</td>\n",
              "      <td>0</td>\n",
              "      <td>0</td>\n",
              "      <td>1</td>\n",
              "      <td>...</td>\n",
              "      <td>0</td>\n",
              "      <td>0</td>\n",
              "      <td>0</td>\n",
              "      <td>0</td>\n",
              "      <td>0</td>\n",
              "      <td>0</td>\n",
              "      <td>0</td>\n",
              "      <td>0</td>\n",
              "      <td>0</td>\n",
              "      <td>0</td>\n",
              "    </tr>\n",
              "    <tr>\n",
              "      <th>5199</th>\n",
              "      <td>4.0</td>\n",
              "      <td>824</td>\n",
              "      <td>4.0</td>\n",
              "      <td>0</td>\n",
              "      <td>1</td>\n",
              "      <td>0</td>\n",
              "      <td>0</td>\n",
              "      <td>0</td>\n",
              "      <td>0</td>\n",
              "      <td>0</td>\n",
              "      <td>...</td>\n",
              "      <td>0</td>\n",
              "      <td>0</td>\n",
              "      <td>0</td>\n",
              "      <td>0</td>\n",
              "      <td>0</td>\n",
              "      <td>0</td>\n",
              "      <td>1</td>\n",
              "      <td>0</td>\n",
              "      <td>0</td>\n",
              "      <td>0</td>\n",
              "    </tr>\n",
              "    <tr>\n",
              "      <th>3936</th>\n",
              "      <td>3.0</td>\n",
              "      <td>1218</td>\n",
              "      <td>1.5</td>\n",
              "      <td>0</td>\n",
              "      <td>1</td>\n",
              "      <td>0</td>\n",
              "      <td>0</td>\n",
              "      <td>0</td>\n",
              "      <td>0</td>\n",
              "      <td>1</td>\n",
              "      <td>...</td>\n",
              "      <td>0</td>\n",
              "      <td>0</td>\n",
              "      <td>0</td>\n",
              "      <td>0</td>\n",
              "      <td>0</td>\n",
              "      <td>0</td>\n",
              "      <td>0</td>\n",
              "      <td>0</td>\n",
              "      <td>0</td>\n",
              "      <td>0</td>\n",
              "    </tr>\n",
              "  </tbody>\n",
              "</table>\n",
              "<p>5 rows × 115 columns</p>\n",
              "</div>\n",
              "      <button class=\"colab-df-convert\" onclick=\"convertToInteractive('df-ae80824c-d5ef-4e87-b562-73fc8300ed72')\"\n",
              "              title=\"Convert this dataframe to an interactive table.\"\n",
              "              style=\"display:none;\">\n",
              "        \n",
              "  <svg xmlns=\"http://www.w3.org/2000/svg\" height=\"24px\"viewBox=\"0 0 24 24\"\n",
              "       width=\"24px\">\n",
              "    <path d=\"M0 0h24v24H0V0z\" fill=\"none\"/>\n",
              "    <path d=\"M18.56 5.44l.94 2.06.94-2.06 2.06-.94-2.06-.94-.94-2.06-.94 2.06-2.06.94zm-11 1L8.5 8.5l.94-2.06 2.06-.94-2.06-.94L8.5 2.5l-.94 2.06-2.06.94zm10 10l.94 2.06.94-2.06 2.06-.94-2.06-.94-.94-2.06-.94 2.06-2.06.94z\"/><path d=\"M17.41 7.96l-1.37-1.37c-.4-.4-.92-.59-1.43-.59-.52 0-1.04.2-1.43.59L10.3 9.45l-7.72 7.72c-.78.78-.78 2.05 0 2.83L4 21.41c.39.39.9.59 1.41.59.51 0 1.02-.2 1.41-.59l7.78-7.78 2.81-2.81c.8-.78.8-2.07 0-2.86zM5.41 20L4 18.59l7.72-7.72 1.47 1.35L5.41 20z\"/>\n",
              "  </svg>\n",
              "      </button>\n",
              "      \n",
              "  <style>\n",
              "    .colab-df-container {\n",
              "      display:flex;\n",
              "      flex-wrap:wrap;\n",
              "      gap: 12px;\n",
              "    }\n",
              "\n",
              "    .colab-df-convert {\n",
              "      background-color: #E8F0FE;\n",
              "      border: none;\n",
              "      border-radius: 50%;\n",
              "      cursor: pointer;\n",
              "      display: none;\n",
              "      fill: #1967D2;\n",
              "      height: 32px;\n",
              "      padding: 0 0 0 0;\n",
              "      width: 32px;\n",
              "    }\n",
              "\n",
              "    .colab-df-convert:hover {\n",
              "      background-color: #E2EBFA;\n",
              "      box-shadow: 0px 1px 2px rgba(60, 64, 67, 0.3), 0px 1px 3px 1px rgba(60, 64, 67, 0.15);\n",
              "      fill: #174EA6;\n",
              "    }\n",
              "\n",
              "    [theme=dark] .colab-df-convert {\n",
              "      background-color: #3B4455;\n",
              "      fill: #D2E3FC;\n",
              "    }\n",
              "\n",
              "    [theme=dark] .colab-df-convert:hover {\n",
              "      background-color: #434B5C;\n",
              "      box-shadow: 0px 1px 3px 1px rgba(0, 0, 0, 0.15);\n",
              "      filter: drop-shadow(0px 1px 2px rgba(0, 0, 0, 0.3));\n",
              "      fill: #FFFFFF;\n",
              "    }\n",
              "  </style>\n",
              "\n",
              "      <script>\n",
              "        const buttonEl =\n",
              "          document.querySelector('#df-ae80824c-d5ef-4e87-b562-73fc8300ed72 button.colab-df-convert');\n",
              "        buttonEl.style.display =\n",
              "          google.colab.kernel.accessAllowed ? 'block' : 'none';\n",
              "\n",
              "        async function convertToInteractive(key) {\n",
              "          const element = document.querySelector('#df-ae80824c-d5ef-4e87-b562-73fc8300ed72');\n",
              "          const dataTable =\n",
              "            await google.colab.kernel.invokeFunction('convertToInteractive',\n",
              "                                                     [key], {});\n",
              "          if (!dataTable) return;\n",
              "\n",
              "          const docLinkHtml = 'Like what you see? Visit the ' +\n",
              "            '<a target=\"_blank\" href=https://colab.research.google.com/notebooks/data_table.ipynb>data table notebook</a>'\n",
              "            + ' to learn more about interactive tables.';\n",
              "          element.innerHTML = '';\n",
              "          dataTable['output_type'] = 'display_data';\n",
              "          await google.colab.output.renderOutput(dataTable, element);\n",
              "          const docLink = document.createElement('div');\n",
              "          docLink.innerHTML = docLinkHtml;\n",
              "          element.appendChild(docLink);\n",
              "        }\n",
              "      </script>\n",
              "    </div>\n",
              "  </div>\n",
              "  "
            ]
          },
          "metadata": {},
          "execution_count": 585
        }
      ]
    },
    {
      "cell_type": "code",
      "source": [
        "X_train.shape"
      ],
      "metadata": {
        "colab": {
          "base_uri": "https://localhost:8080/"
        },
        "id": "DlxPRFGqrzfU",
        "outputId": "01a2a8e8-14c5-40e2-b8a9-0d3bfa258bb0"
      },
      "execution_count": 586,
      "outputs": [
        {
          "output_type": "execute_result",
          "data": {
            "text/plain": [
              "(6539, 115)"
            ]
          },
          "metadata": {},
          "execution_count": 586
        }
      ]
    },
    {
      "cell_type": "code",
      "source": [
        "y_train.shape"
      ],
      "metadata": {
        "colab": {
          "base_uri": "https://localhost:8080/"
        },
        "id": "zYm9zwMzr2Ls",
        "outputId": "177d0c80-917b-4dcc-8c41-ce8a0703839c"
      },
      "execution_count": 587,
      "outputs": [
        {
          "output_type": "execute_result",
          "data": {
            "text/plain": [
              "(6539,)"
            ]
          },
          "metadata": {},
          "execution_count": 587
        }
      ]
    },
    {
      "cell_type": "code",
      "source": [
        "from sklearn.preprocessing import StandardScaler\n",
        "sc = StandardScaler()\n",
        "X_train = sc.fit_transform(X_train)\n",
        "X_test=sc.fit_transform(X_test)\n"
      ],
      "metadata": {
        "id": "Go1y4Tqk-Ci2"
      },
      "execution_count": 588,
      "outputs": []
    },
    {
      "cell_type": "code",
      "source": [
        "#Fitting Logistic Regression to the training set  \n",
        "from sklearn.linear_model import LogisticRegression  \n",
        "classifier= LogisticRegression()  \n",
        "model=classifier.fit(X_train, y_train)  "
      ],
      "metadata": {
        "id": "5E3O3z6k_EOF"
      },
      "execution_count": 589,
      "outputs": []
    },
    {
      "cell_type": "code",
      "source": [
        "y_pred=model.predict(X_test)"
      ],
      "metadata": {
        "id": "8DeklVGr_Qfy"
      },
      "execution_count": 590,
      "outputs": []
    },
    {
      "cell_type": "code",
      "source": [
        "import matplotlib.pyplot as plt\n",
        "from sklearn.metrics import confusion_matrix,accuracy_score\n",
        "cm = confusion_matrix(y_test, y_pred)\n",
        "from mlxtend.plotting import plot_confusion_matrix\n",
        "fig, ax = plot_confusion_matrix(conf_mat=cm, figsize=(6, 6), cmap=plt.cm.Greens)\n",
        "plt.xlabel('Predictions', fontsize=18)\n",
        "plt.ylabel('Actuals', fontsize=18)\n",
        "plt.title('Confusion Matrix', fontsize=18)\n",
        "plt.show()"
      ],
      "metadata": {
        "colab": {
          "base_uri": "https://localhost:8080/",
          "height": 435
        },
        "id": "sK4xNVXJ_a5O",
        "outputId": "a8eb7ded-4db8-43d0-be34-95f212985a08"
      },
      "execution_count": 591,
      "outputs": [
        {
          "output_type": "display_data",
          "data": {
            "text/plain": [
              "<Figure size 432x432 with 1 Axes>"
            ],
            "image/png": "[encoded data removed]"
          },
          "metadata": {
            "needs_background": "light"
          }
        }
      ]
    },
    {
      "cell_type": "code",
      "source": [
        "accuracy_score(y_pred,y_test)"
      ],
      "metadata": {
        "colab": {
          "base_uri": "https://localhost:8080/"
        },
        "id": "Tf74SerBAOfu",
        "outputId": "b568cfc5-3e4e-4043-bab2-acc51635eaa2"
      },
      "execution_count": 592,
      "outputs": [
        {
          "output_type": "execute_result",
          "data": {
            "text/plain": [
              "0.8834862385321101"
            ]
          },
          "metadata": {},
          "execution_count": 592
        }
      ]
    },
    {
      "cell_type": "markdown",
      "source": [
        "#Finding out the coeficeint of each feature so that we can find importance of features"
      ],
      "metadata": {
        "id": "dOf_JDQUn6DW"
      }
    },
    {
      "cell_type": "code",
      "source": [
        "Coeficient = pd.DataFrame(data={\n",
        "    'Column Name': list(x.columns),\n",
        "    'Coeficient': model.coef_[0]\n",
        "})\n",
        "Coeficient = Coeficient.sort_values(by='Coeficient', ascending=False)"
      ],
      "metadata": {
        "id": "Wmvgcuxrk2Ne"
      },
      "execution_count": 593,
      "outputs": []
    },
    {
      "cell_type": "code",
      "source": [
        "Coeficient.head(20)"
      ],
      "metadata": {
        "colab": {
          "base_uri": "https://localhost:8080/",
          "height": 676
        },
        "id": "vo7WYzd3lOKl",
        "outputId": "6d1fa18d-12f3-4c11-ccf7-bb411b9cdcbd"
      },
      "execution_count": 594,
      "outputs": [
        {
          "output_type": "execute_result",
          "data": {
            "text/plain": [
              "                                          Column Name  Coeficient\n",
              "67                            Tags_Closed by Horizzon    1.365663\n",
              "1                         Total Time Spent on Website    1.126329\n",
              "84           Tags_Will revert after reading the email    0.896365\n",
              "75                                  Tags_Lost to EINS    0.863585\n",
              "111                    Last Notable Activity_SMS Sent    0.761542\n",
              "5                           Lead Origin_Lead Add Form    0.759451\n",
              "41                             Last Activity_SMS Sent    0.247067\n",
              "6                             Lead Origin_Lead Import    0.242197\n",
              "22                       Lead Source_Welingak Website    0.233986\n",
              "56                Specialization_Marketing Management    0.219450\n",
              "53           Specialization_Human Resource Management    0.174231\n",
              "14                             Lead Source_Olark Chat    0.170915\n",
              "72                      Tags_Interested in Next batch    0.150340\n",
              "74                               Tags_Lateral student    0.150264\n",
              "29                   Last Activity_Approached upfront    0.145908\n",
              "32                   Last Activity_Email Link Clicked    0.145876\n",
              "66                                          Tags_Busy    0.143055\n",
              "50                  Specialization_Finance Management    0.139049\n",
              "46   Specialization_Banking, Investment And Insurance    0.138719\n",
              "58               Specialization_Operations Management    0.137368"
            ],
            "text/html": [
              "\n",
              "  <div id=\"df-6820295c-5ceb-4dfe-8fcf-3d2f79c0fb4b\">\n",
              "    <div class=\"colab-df-container\">\n",
              "      <div>\n",
              "<style scoped>\n",
              "    .dataframe tbody tr th:only-of-type {\n",
              "        vertical-align: middle;\n",
              "    }\n",
              "\n",
              "    .dataframe tbody tr th {\n",
              "        vertical-align: top;\n",
              "    }\n",
              "\n",
              "    .dataframe thead th {\n",
              "        text-align: right;\n",
              "    }\n",
              "</style>\n",
              "<table border=\"1\" class=\"dataframe\">\n",
              "  <thead>\n",
              "    <tr style=\"text-align: right;\">\n",
              "      <th></th>\n",
              "      <th>Column Name</th>\n",
              "      <th>Coeficient</th>\n",
              "    </tr>\n",
              "  </thead>\n",
              "  <tbody>\n",
              "    <tr>\n",
              "      <th>67</th>\n",
              "      <td>Tags_Closed by Horizzon</td>\n",
              "      <td>1.365663</td>\n",
              "    </tr>\n",
              "    <tr>\n",
              "      <th>1</th>\n",
              "      <td>Total Time Spent on Website</td>\n",
              "      <td>1.126329</td>\n",
              "    </tr>\n",
              "    <tr>\n",
              "      <th>84</th>\n",
              "      <td>Tags_Will revert after reading the email</td>\n",
              "      <td>0.896365</td>\n",
              "    </tr>\n",
              "    <tr>\n",
              "      <th>75</th>\n",
              "      <td>Tags_Lost to EINS</td>\n",
              "      <td>0.863585</td>\n",
              "    </tr>\n",
              "    <tr>\n",
              "      <th>111</th>\n",
              "      <td>Last Notable Activity_SMS Sent</td>\n",
              "      <td>0.761542</td>\n",
              "    </tr>\n",
              "    <tr>\n",
              "      <th>5</th>\n",
              "      <td>Lead Origin_Lead Add Form</td>\n",
              "      <td>0.759451</td>\n",
              "    </tr>\n",
              "    <tr>\n",
              "      <th>41</th>\n",
              "      <td>Last Activity_SMS Sent</td>\n",
              "      <td>0.247067</td>\n",
              "    </tr>\n",
              "    <tr>\n",
              "      <th>6</th>\n",
              "      <td>Lead Origin_Lead Import</td>\n",
              "      <td>0.242197</td>\n",
              "    </tr>\n",
              "    <tr>\n",
              "      <th>22</th>\n",
              "      <td>Lead Source_Welingak Website</td>\n",
              "      <td>0.233986</td>\n",
              "    </tr>\n",
              "    <tr>\n",
              "      <th>56</th>\n",
              "      <td>Specialization_Marketing Management</td>\n",
              "      <td>0.219450</td>\n",
              "    </tr>\n",
              "    <tr>\n",
              "      <th>53</th>\n",
              "      <td>Specialization_Human Resource Management</td>\n",
              "      <td>0.174231</td>\n",
              "    </tr>\n",
              "    <tr>\n",
              "      <th>14</th>\n",
              "      <td>Lead Source_Olark Chat</td>\n",
              "      <td>0.170915</td>\n",
              "    </tr>\n",
              "    <tr>\n",
              "      <th>72</th>\n",
              "      <td>Tags_Interested in Next batch</td>\n",
              "      <td>0.150340</td>\n",
              "    </tr>\n",
              "    <tr>\n",
              "      <th>74</th>\n",
              "      <td>Tags_Lateral student</td>\n",
              "      <td>0.150264</td>\n",
              "    </tr>\n",
              "    <tr>\n",
              "      <th>29</th>\n",
              "      <td>Last Activity_Approached upfront</td>\n",
              "      <td>0.145908</td>\n",
              "    </tr>\n",
              "    <tr>\n",
              "      <th>32</th>\n",
              "      <td>Last Activity_Email Link Clicked</td>\n",
              "      <td>0.145876</td>\n",
              "    </tr>\n",
              "    <tr>\n",
              "      <th>66</th>\n",
              "      <td>Tags_Busy</td>\n",
              "      <td>0.143055</td>\n",
              "    </tr>\n",
              "    <tr>\n",
              "      <th>50</th>\n",
              "      <td>Specialization_Finance Management</td>\n",
              "      <td>0.139049</td>\n",
              "    </tr>\n",
              "    <tr>\n",
              "      <th>46</th>\n",
              "      <td>Specialization_Banking, Investment And Insurance</td>\n",
              "      <td>0.138719</td>\n",
              "    </tr>\n",
              "    <tr>\n",
              "      <th>58</th>\n",
              "      <td>Specialization_Operations Management</td>\n",
              "      <td>0.137368</td>\n",
              "    </tr>\n",
              "  </tbody>\n",
              "</table>\n",
              "</div>\n",
              "      <button class=\"colab-df-convert\" onclick=\"convertToInteractive('df-6820295c-5ceb-4dfe-8fcf-3d2f79c0fb4b')\"\n",
              "              title=\"Convert this dataframe to an interactive table.\"\n",
              "              style=\"display:none;\">\n",
              "        \n",
              "  <svg xmlns=\"http://www.w3.org/2000/svg\" height=\"24px\"viewBox=\"0 0 24 24\"\n",
              "       width=\"24px\">\n",
              "    <path d=\"M0 0h24v24H0V0z\" fill=\"none\"/>\n",
              "    <path d=\"M18.56 5.44l.94 2.06.94-2.06 2.06-.94-2.06-.94-.94-2.06-.94 2.06-2.06.94zm-11 1L8.5 8.5l.94-2.06 2.06-.94-2.06-.94L8.5 2.5l-.94 2.06-2.06.94zm10 10l.94 2.06.94-2.06 2.06-.94-2.06-.94-.94-2.06-.94 2.06-2.06.94z\"/><path d=\"M17.41 7.96l-1.37-1.37c-.4-.4-.92-.59-1.43-.59-.52 0-1.04.2-1.43.59L10.3 9.45l-7.72 7.72c-.78.78-.78 2.05 0 2.83L4 21.41c.39.39.9.59 1.41.59.51 0 1.02-.2 1.41-.59l7.78-7.78 2.81-2.81c.8-.78.8-2.07 0-2.86zM5.41 20L4 18.59l7.72-7.72 1.47 1.35L5.41 20z\"/>\n",
              "  </svg>\n",
              "      </button>\n",
              "      \n",
              "  <style>\n",
              "    .colab-df-container {\n",
              "      display:flex;\n",
              "      flex-wrap:wrap;\n",
              "      gap: 12px;\n",
              "    }\n",
              "\n",
              "    .colab-df-convert {\n",
              "      background-color: #E8F0FE;\n",
              "      border: none;\n",
              "      border-radius: 50%;\n",
              "      cursor: pointer;\n",
              "      display: none;\n",
              "      fill: #1967D2;\n",
              "      height: 32px;\n",
              "      padding: 0 0 0 0;\n",
              "      width: 32px;\n",
              "    }\n",
              "\n",
              "    .colab-df-convert:hover {\n",
              "      background-color: #E2EBFA;\n",
              "      box-shadow: 0px 1px 2px rgba(60, 64, 67, 0.3), 0px 1px 3px 1px rgba(60, 64, 67, 0.15);\n",
              "      fill: #174EA6;\n",
              "    }\n",
              "\n",
              "    [theme=dark] .colab-df-convert {\n",
              "      background-color: #3B4455;\n",
              "      fill: #D2E3FC;\n",
              "    }\n",
              "\n",
              "    [theme=dark] .colab-df-convert:hover {\n",
              "      background-color: #434B5C;\n",
              "      box-shadow: 0px 1px 3px 1px rgba(0, 0, 0, 0.15);\n",
              "      filter: drop-shadow(0px 1px 2px rgba(0, 0, 0, 0.3));\n",
              "      fill: #FFFFFF;\n",
              "    }\n",
              "  </style>\n",
              "\n",
              "      <script>\n",
              "        const buttonEl =\n",
              "          document.querySelector('#df-6820295c-5ceb-4dfe-8fcf-3d2f79c0fb4b button.colab-df-convert');\n",
              "        buttonEl.style.display =\n",
              "          google.colab.kernel.accessAllowed ? 'block' : 'none';\n",
              "\n",
              "        async function convertToInteractive(key) {\n",
              "          const element = document.querySelector('#df-6820295c-5ceb-4dfe-8fcf-3d2f79c0fb4b');\n",
              "          const dataTable =\n",
              "            await google.colab.kernel.invokeFunction('convertToInteractive',\n",
              "                                                     [key], {});\n",
              "          if (!dataTable) return;\n",
              "\n",
              "          const docLinkHtml = 'Like what you see? Visit the ' +\n",
              "            '<a target=\"_blank\" href=https://colab.research.google.com/notebooks/data_table.ipynb>data table notebook</a>'\n",
              "            + ' to learn more about interactive tables.';\n",
              "          element.innerHTML = '';\n",
              "          dataTable['output_type'] = 'display_data';\n",
              "          await google.colab.output.renderOutput(dataTable, element);\n",
              "          const docLink = document.createElement('div');\n",
              "          docLink.innerHTML = docLinkHtml;\n",
              "          element.appendChild(docLink);\n",
              "        }\n",
              "      </script>\n",
              "    </div>\n",
              "  </div>\n",
              "  "
            ]
          },
          "metadata": {},
          "execution_count": 594
        }
      ]
    },
    {
      "cell_type": "markdown",
      "source": [
        "1. Which are the top three variables in your model which contribute most towards the probability of a lead getting converted?"
      ],
      "metadata": {
        "id": "nxsDBnU8nBuI"
      }
    },
    {
      "cell_type": "code",
      "source": [
        "top_3={'Tags':1.336392, 'Total Time Spent on Website':1.181090, 'Lead Origin':0.783084,}\n",
        "Atributes = list(top_3.keys())\n",
        "Importance = list(top_3.values())"
      ],
      "metadata": {
        "id": "0rKpo4H63SG5"
      },
      "execution_count": 595,
      "outputs": []
    },
    {
      "cell_type": "code",
      "source": [
        "fig = plt.figure(figsize = (10, 5))\n",
        "plt.bar(Atributes, Importance, color ='maroon',\n",
        "        width = 0.4)\n",
        "plt.xlabel(\"Attributes\")\n",
        "plt.ylabel(\"Coeficient\")\n",
        "plt.title(\"Top three Imporantce Features\")\n",
        "plt.show()"
      ],
      "metadata": {
        "colab": {
          "base_uri": "https://localhost:8080/",
          "height": 355
        },
        "id": "DOzSqGJL4Ojk",
        "outputId": "3241046c-7cb4-4eae-a567-ca33ddb9e356"
      },
      "execution_count": 596,
      "outputs": [
        {
          "output_type": "display_data",
          "data": {
            "text/plain": [
              "<Figure size 720x360 with 1 Axes>"
            ],
            "image/png": "[encoded data removed]"
          },
          "metadata": {
            "needs_background": "light"
          }
        }
      ]
    },
    {
      "cell_type": "markdown",
      "source": [
        "2. Which are the top three variables in your model which contribute most towards the probability of a lead getting converted?"
      ],
      "metadata": {
        "id": "k_9mBk8X5SWD"
      }
    },
    {
      "cell_type": "code",
      "source": [
        "top_3={'Tags : Closed by Horizzon':1.336392, 'Lead Origin : Lead Add Form':0.783084, 'Last Notable Activity : SMS Sent':0.686017,}\n",
        "Atributes = list(top_3.keys())\n",
        "Importance = list(top_3.values())\n"
      ],
      "metadata": {
        "id": "PiQFZTpz5PhJ"
      },
      "execution_count": 597,
      "outputs": []
    },
    {
      "cell_type": "code",
      "source": [
        "fig = plt.figure(figsize = (10, 5))\n",
        "plt.bar(Atributes, Importance, color ='orange',\n",
        "        width = 0.4)\n",
        "plt.xlabel(\"Attributes\")\n",
        "plt.ylabel(\"Coeficient\")\n",
        "plt.title(\"Top three Imporantce Features\")\n",
        "plt.show()"
      ],
      "metadata": {
        "colab": {
          "base_uri": "https://localhost:8080/",
          "height": 355
        },
        "id": "DeiQmgEB5-Vl",
        "outputId": "08788385-6279-46ca-da21-05fa542af878"
      },
      "execution_count": 598,
      "outputs": [
        {
          "output_type": "display_data",
          "data": {
            "text/plain": [
              "<Figure size 720x360 with 1 Axes>"
            ],
            "image/png": "[encoded data removed]"
          },
          "metadata": {
            "needs_background": "light"
          }
        }
      ]
    },
    {
      "cell_type": "code",
      "source": [
        "from sklearn.metrics import classification_report\n",
        "print(classification_report(y_test,y_pred))"
      ],
      "metadata": {
        "colab": {
          "base_uri": "https://localhost:8080/"
        },
        "id": "URe37YEX5GF_",
        "outputId": "f42cbd57-8d6f-4d11-c749-1f0812e55e56"
      },
      "execution_count": 599,
      "outputs": [
        {
          "output_type": "stream",
          "name": "stdout",
          "text": [
            "              precision    recall  f1-score   support\n",
            "\n",
            "           0       0.89      0.92      0.90      1307\n",
            "           1       0.88      0.82      0.85       873\n",
            "\n",
            "    accuracy                           0.88      2180\n",
            "   macro avg       0.88      0.87      0.88      2180\n",
            "weighted avg       0.88      0.88      0.88      2180\n",
            "\n"
          ]
        }
      ]
    },
    {
      "cell_type": "code",
      "source": [
        "X_train.shape"
      ],
      "metadata": {
        "colab": {
          "base_uri": "https://localhost:8080/"
        },
        "id": "9_tmorGh9sog",
        "outputId": "cc52fe2d-42d0-47dd-863c-07090f57e54b"
      },
      "execution_count": 600,
      "outputs": [
        {
          "output_type": "execute_result",
          "data": {
            "text/plain": [
              "(6539, 115)"
            ]
          },
          "metadata": {},
          "execution_count": 600
        }
      ]
    },
    {
      "cell_type": "code",
      "source": [
        "y_train.shape"
      ],
      "metadata": {
        "colab": {
          "base_uri": "https://localhost:8080/"
        },
        "id": "rT_SqmQV9uvP",
        "outputId": "d16c3940-79b9-406b-d93b-af68c890073f"
      },
      "execution_count": 601,
      "outputs": [
        {
          "output_type": "execute_result",
          "data": {
            "text/plain": [
              "(6539,)"
            ]
          },
          "metadata": {},
          "execution_count": 601
        }
      ]
    },
    {
      "cell_type": "code",
      "source": [
        "prob=pd.DataFrame(model.predict_proba(X_test))"
      ],
      "metadata": {
        "id": "kwkGkRInAXqB"
      },
      "execution_count": 602,
      "outputs": []
    },
    {
      "cell_type": "code",
      "source": [
        "prob"
      ],
      "metadata": {
        "colab": {
          "base_uri": "https://localhost:8080/",
          "height": 424
        },
        "id": "jLYG_6fN31Ye",
        "outputId": "4fba4f09-d193-4650-ad6f-f22224ff47ea"
      },
      "execution_count": 603,
      "outputs": [
        {
          "output_type": "execute_result",
          "data": {
            "text/plain": [
              "             0         1\n",
              "0     0.431928  0.568072\n",
              "1     0.989317  0.010683\n",
              "2     0.103084  0.896916\n",
              "3     0.011476  0.988524\n",
              "4     0.995932  0.004068\n",
              "...        ...       ...\n",
              "2175  0.750911  0.249089\n",
              "2176  0.999677  0.000323\n",
              "2177  0.997526  0.002474\n",
              "2178  0.864467  0.135533\n",
              "2179  0.979922  0.020078\n",
              "\n",
              "[2180 rows x 2 columns]"
            ],
            "text/html": [
              "\n",
              "  <div id=\"df-c99e1f93-879e-4364-af9b-bb83f0012c2b\">\n",
              "    <div class=\"colab-df-container\">\n",
              "      <div>\n",
              "<style scoped>\n",
              "    .dataframe tbody tr th:only-of-type {\n",
              "        vertical-align: middle;\n",
              "    }\n",
              "\n",
              "    .dataframe tbody tr th {\n",
              "        vertical-align: top;\n",
              "    }\n",
              "\n",
              "    .dataframe thead th {\n",
              "        text-align: right;\n",
              "    }\n",
              "</style>\n",
              "<table border=\"1\" class=\"dataframe\">\n",
              "  <thead>\n",
              "    <tr style=\"text-align: right;\">\n",
              "      <th></th>\n",
              "      <th>0</th>\n",
              "      <th>1</th>\n",
              "    </tr>\n",
              "  </thead>\n",
              "  <tbody>\n",
              "    <tr>\n",
              "      <th>0</th>\n",
              "      <td>0.431928</td>\n",
              "      <td>0.568072</td>\n",
              "    </tr>\n",
              "    <tr>\n",
              "      <th>1</th>\n",
              "      <td>0.989317</td>\n",
              "      <td>0.010683</td>\n",
              "    </tr>\n",
              "    <tr>\n",
              "      <th>2</th>\n",
              "      <td>0.103084</td>\n",
              "      <td>0.896916</td>\n",
              "    </tr>\n",
              "    <tr>\n",
              "      <th>3</th>\n",
              "      <td>0.011476</td>\n",
              "      <td>0.988524</td>\n",
              "    </tr>\n",
              "    <tr>\n",
              "      <th>4</th>\n",
              "      <td>0.995932</td>\n",
              "      <td>0.004068</td>\n",
              "    </tr>\n",
              "    <tr>\n",
              "      <th>...</th>\n",
              "      <td>...</td>\n",
              "      <td>...</td>\n",
              "    </tr>\n",
              "    <tr>\n",
              "      <th>2175</th>\n",
              "      <td>0.750911</td>\n",
              "      <td>0.249089</td>\n",
              "    </tr>\n",
              "    <tr>\n",
              "      <th>2176</th>\n",
              "      <td>0.999677</td>\n",
              "      <td>0.000323</td>\n",
              "    </tr>\n",
              "    <tr>\n",
              "      <th>2177</th>\n",
              "      <td>0.997526</td>\n",
              "      <td>0.002474</td>\n",
              "    </tr>\n",
              "    <tr>\n",
              "      <th>2178</th>\n",
              "      <td>0.864467</td>\n",
              "      <td>0.135533</td>\n",
              "    </tr>\n",
              "    <tr>\n",
              "      <th>2179</th>\n",
              "      <td>0.979922</td>\n",
              "      <td>0.020078</td>\n",
              "    </tr>\n",
              "  </tbody>\n",
              "</table>\n",
              "<p>2180 rows × 2 columns</p>\n",
              "</div>\n",
              "      <button class=\"colab-df-convert\" onclick=\"convertToInteractive('df-c99e1f93-879e-4364-af9b-bb83f0012c2b')\"\n",
              "              title=\"Convert this dataframe to an interactive table.\"\n",
              "              style=\"display:none;\">\n",
              "        \n",
              "  <svg xmlns=\"http://www.w3.org/2000/svg\" height=\"24px\"viewBox=\"0 0 24 24\"\n",
              "       width=\"24px\">\n",
              "    <path d=\"M0 0h24v24H0V0z\" fill=\"none\"/>\n",
              "    <path d=\"M18.56 5.44l.94 2.06.94-2.06 2.06-.94-2.06-.94-.94-2.06-.94 2.06-2.06.94zm-11 1L8.5 8.5l.94-2.06 2.06-.94-2.06-.94L8.5 2.5l-.94 2.06-2.06.94zm10 10l.94 2.06.94-2.06 2.06-.94-2.06-.94-.94-2.06-.94 2.06-2.06.94z\"/><path d=\"M17.41 7.96l-1.37-1.37c-.4-.4-.92-.59-1.43-.59-.52 0-1.04.2-1.43.59L10.3 9.45l-7.72 7.72c-.78.78-.78 2.05 0 2.83L4 21.41c.39.39.9.59 1.41.59.51 0 1.02-.2 1.41-.59l7.78-7.78 2.81-2.81c.8-.78.8-2.07 0-2.86zM5.41 20L4 18.59l7.72-7.72 1.47 1.35L5.41 20z\"/>\n",
              "  </svg>\n",
              "      </button>\n",
              "      \n",
              "  <style>\n",
              "    .colab-df-container {\n",
              "      display:flex;\n",
              "      flex-wrap:wrap;\n",
              "      gap: 12px;\n",
              "    }\n",
              "\n",
              "    .colab-df-convert {\n",
              "      background-color: #E8F0FE;\n",
              "      border: none;\n",
              "      border-radius: 50%;\n",
              "      cursor: pointer;\n",
              "      display: none;\n",
              "      fill: #1967D2;\n",
              "      height: 32px;\n",
              "      padding: 0 0 0 0;\n",
              "      width: 32px;\n",
              "    }\n",
              "\n",
              "    .colab-df-convert:hover {\n",
              "      background-color: #E2EBFA;\n",
              "      box-shadow: 0px 1px 2px rgba(60, 64, 67, 0.3), 0px 1px 3px 1px rgba(60, 64, 67, 0.15);\n",
              "      fill: #174EA6;\n",
              "    }\n",
              "\n",
              "    [theme=dark] .colab-df-convert {\n",
              "      background-color: #3B4455;\n",
              "      fill: #D2E3FC;\n",
              "    }\n",
              "\n",
              "    [theme=dark] .colab-df-convert:hover {\n",
              "      background-color: #434B5C;\n",
              "      box-shadow: 0px 1px 3px 1px rgba(0, 0, 0, 0.15);\n",
              "      filter: drop-shadow(0px 1px 2px rgba(0, 0, 0, 0.3));\n",
              "      fill: #FFFFFF;\n",
              "    }\n",
              "  </style>\n",
              "\n",
              "      <script>\n",
              "        const buttonEl =\n",
              "          document.querySelector('#df-c99e1f93-879e-4364-af9b-bb83f0012c2b button.colab-df-convert');\n",
              "        buttonEl.style.display =\n",
              "          google.colab.kernel.accessAllowed ? 'block' : 'none';\n",
              "\n",
              "        async function convertToInteractive(key) {\n",
              "          const element = document.querySelector('#df-c99e1f93-879e-4364-af9b-bb83f0012c2b');\n",
              "          const dataTable =\n",
              "            await google.colab.kernel.invokeFunction('convertToInteractive',\n",
              "                                                     [key], {});\n",
              "          if (!dataTable) return;\n",
              "\n",
              "          const docLinkHtml = 'Like what you see? Visit the ' +\n",
              "            '<a target=\"_blank\" href=https://colab.research.google.com/notebooks/data_table.ipynb>data table notebook</a>'\n",
              "            + ' to learn more about interactive tables.';\n",
              "          element.innerHTML = '';\n",
              "          dataTable['output_type'] = 'display_data';\n",
              "          await google.colab.output.renderOutput(dataTable, element);\n",
              "          const docLink = document.createElement('div');\n",
              "          docLink.innerHTML = docLinkHtml;\n",
              "          element.appendChild(docLink);\n",
              "        }\n",
              "      </script>\n",
              "    </div>\n",
              "  </div>\n",
              "  "
            ]
          },
          "metadata": {},
          "execution_count": 603
        }
      ]
    },
    {
      "cell_type": "code",
      "source": [
        "prob=prob.drop(0,axis=1)"
      ],
      "metadata": {
        "id": "PsV4PP2kAexQ"
      },
      "execution_count": 604,
      "outputs": []
    },
    {
      "cell_type": "code",
      "source": [
        "prob['Lead Scpore']=prob*100"
      ],
      "metadata": {
        "id": "ANe0bp5fk7gY"
      },
      "execution_count": 605,
      "outputs": []
    },
    {
      "cell_type": "code",
      "source": [
        "prob['Converted']=y_pred"
      ],
      "metadata": {
        "id": "bvIhproAlRSA"
      },
      "execution_count": 606,
      "outputs": []
    },
    {
      "cell_type": "code",
      "source": [
        "prob.head()"
      ],
      "metadata": {
        "colab": {
          "base_uri": "https://localhost:8080/",
          "height": 206
        },
        "id": "xtlz5YZdlGRG",
        "outputId": "e3697b09-0b17-405e-e4b6-7c1b56337579"
      },
      "execution_count": 607,
      "outputs": [
        {
          "output_type": "execute_result",
          "data": {
            "text/plain": [
              "          1  Lead Scpore  Converted\n",
              "0  0.568072    56.807170          1\n",
              "1  0.010683     1.068272          0\n",
              "2  0.896916    89.691576          1\n",
              "3  0.988524    98.852404          1\n",
              "4  0.004068     0.406832          0"
            ],
            "text/html": [
              "\n",
              "  <div id=\"df-4f1b6f1b-19bf-4151-9ece-50a4a5df06c8\">\n",
              "    <div class=\"colab-df-container\">\n",
              "      <div>\n",
              "<style scoped>\n",
              "    .dataframe tbody tr th:only-of-type {\n",
              "        vertical-align: middle;\n",
              "    }\n",
              "\n",
              "    .dataframe tbody tr th {\n",
              "        vertical-align: top;\n",
              "    }\n",
              "\n",
              "    .dataframe thead th {\n",
              "        text-align: right;\n",
              "    }\n",
              "</style>\n",
              "<table border=\"1\" class=\"dataframe\">\n",
              "  <thead>\n",
              "    <tr style=\"text-align: right;\">\n",
              "      <th></th>\n",
              "      <th>1</th>\n",
              "      <th>Lead Scpore</th>\n",
              "      <th>Converted</th>\n",
              "    </tr>\n",
              "  </thead>\n",
              "  <tbody>\n",
              "    <tr>\n",
              "      <th>0</th>\n",
              "      <td>0.568072</td>\n",
              "      <td>56.807170</td>\n",
              "      <td>1</td>\n",
              "    </tr>\n",
              "    <tr>\n",
              "      <th>1</th>\n",
              "      <td>0.010683</td>\n",
              "      <td>1.068272</td>\n",
              "      <td>0</td>\n",
              "    </tr>\n",
              "    <tr>\n",
              "      <th>2</th>\n",
              "      <td>0.896916</td>\n",
              "      <td>89.691576</td>\n",
              "      <td>1</td>\n",
              "    </tr>\n",
              "    <tr>\n",
              "      <th>3</th>\n",
              "      <td>0.988524</td>\n",
              "      <td>98.852404</td>\n",
              "      <td>1</td>\n",
              "    </tr>\n",
              "    <tr>\n",
              "      <th>4</th>\n",
              "      <td>0.004068</td>\n",
              "      <td>0.406832</td>\n",
              "      <td>0</td>\n",
              "    </tr>\n",
              "  </tbody>\n",
              "</table>\n",
              "</div>\n",
              "      <button class=\"colab-df-convert\" onclick=\"convertToInteractive('df-4f1b6f1b-19bf-4151-9ece-50a4a5df06c8')\"\n",
              "              title=\"Convert this dataframe to an interactive table.\"\n",
              "              style=\"display:none;\">\n",
              "        \n",
              "  <svg xmlns=\"http://www.w3.org/2000/svg\" height=\"24px\"viewBox=\"0 0 24 24\"\n",
              "       width=\"24px\">\n",
              "    <path d=\"M0 0h24v24H0V0z\" fill=\"none\"/>\n",
              "    <path d=\"M18.56 5.44l.94 2.06.94-2.06 2.06-.94-2.06-.94-.94-2.06-.94 2.06-2.06.94zm-11 1L8.5 8.5l.94-2.06 2.06-.94-2.06-.94L8.5 2.5l-.94 2.06-2.06.94zm10 10l.94 2.06.94-2.06 2.06-.94-2.06-.94-.94-2.06-.94 2.06-2.06.94z\"/><path d=\"M17.41 7.96l-1.37-1.37c-.4-.4-.92-.59-1.43-.59-.52 0-1.04.2-1.43.59L10.3 9.45l-7.72 7.72c-.78.78-.78 2.05 0 2.83L4 21.41c.39.39.9.59 1.41.59.51 0 1.02-.2 1.41-.59l7.78-7.78 2.81-2.81c.8-.78.8-2.07 0-2.86zM5.41 20L4 18.59l7.72-7.72 1.47 1.35L5.41 20z\"/>\n",
              "  </svg>\n",
              "      </button>\n",
              "      \n",
              "  <style>\n",
              "    .colab-df-container {\n",
              "      display:flex;\n",
              "      flex-wrap:wrap;\n",
              "      gap: 12px;\n",
              "    }\n",
              "\n",
              "    .colab-df-convert {\n",
              "      background-color: #E8F0FE;\n",
              "      border: none;\n",
              "      border-radius: 50%;\n",
              "      cursor: pointer;\n",
              "      display: none;\n",
              "      fill: #1967D2;\n",
              "      height: 32px;\n",
              "      padding: 0 0 0 0;\n",
              "      width: 32px;\n",
              "    }\n",
              "\n",
              "    .colab-df-convert:hover {\n",
              "      background-color: #E2EBFA;\n",
              "      box-shadow: 0px 1px 2px rgba(60, 64, 67, 0.3), 0px 1px 3px 1px rgba(60, 64, 67, 0.15);\n",
              "      fill: #174EA6;\n",
              "    }\n",
              "\n",
              "    [theme=dark] .colab-df-convert {\n",
              "      background-color: #3B4455;\n",
              "      fill: #D2E3FC;\n",
              "    }\n",
              "\n",
              "    [theme=dark] .colab-df-convert:hover {\n",
              "      background-color: #434B5C;\n",
              "      box-shadow: 0px 1px 3px 1px rgba(0, 0, 0, 0.15);\n",
              "      filter: drop-shadow(0px 1px 2px rgba(0, 0, 0, 0.3));\n",
              "      fill: #FFFFFF;\n",
              "    }\n",
              "  </style>\n",
              "\n",
              "      <script>\n",
              "        const buttonEl =\n",
              "          document.querySelector('#df-4f1b6f1b-19bf-4151-9ece-50a4a5df06c8 button.colab-df-convert');\n",
              "        buttonEl.style.display =\n",
              "          google.colab.kernel.accessAllowed ? 'block' : 'none';\n",
              "\n",
              "        async function convertToInteractive(key) {\n",
              "          const element = document.querySelector('#df-4f1b6f1b-19bf-4151-9ece-50a4a5df06c8');\n",
              "          const dataTable =\n",
              "            await google.colab.kernel.invokeFunction('convertToInteractive',\n",
              "                                                     [key], {});\n",
              "          if (!dataTable) return;\n",
              "\n",
              "          const docLinkHtml = 'Like what you see? Visit the ' +\n",
              "            '<a target=\"_blank\" href=https://colab.research.google.com/notebooks/data_table.ipynb>data table notebook</a>'\n",
              "            + ' to learn more about interactive tables.';\n",
              "          element.innerHTML = '';\n",
              "          dataTable['output_type'] = 'display_data';\n",
              "          await google.colab.output.renderOutput(dataTable, element);\n",
              "          const docLink = document.createElement('div');\n",
              "          docLink.innerHTML = docLinkHtml;\n",
              "          element.appendChild(docLink);\n",
              "        }\n",
              "      </script>\n",
              "    </div>\n",
              "  </div>\n",
              "  "
            ]
          },
          "metadata": {},
          "execution_count": 607
        }
      ]
    },
    {
      "cell_type": "code",
      "source": [
        "fp=pd.DataFrame(y_test)"
      ],
      "metadata": {
        "id": "jChFwXnODuWr"
      },
      "execution_count": 656,
      "outputs": []
    },
    {
      "cell_type": "code",
      "source": [
        "fp[\"pred\"]=y_pred"
      ],
      "metadata": {
        "id": "EofQNFySDyFr"
      },
      "execution_count": 657,
      "outputs": []
    },
    {
      "cell_type": "code",
      "source": [
        "fp.head()"
      ],
      "metadata": {
        "colab": {
          "base_uri": "https://localhost:8080/",
          "height": 215
        },
        "id": "ouxgibb9_hts",
        "outputId": "dd93344f-61cf-46e2-fd3c-ec444eb10075"
      },
      "execution_count": 658,
      "outputs": [
        {
          "output_type": "execute_result",
          "data": {
            "text/plain": [
              "      Converted  pred\n",
              "708           0     1\n",
              "5565          0     0\n",
              "2856          1     1\n",
              "7496          1     1\n",
              "2625          0     0"
            ],
            "text/html": [
              "\n",
              "  <div id=\"df-04f764cc-cf49-49f3-8f70-7c0bf4d24ad4\">\n",
              "    <div class=\"colab-df-container\">\n",
              "      <div>\n",
              "<style scoped>\n",
              "    .dataframe tbody tr th:only-of-type {\n",
              "        vertical-align: middle;\n",
              "    }\n",
              "\n",
              "    .dataframe tbody tr th {\n",
              "        vertical-align: top;\n",
              "    }\n",
              "\n",
              "    .dataframe thead th {\n",
              "        text-align: right;\n",
              "    }\n",
              "</style>\n",
              "<table border=\"1\" class=\"dataframe\">\n",
              "  <thead>\n",
              "    <tr style=\"text-align: right;\">\n",
              "      <th></th>\n",
              "      <th>Converted</th>\n",
              "      <th>pred</th>\n",
              "    </tr>\n",
              "  </thead>\n",
              "  <tbody>\n",
              "    <tr>\n",
              "      <th>708</th>\n",
              "      <td>0</td>\n",
              "      <td>1</td>\n",
              "    </tr>\n",
              "    <tr>\n",
              "      <th>5565</th>\n",
              "      <td>0</td>\n",
              "      <td>0</td>\n",
              "    </tr>\n",
              "    <tr>\n",
              "      <th>2856</th>\n",
              "      <td>1</td>\n",
              "      <td>1</td>\n",
              "    </tr>\n",
              "    <tr>\n",
              "      <th>7496</th>\n",
              "      <td>1</td>\n",
              "      <td>1</td>\n",
              "    </tr>\n",
              "    <tr>\n",
              "      <th>2625</th>\n",
              "      <td>0</td>\n",
              "      <td>0</td>\n",
              "    </tr>\n",
              "  </tbody>\n",
              "</table>\n",
              "</div>\n",
              "      <button class=\"colab-df-convert\" onclick=\"convertToInteractive('df-04f764cc-cf49-49f3-8f70-7c0bf4d24ad4')\"\n",
              "              title=\"Convert this dataframe to an interactive table.\"\n",
              "              style=\"display:none;\">\n",
              "        \n",
              "  <svg xmlns=\"http://www.w3.org/2000/svg\" height=\"24px\"viewBox=\"0 0 24 24\"\n",
              "       width=\"24px\">\n",
              "    <path d=\"M0 0h24v24H0V0z\" fill=\"none\"/>\n",
              "    <path d=\"M18.56 5.44l.94 2.06.94-2.06 2.06-.94-2.06-.94-.94-2.06-.94 2.06-2.06.94zm-11 1L8.5 8.5l.94-2.06 2.06-.94-2.06-.94L8.5 2.5l-.94 2.06-2.06.94zm10 10l.94 2.06.94-2.06 2.06-.94-2.06-.94-.94-2.06-.94 2.06-2.06.94z\"/><path d=\"M17.41 7.96l-1.37-1.37c-.4-.4-.92-.59-1.43-.59-.52 0-1.04.2-1.43.59L10.3 9.45l-7.72 7.72c-.78.78-.78 2.05 0 2.83L4 21.41c.39.39.9.59 1.41.59.51 0 1.02-.2 1.41-.59l7.78-7.78 2.81-2.81c.8-.78.8-2.07 0-2.86zM5.41 20L4 18.59l7.72-7.72 1.47 1.35L5.41 20z\"/>\n",
              "  </svg>\n",
              "      </button>\n",
              "      \n",
              "  <style>\n",
              "    .colab-df-container {\n",
              "      display:flex;\n",
              "      flex-wrap:wrap;\n",
              "      gap: 12px;\n",
              "    }\n",
              "\n",
              "    .colab-df-convert {\n",
              "      background-color: #E8F0FE;\n",
              "      border: none;\n",
              "      border-radius: 50%;\n",
              "      cursor: pointer;\n",
              "      display: none;\n",
              "      fill: #1967D2;\n",
              "      height: 32px;\n",
              "      padding: 0 0 0 0;\n",
              "      width: 32px;\n",
              "    }\n",
              "\n",
              "    .colab-df-convert:hover {\n",
              "      background-color: #E2EBFA;\n",
              "      box-shadow: 0px 1px 2px rgba(60, 64, 67, 0.3), 0px 1px 3px 1px rgba(60, 64, 67, 0.15);\n",
              "      fill: #174EA6;\n",
              "    }\n",
              "\n",
              "    [theme=dark] .colab-df-convert {\n",
              "      background-color: #3B4455;\n",
              "      fill: #D2E3FC;\n",
              "    }\n",
              "\n",
              "    [theme=dark] .colab-df-convert:hover {\n",
              "      background-color: #434B5C;\n",
              "      box-shadow: 0px 1px 3px 1px rgba(0, 0, 0, 0.15);\n",
              "      filter: drop-shadow(0px 1px 2px rgba(0, 0, 0, 0.3));\n",
              "      fill: #FFFFFF;\n",
              "    }\n",
              "  </style>\n",
              "\n",
              "      <script>\n",
              "        const buttonEl =\n",
              "          document.querySelector('#df-04f764cc-cf49-49f3-8f70-7c0bf4d24ad4 button.colab-df-convert');\n",
              "        buttonEl.style.display =\n",
              "          google.colab.kernel.accessAllowed ? 'block' : 'none';\n",
              "\n",
              "        async function convertToInteractive(key) {\n",
              "          const element = document.querySelector('#df-04f764cc-cf49-49f3-8f70-7c0bf4d24ad4');\n",
              "          const dataTable =\n",
              "            await google.colab.kernel.invokeFunction('convertToInteractive',\n",
              "                                                     [key], {});\n",
              "          if (!dataTable) return;\n",
              "\n",
              "          const docLinkHtml = 'Like what you see? Visit the ' +\n",
              "            '<a target=\"_blank\" href=https://colab.research.google.com/notebooks/data_table.ipynb>data table notebook</a>'\n",
              "            + ' to learn more about interactive tables.';\n",
              "          element.innerHTML = '';\n",
              "          dataTable['output_type'] = 'display_data';\n",
              "          await google.colab.output.renderOutput(dataTable, element);\n",
              "          const docLink = document.createElement('div');\n",
              "          docLink.innerHTML = docLinkHtml;\n",
              "          element.appendChild(docLink);\n",
              "        }\n",
              "      </script>\n",
              "    </div>\n",
              "  </div>\n",
              "  "
            ]
          },
          "metadata": {},
          "execution_count": 658
        }
      ]
    },
    {
      "cell_type": "code",
      "source": [
        "fp.info()"
      ],
      "metadata": {
        "colab": {
          "base_uri": "https://localhost:8080/"
        },
        "id": "dEYH8pPXJiem",
        "outputId": "edb5221a-3a1e-42e5-c83a-923d2c06f58d"
      },
      "execution_count": 687,
      "outputs": [
        {
          "output_type": "stream",
          "name": "stdout",
          "text": [
            "<class 'pandas.core.frame.DataFrame'>\n",
            "Int64Index: 2180 entries, 708 to 1197\n",
            "Data columns (total 3 columns):\n",
            " #   Column     Non-Null Count  Dtype\n",
            "---  ------     --------------  -----\n",
            " 0   Converted  2180 non-null   int64\n",
            " 1   pred       2180 non-null   int64\n",
            " 2   Con        2180 non-null   bool \n",
            "dtypes: bool(1), int64(2)\n",
            "memory usage: 117.8 KB\n"
          ]
        }
      ]
    },
    {
      "cell_type": "code",
      "source": [
        "np.logical_and(y_pred,y_test)"
      ],
      "metadata": {
        "colab": {
          "base_uri": "https://localhost:8080/"
        },
        "id": "EmWduz5uB4B7",
        "outputId": "488df593-969c-4781-f804-34498503bba3"
      },
      "execution_count": 697,
      "outputs": [
        {
          "output_type": "execute_result",
          "data": {
            "text/plain": [
              "708     False\n",
              "5565    False\n",
              "2856     True\n",
              "7496     True\n",
              "2625    False\n",
              "        ...  \n",
              "2252    False\n",
              "8847    False\n",
              "5257    False\n",
              "7562    False\n",
              "1197    False\n",
              "Name: Converted, Length: 2180, dtype: bool"
            ]
          },
          "metadata": {},
          "execution_count": 697
        }
      ]
    },
    {
      "cell_type": "code",
      "source": [],
      "metadata": {
        "id": "o9EVhsnNIY53"
      },
      "execution_count": null,
      "outputs": []
    }
  ]
}